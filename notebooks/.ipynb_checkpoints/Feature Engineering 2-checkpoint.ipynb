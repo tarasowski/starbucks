{
 "cells": [
  {
   "cell_type": "code",
   "execution_count": 2,
   "metadata": {},
   "outputs": [
    {
     "name": "stderr",
     "output_type": "stream",
     "text": [
      "UsageError: Line magic function `%` not found.\n"
     ]
    }
   ],
   "source": [
    "import pandas as pd\n",
    "import numpy as np\n",
    "import math\n",
    "import json\n",
    "import seaborn as sns\n",
    "import matplotlib.pyplot as plt\n",
    "% matplotlib inline\n",
    "pd.set_option('display.max_rows', None)\n",
    "pd.set_option('display.max_columns', 40)\n",
    "pd.set_option('display.width', 500)"
   ]
  },
  {
   "cell_type": "code",
   "execution_count": 27,
   "metadata": {},
   "outputs": [],
   "source": [
    "portfolio = pd.read_json('../input/portfolio.json', orient='records', lines=True)\n",
    "profile = pd.read_json('../input/profile.json', orient='records', lines=True)\n",
    "transcript = pd.read_json('../input/transcript.json', orient='records', lines=True)"
   ]
  },
  {
   "cell_type": "code",
   "execution_count": 28,
   "metadata": {},
   "outputs": [],
   "source": [
    "profile['became_member_on'] = pd.to_datetime(profile['became_member_on'], format='%Y%m%d')\n",
    "profile['became_member_year'] = pd.DatetimeIndex(profile['became_member_on']).year\n",
    "profile['gender'] = profile['gender'].fillna('N')\n",
    "profile['income'] = profile['income'].fillna(profile['income'].median())"
   ]
  },
  {
   "cell_type": "code",
   "execution_count": 29,
   "metadata": {},
   "outputs": [],
   "source": [
    "bins = [10, 20, 30, 40, 50, 60, 70, 80, 90, 120]\n",
    "group_names = ['10-19', '20-29', '30-39', '40-49', '50-59', '60-69', '70-79', '80-89', 'Missing']\n",
    "profile['age_categories'] = pd.cut(profile['age'], bins, labels=group_names)"
   ]
  },
  {
   "cell_type": "code",
   "execution_count": 30,
   "metadata": {},
   "outputs": [],
   "source": [
    "bins = [29999, 40000, 50000, 60000, 70000, 80000, 90000, 100000, 110000, 120000]\n",
    "labels = ['30k-39k', '40k-49k', '50k-59k', '60k-69k', '70k-79k', '80k-89k', '90k-99k', '100k-109k', '110k-120k']\n",
    "profile['income_binned'] = pd.cut(profile['income'], bins=bins, labels=labels)"
   ]
  },
  {
   "cell_type": "code",
   "execution_count": 31,
   "metadata": {},
   "outputs": [],
   "source": [
    "dummies = pd.get_dummies(portfolio['channels'].apply(pd.Series).stack(), prefix='channel').sum(level=0)"
   ]
  },
  {
   "cell_type": "code",
   "execution_count": 32,
   "metadata": {},
   "outputs": [],
   "source": [
    "portfolio = portfolio.merge(dummies, left_index=True, right_index=True)\n",
    "portfolio = portfolio.drop('channels', axis=1)"
   ]
  },
  {
   "cell_type": "code",
   "execution_count": 33,
   "metadata": {},
   "outputs": [],
   "source": [
    "values_df = pd.DataFrame(transcript['value'].tolist())\n",
    "values_df['offerid'] = values_df['offer id'].combine_first(values_df['offer_id'])\n",
    "values_df.drop(['offer id', 'offer_id'], axis=1, inplace=True)\n",
    "index_df = pd.DataFrame({'idx': transcript.index.values.tolist()})\n",
    "combined = index_df.merge(values_df, left_index=True, right_index=True)\n",
    "combined_index = combined.set_index('idx')"
   ]
  },
  {
   "cell_type": "code",
   "execution_count": 34,
   "metadata": {},
   "outputs": [],
   "source": [
    "transcript = transcript.merge(combined_index, left_index=True, right_index=True)"
   ]
  },
  {
   "cell_type": "code",
   "execution_count": 35,
   "metadata": {},
   "outputs": [],
   "source": [
    "transcript = transcript.merge(portfolio, left_on='offerid', right_on='id', how='left')\n",
    "transcript = transcript.rename(columns={'reward_x': 'reward_paid', 'reward_y': 'reward_planned', 'offerid': 'offer_id'})"
   ]
  },
  {
   "cell_type": "code",
   "execution_count": 36,
   "metadata": {},
   "outputs": [
    {
     "data": {
      "text/html": [
       "<div>\n",
       "<style scoped>\n",
       "    .dataframe tbody tr th:only-of-type {\n",
       "        vertical-align: middle;\n",
       "    }\n",
       "\n",
       "    .dataframe tbody tr th {\n",
       "        vertical-align: top;\n",
       "    }\n",
       "\n",
       "    .dataframe thead th {\n",
       "        text-align: right;\n",
       "    }\n",
       "</style>\n",
       "<table border=\"1\" class=\"dataframe\">\n",
       "  <thead>\n",
       "    <tr style=\"text-align: right;\">\n",
       "      <th></th>\n",
       "      <th>person</th>\n",
       "      <th>event</th>\n",
       "      <th>value</th>\n",
       "      <th>time</th>\n",
       "      <th>amount</th>\n",
       "      <th>reward_paid</th>\n",
       "      <th>offer_id</th>\n",
       "      <th>reward_planned</th>\n",
       "      <th>difficulty</th>\n",
       "      <th>duration</th>\n",
       "      <th>offer_type</th>\n",
       "      <th>id</th>\n",
       "      <th>channel_email</th>\n",
       "      <th>channel_mobile</th>\n",
       "      <th>channel_social</th>\n",
       "      <th>channel_web</th>\n",
       "    </tr>\n",
       "  </thead>\n",
       "  <tbody>\n",
       "    <tr>\n",
       "      <td>0</td>\n",
       "      <td>78afa995795e4d85b5d9ceeca43f5fef</td>\n",
       "      <td>offer received</td>\n",
       "      <td>{'offer id': '9b98b8c7a33c4b65b9aebfe6a799e6d9'}</td>\n",
       "      <td>0</td>\n",
       "      <td>NaN</td>\n",
       "      <td>NaN</td>\n",
       "      <td>9b98b8c7a33c4b65b9aebfe6a799e6d9</td>\n",
       "      <td>5.0</td>\n",
       "      <td>5.0</td>\n",
       "      <td>7.0</td>\n",
       "      <td>bogo</td>\n",
       "      <td>9b98b8c7a33c4b65b9aebfe6a799e6d9</td>\n",
       "      <td>1.0</td>\n",
       "      <td>1.0</td>\n",
       "      <td>0.0</td>\n",
       "      <td>1.0</td>\n",
       "    </tr>\n",
       "    <tr>\n",
       "      <td>1</td>\n",
       "      <td>a03223e636434f42ac4c3df47e8bac43</td>\n",
       "      <td>offer received</td>\n",
       "      <td>{'offer id': '0b1e1539f2cc45b7b9fa7c272da2e1d7'}</td>\n",
       "      <td>0</td>\n",
       "      <td>NaN</td>\n",
       "      <td>NaN</td>\n",
       "      <td>0b1e1539f2cc45b7b9fa7c272da2e1d7</td>\n",
       "      <td>5.0</td>\n",
       "      <td>20.0</td>\n",
       "      <td>10.0</td>\n",
       "      <td>discount</td>\n",
       "      <td>0b1e1539f2cc45b7b9fa7c272da2e1d7</td>\n",
       "      <td>1.0</td>\n",
       "      <td>0.0</td>\n",
       "      <td>0.0</td>\n",
       "      <td>1.0</td>\n",
       "    </tr>\n",
       "    <tr>\n",
       "      <td>2</td>\n",
       "      <td>e2127556f4f64592b11af22de27a7932</td>\n",
       "      <td>offer received</td>\n",
       "      <td>{'offer id': '2906b810c7d4411798c6938adc9daaa5'}</td>\n",
       "      <td>0</td>\n",
       "      <td>NaN</td>\n",
       "      <td>NaN</td>\n",
       "      <td>2906b810c7d4411798c6938adc9daaa5</td>\n",
       "      <td>2.0</td>\n",
       "      <td>10.0</td>\n",
       "      <td>7.0</td>\n",
       "      <td>discount</td>\n",
       "      <td>2906b810c7d4411798c6938adc9daaa5</td>\n",
       "      <td>1.0</td>\n",
       "      <td>1.0</td>\n",
       "      <td>0.0</td>\n",
       "      <td>1.0</td>\n",
       "    </tr>\n",
       "    <tr>\n",
       "      <td>3</td>\n",
       "      <td>8ec6ce2a7e7949b1bf142def7d0e0586</td>\n",
       "      <td>offer received</td>\n",
       "      <td>{'offer id': 'fafdcd668e3743c1bb461111dcafc2a4'}</td>\n",
       "      <td>0</td>\n",
       "      <td>NaN</td>\n",
       "      <td>NaN</td>\n",
       "      <td>fafdcd668e3743c1bb461111dcafc2a4</td>\n",
       "      <td>2.0</td>\n",
       "      <td>10.0</td>\n",
       "      <td>10.0</td>\n",
       "      <td>discount</td>\n",
       "      <td>fafdcd668e3743c1bb461111dcafc2a4</td>\n",
       "      <td>1.0</td>\n",
       "      <td>1.0</td>\n",
       "      <td>1.0</td>\n",
       "      <td>1.0</td>\n",
       "    </tr>\n",
       "    <tr>\n",
       "      <td>4</td>\n",
       "      <td>68617ca6246f4fbc85e91a2a49552598</td>\n",
       "      <td>offer received</td>\n",
       "      <td>{'offer id': '4d5c57ea9a6940dd891ad53e9dbe8da0'}</td>\n",
       "      <td>0</td>\n",
       "      <td>NaN</td>\n",
       "      <td>NaN</td>\n",
       "      <td>4d5c57ea9a6940dd891ad53e9dbe8da0</td>\n",
       "      <td>10.0</td>\n",
       "      <td>10.0</td>\n",
       "      <td>5.0</td>\n",
       "      <td>bogo</td>\n",
       "      <td>4d5c57ea9a6940dd891ad53e9dbe8da0</td>\n",
       "      <td>1.0</td>\n",
       "      <td>1.0</td>\n",
       "      <td>1.0</td>\n",
       "      <td>1.0</td>\n",
       "    </tr>\n",
       "  </tbody>\n",
       "</table>\n",
       "</div>"
      ],
      "text/plain": [
       "                             person           event  \\\n",
       "0  78afa995795e4d85b5d9ceeca43f5fef  offer received   \n",
       "1  a03223e636434f42ac4c3df47e8bac43  offer received   \n",
       "2  e2127556f4f64592b11af22de27a7932  offer received   \n",
       "3  8ec6ce2a7e7949b1bf142def7d0e0586  offer received   \n",
       "4  68617ca6246f4fbc85e91a2a49552598  offer received   \n",
       "\n",
       "                                              value  time  amount  \\\n",
       "0  {'offer id': '9b98b8c7a33c4b65b9aebfe6a799e6d9'}     0     NaN   \n",
       "1  {'offer id': '0b1e1539f2cc45b7b9fa7c272da2e1d7'}     0     NaN   \n",
       "2  {'offer id': '2906b810c7d4411798c6938adc9daaa5'}     0     NaN   \n",
       "3  {'offer id': 'fafdcd668e3743c1bb461111dcafc2a4'}     0     NaN   \n",
       "4  {'offer id': '4d5c57ea9a6940dd891ad53e9dbe8da0'}     0     NaN   \n",
       "\n",
       "   reward_paid                          offer_id  reward_planned  difficulty  \\\n",
       "0          NaN  9b98b8c7a33c4b65b9aebfe6a799e6d9             5.0         5.0   \n",
       "1          NaN  0b1e1539f2cc45b7b9fa7c272da2e1d7             5.0        20.0   \n",
       "2          NaN  2906b810c7d4411798c6938adc9daaa5             2.0        10.0   \n",
       "3          NaN  fafdcd668e3743c1bb461111dcafc2a4             2.0        10.0   \n",
       "4          NaN  4d5c57ea9a6940dd891ad53e9dbe8da0            10.0        10.0   \n",
       "\n",
       "   duration offer_type                                id  channel_email  \\\n",
       "0       7.0       bogo  9b98b8c7a33c4b65b9aebfe6a799e6d9            1.0   \n",
       "1      10.0   discount  0b1e1539f2cc45b7b9fa7c272da2e1d7            1.0   \n",
       "2       7.0   discount  2906b810c7d4411798c6938adc9daaa5            1.0   \n",
       "3      10.0   discount  fafdcd668e3743c1bb461111dcafc2a4            1.0   \n",
       "4       5.0       bogo  4d5c57ea9a6940dd891ad53e9dbe8da0            1.0   \n",
       "\n",
       "   channel_mobile  channel_social  channel_web  \n",
       "0             1.0             0.0          1.0  \n",
       "1             0.0             0.0          1.0  \n",
       "2             1.0             0.0          1.0  \n",
       "3             1.0             1.0          1.0  \n",
       "4             1.0             1.0          1.0  "
      ]
     },
     "execution_count": 36,
     "metadata": {},
     "output_type": "execute_result"
    }
   ],
   "source": [
    "transcript.head(5)"
   ]
  },
  {
   "cell_type": "code",
   "execution_count": 37,
   "metadata": {},
   "outputs": [],
   "source": [
    "transcript['amount'] = transcript['amount'].fillna(0)\n",
    "transcript = pd.get_dummies(transcript, columns=['event', 'offer_type'], prefix=None)\n",
    "transcript = transcript.rename(columns={\n",
    "    'event_offer completed': 'event_offer_completed',\n",
    "    'event_offer received': 'event_offer_received',\n",
    "    'event_offer viewed': 'event_offer_viewed'\n",
    "})"
   ]
  },
  {
   "cell_type": "code",
   "execution_count": 38,
   "metadata": {},
   "outputs": [],
   "source": [
    "transcript = transcript.drop(['value', 'id'], axis=1)"
   ]
  },
  {
   "cell_type": "code",
   "execution_count": 39,
   "metadata": {},
   "outputs": [
    {
     "data": {
      "text/html": [
       "<div>\n",
       "<style scoped>\n",
       "    .dataframe tbody tr th:only-of-type {\n",
       "        vertical-align: middle;\n",
       "    }\n",
       "\n",
       "    .dataframe tbody tr th {\n",
       "        vertical-align: top;\n",
       "    }\n",
       "\n",
       "    .dataframe thead th {\n",
       "        text-align: right;\n",
       "    }\n",
       "</style>\n",
       "<table border=\"1\" class=\"dataframe\">\n",
       "  <thead>\n",
       "    <tr style=\"text-align: right;\">\n",
       "      <th></th>\n",
       "      <th>person</th>\n",
       "      <th>time</th>\n",
       "      <th>amount</th>\n",
       "      <th>reward_paid</th>\n",
       "      <th>offer_id</th>\n",
       "      <th>reward_planned</th>\n",
       "      <th>difficulty</th>\n",
       "      <th>duration</th>\n",
       "      <th>channel_email</th>\n",
       "      <th>channel_mobile</th>\n",
       "      <th>channel_social</th>\n",
       "      <th>channel_web</th>\n",
       "      <th>event_offer_completed</th>\n",
       "      <th>event_offer_received</th>\n",
       "      <th>event_offer_viewed</th>\n",
       "      <th>event_transaction</th>\n",
       "      <th>offer_type_bogo</th>\n",
       "      <th>offer_type_discount</th>\n",
       "      <th>offer_type_informational</th>\n",
       "    </tr>\n",
       "  </thead>\n",
       "  <tbody>\n",
       "    <tr>\n",
       "      <td>0</td>\n",
       "      <td>78afa995795e4d85b5d9ceeca43f5fef</td>\n",
       "      <td>0</td>\n",
       "      <td>0.0</td>\n",
       "      <td>NaN</td>\n",
       "      <td>9b98b8c7a33c4b65b9aebfe6a799e6d9</td>\n",
       "      <td>5.0</td>\n",
       "      <td>5.0</td>\n",
       "      <td>7.0</td>\n",
       "      <td>1.0</td>\n",
       "      <td>1.0</td>\n",
       "      <td>0.0</td>\n",
       "      <td>1.0</td>\n",
       "      <td>0</td>\n",
       "      <td>1</td>\n",
       "      <td>0</td>\n",
       "      <td>0</td>\n",
       "      <td>1</td>\n",
       "      <td>0</td>\n",
       "      <td>0</td>\n",
       "    </tr>\n",
       "    <tr>\n",
       "      <td>1</td>\n",
       "      <td>a03223e636434f42ac4c3df47e8bac43</td>\n",
       "      <td>0</td>\n",
       "      <td>0.0</td>\n",
       "      <td>NaN</td>\n",
       "      <td>0b1e1539f2cc45b7b9fa7c272da2e1d7</td>\n",
       "      <td>5.0</td>\n",
       "      <td>20.0</td>\n",
       "      <td>10.0</td>\n",
       "      <td>1.0</td>\n",
       "      <td>0.0</td>\n",
       "      <td>0.0</td>\n",
       "      <td>1.0</td>\n",
       "      <td>0</td>\n",
       "      <td>1</td>\n",
       "      <td>0</td>\n",
       "      <td>0</td>\n",
       "      <td>0</td>\n",
       "      <td>1</td>\n",
       "      <td>0</td>\n",
       "    </tr>\n",
       "    <tr>\n",
       "      <td>2</td>\n",
       "      <td>e2127556f4f64592b11af22de27a7932</td>\n",
       "      <td>0</td>\n",
       "      <td>0.0</td>\n",
       "      <td>NaN</td>\n",
       "      <td>2906b810c7d4411798c6938adc9daaa5</td>\n",
       "      <td>2.0</td>\n",
       "      <td>10.0</td>\n",
       "      <td>7.0</td>\n",
       "      <td>1.0</td>\n",
       "      <td>1.0</td>\n",
       "      <td>0.0</td>\n",
       "      <td>1.0</td>\n",
       "      <td>0</td>\n",
       "      <td>1</td>\n",
       "      <td>0</td>\n",
       "      <td>0</td>\n",
       "      <td>0</td>\n",
       "      <td>1</td>\n",
       "      <td>0</td>\n",
       "    </tr>\n",
       "    <tr>\n",
       "      <td>3</td>\n",
       "      <td>8ec6ce2a7e7949b1bf142def7d0e0586</td>\n",
       "      <td>0</td>\n",
       "      <td>0.0</td>\n",
       "      <td>NaN</td>\n",
       "      <td>fafdcd668e3743c1bb461111dcafc2a4</td>\n",
       "      <td>2.0</td>\n",
       "      <td>10.0</td>\n",
       "      <td>10.0</td>\n",
       "      <td>1.0</td>\n",
       "      <td>1.0</td>\n",
       "      <td>1.0</td>\n",
       "      <td>1.0</td>\n",
       "      <td>0</td>\n",
       "      <td>1</td>\n",
       "      <td>0</td>\n",
       "      <td>0</td>\n",
       "      <td>0</td>\n",
       "      <td>1</td>\n",
       "      <td>0</td>\n",
       "    </tr>\n",
       "    <tr>\n",
       "      <td>4</td>\n",
       "      <td>68617ca6246f4fbc85e91a2a49552598</td>\n",
       "      <td>0</td>\n",
       "      <td>0.0</td>\n",
       "      <td>NaN</td>\n",
       "      <td>4d5c57ea9a6940dd891ad53e9dbe8da0</td>\n",
       "      <td>10.0</td>\n",
       "      <td>10.0</td>\n",
       "      <td>5.0</td>\n",
       "      <td>1.0</td>\n",
       "      <td>1.0</td>\n",
       "      <td>1.0</td>\n",
       "      <td>1.0</td>\n",
       "      <td>0</td>\n",
       "      <td>1</td>\n",
       "      <td>0</td>\n",
       "      <td>0</td>\n",
       "      <td>1</td>\n",
       "      <td>0</td>\n",
       "      <td>0</td>\n",
       "    </tr>\n",
       "  </tbody>\n",
       "</table>\n",
       "</div>"
      ],
      "text/plain": [
       "                             person  time  amount  reward_paid  \\\n",
       "0  78afa995795e4d85b5d9ceeca43f5fef     0     0.0          NaN   \n",
       "1  a03223e636434f42ac4c3df47e8bac43     0     0.0          NaN   \n",
       "2  e2127556f4f64592b11af22de27a7932     0     0.0          NaN   \n",
       "3  8ec6ce2a7e7949b1bf142def7d0e0586     0     0.0          NaN   \n",
       "4  68617ca6246f4fbc85e91a2a49552598     0     0.0          NaN   \n",
       "\n",
       "                           offer_id  reward_planned  difficulty  duration  \\\n",
       "0  9b98b8c7a33c4b65b9aebfe6a799e6d9             5.0         5.0       7.0   \n",
       "1  0b1e1539f2cc45b7b9fa7c272da2e1d7             5.0        20.0      10.0   \n",
       "2  2906b810c7d4411798c6938adc9daaa5             2.0        10.0       7.0   \n",
       "3  fafdcd668e3743c1bb461111dcafc2a4             2.0        10.0      10.0   \n",
       "4  4d5c57ea9a6940dd891ad53e9dbe8da0            10.0        10.0       5.0   \n",
       "\n",
       "   channel_email  channel_mobile  channel_social  channel_web  \\\n",
       "0            1.0             1.0             0.0          1.0   \n",
       "1            1.0             0.0             0.0          1.0   \n",
       "2            1.0             1.0             0.0          1.0   \n",
       "3            1.0             1.0             1.0          1.0   \n",
       "4            1.0             1.0             1.0          1.0   \n",
       "\n",
       "   event_offer_completed  event_offer_received  event_offer_viewed  \\\n",
       "0                      0                     1                   0   \n",
       "1                      0                     1                   0   \n",
       "2                      0                     1                   0   \n",
       "3                      0                     1                   0   \n",
       "4                      0                     1                   0   \n",
       "\n",
       "   event_transaction  offer_type_bogo  offer_type_discount  \\\n",
       "0                  0                1                    0   \n",
       "1                  0                0                    1   \n",
       "2                  0                0                    1   \n",
       "3                  0                0                    1   \n",
       "4                  0                1                    0   \n",
       "\n",
       "   offer_type_informational  \n",
       "0                         0  \n",
       "1                         0  \n",
       "2                         0  \n",
       "3                         0  \n",
       "4                         0  "
      ]
     },
     "execution_count": 39,
     "metadata": {},
     "output_type": "execute_result"
    }
   ],
   "source": [
    "transcript.head(5)"
   ]
  },
  {
   "cell_type": "code",
   "execution_count": 40,
   "metadata": {},
   "outputs": [],
   "source": [
    "# adding general aggregated metrics\n",
    "transcript['total_amount'] = transcript.groupby(['person'], as_index=False)['amount'].transform(np.sum).round()\n",
    "transcript['total_transactions'] = transcript.groupby(['person'], as_index=False)['event_transaction'].transform(np.sum)\n",
    "transcript['total_offers_received'] = transcript.groupby(['person'], as_index=False)['event_offer_received'].transform(np.sum)\n",
    "transcript['total_offers_viewed'] = transcript.groupby(['person'], as_index=False)['event_offer_viewed'].transform(np.sum)\n",
    "transcript['total_offers_completed'] = transcript.groupby(['person'], as_index=False)['event_offer_completed'].transform(np.sum)\n",
    "transcript['total_offers_bogo'] = transcript.loc[transcript['event_offer_received'] == 1, :].groupby(['person'], as_index=False)['offer_type_bogo'].transform(np.sum)\n",
    "transcript['total_offers_discount'] = transcript.loc[transcript['event_offer_received'] == 1, :].groupby(['person'], as_index=False)['offer_type_discount'].transform(np.sum)\n",
    "transcript['total_offers_informational'] = transcript.loc[transcript['event_offer_received'] == 1, :].groupby(['person'], as_index=False)['offer_type_informational'].transform(np.sum)\n",
    "\n",
    "# filling nans for each person with the first found values in the series groupby('person')\n",
    "transcript['total_offers_bogo'] = transcript.groupby(['person'], as_index=False)['total_offers_bogo'].apply(lambda c: c.fillna(0) if c.fillna(0).sum() == 0 else c.fillna(method='ffill').fillna(method='bfill')).reset_index(level=0, drop=True)\n",
    "transcript['total_offers_discount'] = transcript.groupby(['person'], as_index=False)['total_offers_discount'].apply(lambda c: c.fillna(0) if c.fillna(0).sum() == 0 else c.fillna(method='ffill').fillna(method='bfill')).reset_index(level=0, drop=True)\n",
    "transcript['total_offers_informational'] = transcript.groupby(['person'], as_index=False)['total_offers_informational'].apply(lambda c: c.fillna(0) if c.fillna(0).sum() == 0 else c.fillna(method='ffill').fillna(method='bfill')).reset_index(level=0, drop=True)\n",
    "\n",
    "# adding offers that did convert the person\n",
    "transcript['converted_bogo'] = transcript.loc[transcript['event_offer_completed'] == 1, :].groupby(['person'], as_index=False)['offer_type_bogo'].transform(np.sum)\n",
    "transcript['converted_discount'] = transcript.loc[transcript['event_offer_completed'] == 1, :].groupby(['person'], as_index=False)['offer_type_discount'].transform(np.sum)\n",
    "transcript['converted_informational'] = transcript.loc[transcript['event_offer_completed'] == 1, :].groupby(['person'], as_index=False)['offer_type_informational'].transform(np.sum)\n",
    "\n",
    "# filling nans for each person with the first found values in the series groupby('person')\n",
    "transcript['converted_bogo'] = transcript.groupby(['person'], as_index=False)['converted_bogo'].apply(lambda c: c.fillna(0) if c.fillna(0).sum() == 0 else c.fillna(method='ffill').fillna(method='bfill')).reset_index(level=0, drop=True)\n",
    "transcript['converted_discount'] = transcript.groupby(['person'], as_index=False)['converted_discount'].apply(lambda c: c.fillna(0) if c.fillna(0).sum() == 0 else c.fillna(method='ffill').fillna(method='bfill')).reset_index(level=0, drop=True)\n",
    "transcript['converted_informational'] = transcript.groupby(['person'], as_index=False)['converted_informational'].apply(lambda c: c.fillna(0) if c.fillna(0).sum() == 0 else c.fillna(method='ffill').fillna(method='bfill')).reset_index(level=0, drop=True)"
   ]
  },
  {
   "cell_type": "code",
   "execution_count": 41,
   "metadata": {},
   "outputs": [],
   "source": [
    "joined_df = profile.merge(transcript, how='inner', left_on='id', right_on='person')"
   ]
  },
  {
   "cell_type": "code",
   "execution_count": 43,
   "metadata": {},
   "outputs": [
    {
     "ename": "NameError",
     "evalue": "name 'joined_df' is not defined",
     "output_type": "error",
     "traceback": [
      "\u001b[0;31m---------------------------------------------------------------------------\u001b[0m",
      "\u001b[0;31mNameError\u001b[0m                                 Traceback (most recent call last)",
      "\u001b[0;32m<ipython-input-43-2fae05c9b90a>\u001b[0m in \u001b[0;36m<module>\u001b[0;34m\u001b[0m\n\u001b[0;32m----> 1\u001b[0;31m \u001b[0mdf\u001b[0m \u001b[0;34m=\u001b[0m \u001b[0mjoined_df\u001b[0m\u001b[0;34m.\u001b[0m\u001b[0mcopy\u001b[0m\u001b[0;34m(\u001b[0m\u001b[0;34m)\u001b[0m\u001b[0;34m\u001b[0m\u001b[0;34m\u001b[0m\u001b[0m\n\u001b[0m",
      "\u001b[0;31mNameError\u001b[0m: name 'joined_df' is not defined"
     ]
    }
   ],
   "source": [
    "df = joined_df.copy()"
   ]
  },
  {
   "cell_type": "code",
   "execution_count": 72,
   "metadata": {},
   "outputs": [
    {
     "data": {
      "text/html": [
       "<div>\n",
       "<style scoped>\n",
       "    .dataframe tbody tr th:only-of-type {\n",
       "        vertical-align: middle;\n",
       "    }\n",
       "\n",
       "    .dataframe tbody tr th {\n",
       "        vertical-align: top;\n",
       "    }\n",
       "\n",
       "    .dataframe thead th {\n",
       "        text-align: right;\n",
       "    }\n",
       "</style>\n",
       "<table border=\"1\" class=\"dataframe\">\n",
       "  <thead>\n",
       "    <tr style=\"text-align: right;\">\n",
       "      <th></th>\n",
       "      <th>gender</th>\n",
       "      <th>age</th>\n",
       "      <th>id</th>\n",
       "      <th>became_member_on</th>\n",
       "      <th>income</th>\n",
       "      <th>became_member_year</th>\n",
       "      <th>age_categories</th>\n",
       "      <th>income_binned</th>\n",
       "      <th>person</th>\n",
       "      <th>time</th>\n",
       "      <th>amount</th>\n",
       "      <th>reward_paid</th>\n",
       "      <th>offer_id</th>\n",
       "      <th>reward_planned</th>\n",
       "      <th>difficulty</th>\n",
       "      <th>duration</th>\n",
       "      <th>channel_email</th>\n",
       "      <th>channel_mobile</th>\n",
       "      <th>channel_social</th>\n",
       "      <th>channel_web</th>\n",
       "      <th>event_offer_completed</th>\n",
       "      <th>event_offer_received</th>\n",
       "      <th>event_offer_viewed</th>\n",
       "      <th>event_transaction</th>\n",
       "      <th>offer_type_bogo</th>\n",
       "      <th>offer_type_discount</th>\n",
       "      <th>offer_type_informational</th>\n",
       "      <th>total_amount</th>\n",
       "      <th>total_transactions</th>\n",
       "      <th>total_offers_received</th>\n",
       "      <th>total_offers_viewed</th>\n",
       "      <th>total_offers_completed</th>\n",
       "      <th>total_offers_bogo</th>\n",
       "      <th>total_offers_discount</th>\n",
       "      <th>total_offers_informational</th>\n",
       "      <th>converted_bogo</th>\n",
       "      <th>converted_discount</th>\n",
       "      <th>converted_informational</th>\n",
       "    </tr>\n",
       "  </thead>\n",
       "  <tbody>\n",
       "    <tr>\n",
       "      <td>0</td>\n",
       "      <td>N</td>\n",
       "      <td>118</td>\n",
       "      <td>68be06ca386d4c31939f3a4f0e3dd783</td>\n",
       "      <td>2017-02-12</td>\n",
       "      <td>64000.0</td>\n",
       "      <td>2017</td>\n",
       "      <td>Missing</td>\n",
       "      <td>60k-69k</td>\n",
       "      <td>68be06ca386d4c31939f3a4f0e3dd783</td>\n",
       "      <td>168</td>\n",
       "      <td>0.00</td>\n",
       "      <td>NaN</td>\n",
       "      <td>2906b810c7d4411798c6938adc9daaa5</td>\n",
       "      <td>2.0</td>\n",
       "      <td>10.0</td>\n",
       "      <td>7.0</td>\n",
       "      <td>1.0</td>\n",
       "      <td>1.0</td>\n",
       "      <td>0.0</td>\n",
       "      <td>1.0</td>\n",
       "      <td>0</td>\n",
       "      <td>1</td>\n",
       "      <td>0</td>\n",
       "      <td>0</td>\n",
       "      <td>0</td>\n",
       "      <td>1</td>\n",
       "      <td>0</td>\n",
       "      <td>20.0</td>\n",
       "      <td>9</td>\n",
       "      <td>5</td>\n",
       "      <td>5</td>\n",
       "      <td>2</td>\n",
       "      <td>0.0</td>\n",
       "      <td>5.0</td>\n",
       "      <td>0.0</td>\n",
       "      <td>0.0</td>\n",
       "      <td>2.0</td>\n",
       "      <td>0.0</td>\n",
       "    </tr>\n",
       "    <tr>\n",
       "      <td>1</td>\n",
       "      <td>N</td>\n",
       "      <td>118</td>\n",
       "      <td>68be06ca386d4c31939f3a4f0e3dd783</td>\n",
       "      <td>2017-02-12</td>\n",
       "      <td>64000.0</td>\n",
       "      <td>2017</td>\n",
       "      <td>Missing</td>\n",
       "      <td>60k-69k</td>\n",
       "      <td>68be06ca386d4c31939f3a4f0e3dd783</td>\n",
       "      <td>216</td>\n",
       "      <td>0.00</td>\n",
       "      <td>NaN</td>\n",
       "      <td>2906b810c7d4411798c6938adc9daaa5</td>\n",
       "      <td>2.0</td>\n",
       "      <td>10.0</td>\n",
       "      <td>7.0</td>\n",
       "      <td>1.0</td>\n",
       "      <td>1.0</td>\n",
       "      <td>0.0</td>\n",
       "      <td>1.0</td>\n",
       "      <td>0</td>\n",
       "      <td>0</td>\n",
       "      <td>1</td>\n",
       "      <td>0</td>\n",
       "      <td>0</td>\n",
       "      <td>1</td>\n",
       "      <td>0</td>\n",
       "      <td>20.0</td>\n",
       "      <td>9</td>\n",
       "      <td>5</td>\n",
       "      <td>5</td>\n",
       "      <td>2</td>\n",
       "      <td>0.0</td>\n",
       "      <td>5.0</td>\n",
       "      <td>0.0</td>\n",
       "      <td>0.0</td>\n",
       "      <td>2.0</td>\n",
       "      <td>0.0</td>\n",
       "    </tr>\n",
       "    <tr>\n",
       "      <td>2</td>\n",
       "      <td>N</td>\n",
       "      <td>118</td>\n",
       "      <td>68be06ca386d4c31939f3a4f0e3dd783</td>\n",
       "      <td>2017-02-12</td>\n",
       "      <td>64000.0</td>\n",
       "      <td>2017</td>\n",
       "      <td>Missing</td>\n",
       "      <td>60k-69k</td>\n",
       "      <td>68be06ca386d4c31939f3a4f0e3dd783</td>\n",
       "      <td>336</td>\n",
       "      <td>0.00</td>\n",
       "      <td>NaN</td>\n",
       "      <td>0b1e1539f2cc45b7b9fa7c272da2e1d7</td>\n",
       "      <td>5.0</td>\n",
       "      <td>20.0</td>\n",
       "      <td>10.0</td>\n",
       "      <td>1.0</td>\n",
       "      <td>0.0</td>\n",
       "      <td>0.0</td>\n",
       "      <td>1.0</td>\n",
       "      <td>0</td>\n",
       "      <td>1</td>\n",
       "      <td>0</td>\n",
       "      <td>0</td>\n",
       "      <td>0</td>\n",
       "      <td>1</td>\n",
       "      <td>0</td>\n",
       "      <td>20.0</td>\n",
       "      <td>9</td>\n",
       "      <td>5</td>\n",
       "      <td>5</td>\n",
       "      <td>2</td>\n",
       "      <td>0.0</td>\n",
       "      <td>5.0</td>\n",
       "      <td>0.0</td>\n",
       "      <td>0.0</td>\n",
       "      <td>2.0</td>\n",
       "      <td>0.0</td>\n",
       "    </tr>\n",
       "    <tr>\n",
       "      <td>3</td>\n",
       "      <td>N</td>\n",
       "      <td>118</td>\n",
       "      <td>68be06ca386d4c31939f3a4f0e3dd783</td>\n",
       "      <td>2017-02-12</td>\n",
       "      <td>64000.0</td>\n",
       "      <td>2017</td>\n",
       "      <td>Missing</td>\n",
       "      <td>60k-69k</td>\n",
       "      <td>68be06ca386d4c31939f3a4f0e3dd783</td>\n",
       "      <td>348</td>\n",
       "      <td>0.00</td>\n",
       "      <td>NaN</td>\n",
       "      <td>0b1e1539f2cc45b7b9fa7c272da2e1d7</td>\n",
       "      <td>5.0</td>\n",
       "      <td>20.0</td>\n",
       "      <td>10.0</td>\n",
       "      <td>1.0</td>\n",
       "      <td>0.0</td>\n",
       "      <td>0.0</td>\n",
       "      <td>1.0</td>\n",
       "      <td>0</td>\n",
       "      <td>0</td>\n",
       "      <td>1</td>\n",
       "      <td>0</td>\n",
       "      <td>0</td>\n",
       "      <td>1</td>\n",
       "      <td>0</td>\n",
       "      <td>20.0</td>\n",
       "      <td>9</td>\n",
       "      <td>5</td>\n",
       "      <td>5</td>\n",
       "      <td>2</td>\n",
       "      <td>0.0</td>\n",
       "      <td>5.0</td>\n",
       "      <td>0.0</td>\n",
       "      <td>0.0</td>\n",
       "      <td>2.0</td>\n",
       "      <td>0.0</td>\n",
       "    </tr>\n",
       "    <tr>\n",
       "      <td>4</td>\n",
       "      <td>N</td>\n",
       "      <td>118</td>\n",
       "      <td>68be06ca386d4c31939f3a4f0e3dd783</td>\n",
       "      <td>2017-02-12</td>\n",
       "      <td>64000.0</td>\n",
       "      <td>2017</td>\n",
       "      <td>Missing</td>\n",
       "      <td>60k-69k</td>\n",
       "      <td>68be06ca386d4c31939f3a4f0e3dd783</td>\n",
       "      <td>360</td>\n",
       "      <td>0.35</td>\n",
       "      <td>NaN</td>\n",
       "      <td>NaN</td>\n",
       "      <td>NaN</td>\n",
       "      <td>NaN</td>\n",
       "      <td>NaN</td>\n",
       "      <td>NaN</td>\n",
       "      <td>NaN</td>\n",
       "      <td>NaN</td>\n",
       "      <td>NaN</td>\n",
       "      <td>0</td>\n",
       "      <td>0</td>\n",
       "      <td>0</td>\n",
       "      <td>1</td>\n",
       "      <td>0</td>\n",
       "      <td>0</td>\n",
       "      <td>0</td>\n",
       "      <td>20.0</td>\n",
       "      <td>9</td>\n",
       "      <td>5</td>\n",
       "      <td>5</td>\n",
       "      <td>2</td>\n",
       "      <td>0.0</td>\n",
       "      <td>5.0</td>\n",
       "      <td>0.0</td>\n",
       "      <td>0.0</td>\n",
       "      <td>2.0</td>\n",
       "      <td>0.0</td>\n",
       "    </tr>\n",
       "  </tbody>\n",
       "</table>\n",
       "</div>"
      ],
      "text/plain": [
       "  gender  age                                id became_member_on   income  became_member_year age_categories income_binned                            person  time  amount  reward_paid                          offer_id  reward_planned  difficulty  duration  channel_email  channel_mobile  channel_social  channel_web  event_offer_completed  event_offer_received  event_offer_viewed  event_transaction  offer_type_bogo  offer_type_discount  offer_type_informational  total_amount  total_transactions  \\\n",
       "0      N  118  68be06ca386d4c31939f3a4f0e3dd783       2017-02-12  64000.0                2017        Missing       60k-69k  68be06ca386d4c31939f3a4f0e3dd783   168    0.00          NaN  2906b810c7d4411798c6938adc9daaa5             2.0        10.0       7.0            1.0             1.0             0.0          1.0                      0                     1                   0                  0                0                    1                         0          20.0                   9   \n",
       "1      N  118  68be06ca386d4c31939f3a4f0e3dd783       2017-02-12  64000.0                2017        Missing       60k-69k  68be06ca386d4c31939f3a4f0e3dd783   216    0.00          NaN  2906b810c7d4411798c6938adc9daaa5             2.0        10.0       7.0            1.0             1.0             0.0          1.0                      0                     0                   1                  0                0                    1                         0          20.0                   9   \n",
       "2      N  118  68be06ca386d4c31939f3a4f0e3dd783       2017-02-12  64000.0                2017        Missing       60k-69k  68be06ca386d4c31939f3a4f0e3dd783   336    0.00          NaN  0b1e1539f2cc45b7b9fa7c272da2e1d7             5.0        20.0      10.0            1.0             0.0             0.0          1.0                      0                     1                   0                  0                0                    1                         0          20.0                   9   \n",
       "3      N  118  68be06ca386d4c31939f3a4f0e3dd783       2017-02-12  64000.0                2017        Missing       60k-69k  68be06ca386d4c31939f3a4f0e3dd783   348    0.00          NaN  0b1e1539f2cc45b7b9fa7c272da2e1d7             5.0        20.0      10.0            1.0             0.0             0.0          1.0                      0                     0                   1                  0                0                    1                         0          20.0                   9   \n",
       "4      N  118  68be06ca386d4c31939f3a4f0e3dd783       2017-02-12  64000.0                2017        Missing       60k-69k  68be06ca386d4c31939f3a4f0e3dd783   360    0.35          NaN                               NaN             NaN         NaN       NaN            NaN             NaN             NaN          NaN                      0                     0                   0                  1                0                    0                         0          20.0                   9   \n",
       "\n",
       "   total_offers_received  total_offers_viewed  total_offers_completed  total_offers_bogo  total_offers_discount  total_offers_informational  converted_bogo  converted_discount  converted_informational  \n",
       "0                      5                    5                       2                0.0                    5.0                         0.0             0.0                 2.0                      0.0  \n",
       "1                      5                    5                       2                0.0                    5.0                         0.0             0.0                 2.0                      0.0  \n",
       "2                      5                    5                       2                0.0                    5.0                         0.0             0.0                 2.0                      0.0  \n",
       "3                      5                    5                       2                0.0                    5.0                         0.0             0.0                 2.0                      0.0  \n",
       "4                      5                    5                       2                0.0                    5.0                         0.0             0.0                 2.0                      0.0  "
      ]
     },
     "execution_count": 72,
     "metadata": {},
     "output_type": "execute_result"
    }
   ],
   "source": [
    "df.head(5)"
   ]
  },
  {
   "cell_type": "code",
   "execution_count": 43,
   "metadata": {},
   "outputs": [],
   "source": [
    "#df.to_csv('../input/processed.csv', index=False)"
   ]
  },
  {
   "cell_type": "code",
   "execution_count": 106,
   "metadata": {},
   "outputs": [],
   "source": [
    "df = pd.read_csv('../input/processed.csv')"
   ]
  },
  {
   "cell_type": "code",
   "execution_count": 107,
   "metadata": {},
   "outputs": [],
   "source": [
    "no_offer_condition = (df['total_offers_viewed'] == 0) & (df['total_transactions'] > 1)\n",
    "df.loc[no_offer_condition, 'conversion_rate_no_offer'] = 1\n",
    "df.loc[~no_offer_condition, 'conversion_rate_no_offer'] = 0\n",
    "\n",
    "df['conversion_rate_bogo'] = df['converted_bogo'].div(df['total_offers_bogo'].where(df['total_offers_bogo'] != 0, np.nan))\n",
    "df['conversion_rate_discount'] = df['converted_discount'].div(df['total_offers_discount'].where(df['total_offers_discount'] !=0, np.nan))"
   ]
  },
  {
   "cell_type": "code",
   "execution_count": 108,
   "metadata": {},
   "outputs": [
    {
     "data": {
      "text/html": [
       "<div>\n",
       "<style scoped>\n",
       "    .dataframe tbody tr th:only-of-type {\n",
       "        vertical-align: middle;\n",
       "    }\n",
       "\n",
       "    .dataframe tbody tr th {\n",
       "        vertical-align: top;\n",
       "    }\n",
       "\n",
       "    .dataframe thead th {\n",
       "        text-align: right;\n",
       "    }\n",
       "</style>\n",
       "<table border=\"1\" class=\"dataframe\">\n",
       "  <thead>\n",
       "    <tr style=\"text-align: right;\">\n",
       "      <th></th>\n",
       "      <th>total_transactions</th>\n",
       "      <th>total_offers_viewed</th>\n",
       "      <th>conversion_rate_no_offer</th>\n",
       "    </tr>\n",
       "  </thead>\n",
       "  <tbody>\n",
       "    <tr>\n",
       "      <td>0</td>\n",
       "      <td>9</td>\n",
       "      <td>5</td>\n",
       "      <td>0.0</td>\n",
       "    </tr>\n",
       "    <tr>\n",
       "      <td>1</td>\n",
       "      <td>9</td>\n",
       "      <td>5</td>\n",
       "      <td>0.0</td>\n",
       "    </tr>\n",
       "    <tr>\n",
       "      <td>2</td>\n",
       "      <td>9</td>\n",
       "      <td>5</td>\n",
       "      <td>0.0</td>\n",
       "    </tr>\n",
       "    <tr>\n",
       "      <td>3</td>\n",
       "      <td>9</td>\n",
       "      <td>5</td>\n",
       "      <td>0.0</td>\n",
       "    </tr>\n",
       "    <tr>\n",
       "      <td>4</td>\n",
       "      <td>9</td>\n",
       "      <td>5</td>\n",
       "      <td>0.0</td>\n",
       "    </tr>\n",
       "  </tbody>\n",
       "</table>\n",
       "</div>"
      ],
      "text/plain": [
       "   total_transactions  total_offers_viewed  conversion_rate_no_offer\n",
       "0                   9                    5                       0.0\n",
       "1                   9                    5                       0.0\n",
       "2                   9                    5                       0.0\n",
       "3                   9                    5                       0.0\n",
       "4                   9                    5                       0.0"
      ]
     },
     "execution_count": 108,
     "metadata": {},
     "output_type": "execute_result"
    }
   ],
   "source": [
    "df[['total_transactions', 'total_offers_viewed', 'conversion_rate_no_offer']].head(5)"
   ]
  },
  {
   "cell_type": "code",
   "execution_count": 109,
   "metadata": {},
   "outputs": [],
   "source": [
    "def offer_type(df):\n",
    "    bogo = df['conversion_rate_bogo'] > 0.2\n",
    "    discount = df['conversion_rate_discount'] > 0.2\n",
    "    no_offer = df['conversion_rate_no_offer'] == 1\n",
    "    if no_offer:\n",
    "        return 'no_offer'\n",
    "    elif bogo:\n",
    "        return 'bogo'\n",
    "    elif discount:\n",
    "        return 'discount'\n",
    "    else:\n",
    "        return 'none'\n",
    "\n",
    "df['offer_type'] = df.apply(offer_type, axis=1)"
   ]
  },
  {
   "cell_type": "code",
   "execution_count": 7,
   "metadata": {},
   "outputs": [
    {
     "data": {
      "text/html": [
       "<div>\n",
       "<style scoped>\n",
       "    .dataframe tbody tr th:only-of-type {\n",
       "        vertical-align: middle;\n",
       "    }\n",
       "\n",
       "    .dataframe tbody tr th {\n",
       "        vertical-align: top;\n",
       "    }\n",
       "\n",
       "    .dataframe thead th {\n",
       "        text-align: right;\n",
       "    }\n",
       "</style>\n",
       "<table border=\"1\" class=\"dataframe\">\n",
       "  <thead>\n",
       "    <tr style=\"text-align: right;\">\n",
       "      <th></th>\n",
       "      <th>gender</th>\n",
       "      <th>age</th>\n",
       "      <th>id</th>\n",
       "      <th>became_member_on</th>\n",
       "      <th>income</th>\n",
       "      <th>became_member_year</th>\n",
       "      <th>age_categories</th>\n",
       "      <th>income_binned</th>\n",
       "      <th>person</th>\n",
       "      <th>time</th>\n",
       "      <th>...</th>\n",
       "      <th>total_offers_bogo</th>\n",
       "      <th>total_offers_discount</th>\n",
       "      <th>total_offers_informational</th>\n",
       "      <th>converted_bogo</th>\n",
       "      <th>converted_discount</th>\n",
       "      <th>converted_informational</th>\n",
       "      <th>conversion_rate_no_offer</th>\n",
       "      <th>conversion_rate_bogo</th>\n",
       "      <th>conversion_rate_discount</th>\n",
       "      <th>offer_type</th>\n",
       "    </tr>\n",
       "  </thead>\n",
       "  <tbody>\n",
       "    <tr>\n",
       "      <td>0</td>\n",
       "      <td>N</td>\n",
       "      <td>118</td>\n",
       "      <td>68be06ca386d4c31939f3a4f0e3dd783</td>\n",
       "      <td>2017-02-12</td>\n",
       "      <td>64000.0</td>\n",
       "      <td>2017</td>\n",
       "      <td>Missing</td>\n",
       "      <td>60k-69k</td>\n",
       "      <td>68be06ca386d4c31939f3a4f0e3dd783</td>\n",
       "      <td>168</td>\n",
       "      <td>...</td>\n",
       "      <td>0.0</td>\n",
       "      <td>5.0</td>\n",
       "      <td>0.0</td>\n",
       "      <td>0.0</td>\n",
       "      <td>2.0</td>\n",
       "      <td>0.0</td>\n",
       "      <td>0.0</td>\n",
       "      <td>NaN</td>\n",
       "      <td>0.4</td>\n",
       "      <td>discount</td>\n",
       "    </tr>\n",
       "    <tr>\n",
       "      <td>1</td>\n",
       "      <td>N</td>\n",
       "      <td>118</td>\n",
       "      <td>68be06ca386d4c31939f3a4f0e3dd783</td>\n",
       "      <td>2017-02-12</td>\n",
       "      <td>64000.0</td>\n",
       "      <td>2017</td>\n",
       "      <td>Missing</td>\n",
       "      <td>60k-69k</td>\n",
       "      <td>68be06ca386d4c31939f3a4f0e3dd783</td>\n",
       "      <td>216</td>\n",
       "      <td>...</td>\n",
       "      <td>0.0</td>\n",
       "      <td>5.0</td>\n",
       "      <td>0.0</td>\n",
       "      <td>0.0</td>\n",
       "      <td>2.0</td>\n",
       "      <td>0.0</td>\n",
       "      <td>0.0</td>\n",
       "      <td>NaN</td>\n",
       "      <td>0.4</td>\n",
       "      <td>discount</td>\n",
       "    </tr>\n",
       "    <tr>\n",
       "      <td>2</td>\n",
       "      <td>N</td>\n",
       "      <td>118</td>\n",
       "      <td>68be06ca386d4c31939f3a4f0e3dd783</td>\n",
       "      <td>2017-02-12</td>\n",
       "      <td>64000.0</td>\n",
       "      <td>2017</td>\n",
       "      <td>Missing</td>\n",
       "      <td>60k-69k</td>\n",
       "      <td>68be06ca386d4c31939f3a4f0e3dd783</td>\n",
       "      <td>336</td>\n",
       "      <td>...</td>\n",
       "      <td>0.0</td>\n",
       "      <td>5.0</td>\n",
       "      <td>0.0</td>\n",
       "      <td>0.0</td>\n",
       "      <td>2.0</td>\n",
       "      <td>0.0</td>\n",
       "      <td>0.0</td>\n",
       "      <td>NaN</td>\n",
       "      <td>0.4</td>\n",
       "      <td>discount</td>\n",
       "    </tr>\n",
       "    <tr>\n",
       "      <td>3</td>\n",
       "      <td>N</td>\n",
       "      <td>118</td>\n",
       "      <td>68be06ca386d4c31939f3a4f0e3dd783</td>\n",
       "      <td>2017-02-12</td>\n",
       "      <td>64000.0</td>\n",
       "      <td>2017</td>\n",
       "      <td>Missing</td>\n",
       "      <td>60k-69k</td>\n",
       "      <td>68be06ca386d4c31939f3a4f0e3dd783</td>\n",
       "      <td>348</td>\n",
       "      <td>...</td>\n",
       "      <td>0.0</td>\n",
       "      <td>5.0</td>\n",
       "      <td>0.0</td>\n",
       "      <td>0.0</td>\n",
       "      <td>2.0</td>\n",
       "      <td>0.0</td>\n",
       "      <td>0.0</td>\n",
       "      <td>NaN</td>\n",
       "      <td>0.4</td>\n",
       "      <td>discount</td>\n",
       "    </tr>\n",
       "    <tr>\n",
       "      <td>4</td>\n",
       "      <td>N</td>\n",
       "      <td>118</td>\n",
       "      <td>68be06ca386d4c31939f3a4f0e3dd783</td>\n",
       "      <td>2017-02-12</td>\n",
       "      <td>64000.0</td>\n",
       "      <td>2017</td>\n",
       "      <td>Missing</td>\n",
       "      <td>60k-69k</td>\n",
       "      <td>68be06ca386d4c31939f3a4f0e3dd783</td>\n",
       "      <td>360</td>\n",
       "      <td>...</td>\n",
       "      <td>0.0</td>\n",
       "      <td>5.0</td>\n",
       "      <td>0.0</td>\n",
       "      <td>0.0</td>\n",
       "      <td>2.0</td>\n",
       "      <td>0.0</td>\n",
       "      <td>0.0</td>\n",
       "      <td>NaN</td>\n",
       "      <td>0.4</td>\n",
       "      <td>discount</td>\n",
       "    </tr>\n",
       "  </tbody>\n",
       "</table>\n",
       "<p>5 rows × 42 columns</p>\n",
       "</div>"
      ],
      "text/plain": [
       "  gender  age                                id became_member_on   income  \\\n",
       "0      N  118  68be06ca386d4c31939f3a4f0e3dd783       2017-02-12  64000.0   \n",
       "1      N  118  68be06ca386d4c31939f3a4f0e3dd783       2017-02-12  64000.0   \n",
       "2      N  118  68be06ca386d4c31939f3a4f0e3dd783       2017-02-12  64000.0   \n",
       "3      N  118  68be06ca386d4c31939f3a4f0e3dd783       2017-02-12  64000.0   \n",
       "4      N  118  68be06ca386d4c31939f3a4f0e3dd783       2017-02-12  64000.0   \n",
       "\n",
       "   became_member_year age_categories income_binned  \\\n",
       "0                2017        Missing       60k-69k   \n",
       "1                2017        Missing       60k-69k   \n",
       "2                2017        Missing       60k-69k   \n",
       "3                2017        Missing       60k-69k   \n",
       "4                2017        Missing       60k-69k   \n",
       "\n",
       "                             person  time  ...  total_offers_bogo  \\\n",
       "0  68be06ca386d4c31939f3a4f0e3dd783   168  ...                0.0   \n",
       "1  68be06ca386d4c31939f3a4f0e3dd783   216  ...                0.0   \n",
       "2  68be06ca386d4c31939f3a4f0e3dd783   336  ...                0.0   \n",
       "3  68be06ca386d4c31939f3a4f0e3dd783   348  ...                0.0   \n",
       "4  68be06ca386d4c31939f3a4f0e3dd783   360  ...                0.0   \n",
       "\n",
       "   total_offers_discount total_offers_informational  converted_bogo  \\\n",
       "0                    5.0                        0.0             0.0   \n",
       "1                    5.0                        0.0             0.0   \n",
       "2                    5.0                        0.0             0.0   \n",
       "3                    5.0                        0.0             0.0   \n",
       "4                    5.0                        0.0             0.0   \n",
       "\n",
       "   converted_discount  converted_informational  conversion_rate_no_offer  \\\n",
       "0                 2.0                      0.0                       0.0   \n",
       "1                 2.0                      0.0                       0.0   \n",
       "2                 2.0                      0.0                       0.0   \n",
       "3                 2.0                      0.0                       0.0   \n",
       "4                 2.0                      0.0                       0.0   \n",
       "\n",
       "   conversion_rate_bogo  conversion_rate_discount  offer_type  \n",
       "0                   NaN                       0.4    discount  \n",
       "1                   NaN                       0.4    discount  \n",
       "2                   NaN                       0.4    discount  \n",
       "3                   NaN                       0.4    discount  \n",
       "4                   NaN                       0.4    discount  \n",
       "\n",
       "[5 rows x 42 columns]"
      ]
     },
     "execution_count": 7,
     "metadata": {},
     "output_type": "execute_result"
    }
   ],
   "source": [
    "df.head(5)"
   ]
  },
  {
   "cell_type": "code",
   "execution_count": 110,
   "metadata": {},
   "outputs": [
    {
     "data": {
      "text/plain": [
       "Text(0.5, 0, 'offer type')"
      ]
     },
     "execution_count": 110,
     "metadata": {},
     "output_type": "execute_result"
    },
    {
     "data": {
      "image/png": "[encoded data removed]",
      "text/plain": [
       "<Figure size 432x288 with 1 Axes>"
      ]
     },
     "metadata": {
      "needs_background": "light"
     },
     "output_type": "display_data"
    }
   ],
   "source": [
    "df['offer_type'].value_counts().plot(kind='bar', title='Offers by Type').set_xlabel('offer type')"
   ]
  },
  {
   "cell_type": "code",
   "execution_count": 9,
   "metadata": {},
   "outputs": [
    {
     "data": {
      "text/plain": [
       "bogo        188568\n",
       "discount     64692\n",
       "none         52088\n",
       "no_offer      1186\n",
       "Name: offer_type, dtype: int64"
      ]
     },
     "execution_count": 9,
     "metadata": {},
     "output_type": "execute_result"
    }
   ],
   "source": [
    "df['offer_type'].value_counts()"
   ]
  },
  {
   "cell_type": "code",
   "execution_count": 141,
   "metadata": {},
   "outputs": [
    {
     "data": {
      "text/plain": [
       "(306534, 42)"
      ]
     },
     "execution_count": 141,
     "metadata": {},
     "output_type": "execute_result"
    }
   ],
   "source": [
    "df.shape"
   ]
  },
  {
   "cell_type": "code",
   "execution_count": 111,
   "metadata": {},
   "outputs": [],
   "source": [
    "df = df.drop_duplicates(subset='person')"
   ]
  },
  {
   "cell_type": "code",
   "execution_count": 112,
   "metadata": {},
   "outputs": [
    {
     "data": {
      "text/plain": [
       "bogo        9201\n",
       "none        4191\n",
       "discount    3464\n",
       "no_offer     144\n",
       "Name: offer_type, dtype: int64"
      ]
     },
     "execution_count": 112,
     "metadata": {},
     "output_type": "execute_result"
    }
   ],
   "source": [
    "df['offer_type'].value_counts()"
   ]
  },
  {
   "cell_type": "code",
   "execution_count": 113,
   "metadata": {},
   "outputs": [],
   "source": [
    "df = df[['gender', 'income_binned', 'became_member_year''age_categories', 'offer_type']]"
   ]
  },
  {
   "cell_type": "code",
   "execution_count": 114,
   "metadata": {},
   "outputs": [],
   "source": [
    "df = pd.get_dummies(df, columns=['age_categories', 'became_member_year''income_binned', 'gender'])"
   ]
  },
  {
   "cell_type": "code",
   "execution_count": 115,
   "metadata": {},
   "outputs": [
    {
     "data": {
      "text/plain": [
       "Text(0.5, 0, 'offer type')"
      ]
     },
     "execution_count": 115,
     "metadata": {},
     "output_type": "execute_result"
    },
    {
     "data": {
      "image/png": "[encoded data removed]",
      "text/plain": [
       "<Figure size 432x288 with 1 Axes>"
      ]
     },
     "metadata": {
      "needs_background": "light"
     },
     "output_type": "display_data"
    }
   ],
   "source": [
    "df['offer_type'].value_counts().plot(kind='bar', title='Offers by Type').set_xlabel('offer type')"
   ]
  },
  {
   "cell_type": "code",
   "execution_count": 116,
   "metadata": {},
   "outputs": [],
   "source": [
    "# removing none and no_offer type to balance the dataset\n",
    "#df = df[(df['offer_type'] != 'no_offer')]\n",
    "df = df[(df['offer_type'] != 'none')]"
   ]
  },
  {
   "cell_type": "code",
   "execution_count": 117,
   "metadata": {},
   "outputs": [
    {
     "data": {
      "text/plain": [
       "Text(0.5, 0, 'offer type')"
      ]
     },
     "execution_count": 117,
     "metadata": {},
     "output_type": "execute_result"
    },
    {
     "data": {
      "image/png": "[encoded data removed]",
      "text/plain": [
       "<Figure size 432x288 with 1 Axes>"
      ]
     },
     "metadata": {
      "needs_background": "light"
     },
     "output_type": "display_data"
    }
   ],
   "source": [
    "df['offer_type'].value_counts().plot(kind='bar', title='Offers by Type').set_xlabel('offer type')"
   ]
  },
  {
   "cell_type": "code",
   "execution_count": 118,
   "metadata": {},
   "outputs": [],
   "source": [
    "from sklearn.preprocessing import LabelEncoder\n",
    "from sklearn.metrics import recall_score, precision_score, accuracy_score, f1_score\n",
    "\n",
    "X = df.drop('offer_type', axis=1)\n",
    "y = df['offer_type']\n",
    "\n",
    "le = LabelEncoder()\n",
    "y = le.fit_transform(y)"
   ]
  },
  {
   "cell_type": "code",
   "execution_count": 56,
   "metadata": {},
   "outputs": [
    {
     "data": {
      "text/plain": [
       "(12665, 28)"
      ]
     },
     "execution_count": 56,
     "metadata": {},
     "output_type": "execute_result"
    }
   ],
   "source": [
    "X.shape"
   ]
  },
  {
   "cell_type": "code",
   "execution_count": null,
   "metadata": {},
   "outputs": [],
   "source": [
    "#!pip install imbalanced-learn"
   ]
  },
  {
   "cell_type": "code",
   "execution_count": 81,
   "metadata": {},
   "outputs": [],
   "source": [
    "from imblearn.over_sampling import SMOTE\n",
    "\n",
    "oversample = SMOTE()\n",
    "X, y = oversample.fit_resample(X, y)"
   ]
  },
  {
   "cell_type": "code",
   "execution_count": 82,
   "metadata": {},
   "outputs": [
    {
     "data": {
      "text/plain": [
       "(27603, 28)"
      ]
     },
     "execution_count": 82,
     "metadata": {},
     "output_type": "execute_result"
    }
   ],
   "source": [
    "X.shape"
   ]
  },
  {
   "cell_type": "code",
   "execution_count": 119,
   "metadata": {},
   "outputs": [],
   "source": [
    "from sklearn.model_selection import train_test_split\n",
    "\n",
    "X_train, X_test, y_train, y_test = train_test_split(X, y, random_state=7, test_size=0.2)"
   ]
  },
  {
   "cell_type": "code",
   "execution_count": 39,
   "metadata": {},
   "outputs": [
    {
     "data": {
      "text/plain": [
       "SVC(C=1.0, break_ties=False, cache_size=200, class_weight=None, coef0=0.0,\n",
       "    decision_function_shape='ovr', degree=3, gamma='scale', kernel='rbf',\n",
       "    max_iter=-1, probability=False, random_state=None, shrinking=True,\n",
       "    tol=0.001, verbose=False)"
      ]
     },
     "execution_count": 39,
     "metadata": {},
     "output_type": "execute_result"
    }
   ],
   "source": [
    "from sklearn.svm import SVC\n",
    "\n",
    "modelSVC = SVC()\n",
    "modelSVC.fit(X_train, y_train)"
   ]
  },
  {
   "cell_type": "code",
   "execution_count": 40,
   "metadata": {},
   "outputs": [
    {
     "data": {
      "text/plain": [
       "0.5209201231660932"
      ]
     },
     "execution_count": 40,
     "metadata": {},
     "output_type": "execute_result"
    }
   ],
   "source": [
    "prediction = modelSVC.predict(X_test)\n",
    "accuracy_score(y_test, prediction)"
   ]
  },
  {
   "cell_type": "code",
   "execution_count": 120,
   "metadata": {},
   "outputs": [
    {
     "data": {
      "text/plain": [
       "RandomForestClassifier(bootstrap=True, ccp_alpha=0.0, class_weight=None,\n",
       "                       criterion='gini', max_depth=None, max_features='auto',\n",
       "                       max_leaf_nodes=None, max_samples=None,\n",
       "                       min_impurity_decrease=0.0, min_impurity_split=None,\n",
       "                       min_samples_leaf=1, min_samples_split=2,\n",
       "                       min_weight_fraction_leaf=0.0, n_estimators=10,\n",
       "                       n_jobs=None, oob_score=False, random_state=None,\n",
       "                       verbose=0, warm_start=False)"
      ]
     },
     "execution_count": 120,
     "metadata": {},
     "output_type": "execute_result"
    }
   ],
   "source": [
    "from sklearn.ensemble import RandomForestClassifier\n",
    "modelRFC = RandomForestClassifier(n_estimators=10)\n",
    "modelRFC.fit(X_train, y_train)"
   ]
  },
  {
   "cell_type": "code",
   "execution_count": 122,
   "metadata": {},
   "outputs": [
    {
     "name": "stdout",
     "output_type": "stream",
     "text": [
      "accuracy_score:  0.7197501951600312 \n",
      "precision_score:  [0.72704612 0.60645161 0.        ] \n",
      "recall_score:  [0.96685083 0.13091922 0.        ] \n",
      "f1_score:  [0.82997392 0.21534937 0.        ]\n"
     ]
    },
    {
     "name": "stderr",
     "output_type": "stream",
     "text": [
      "/usr/local/lib/python3.7/site-packages/sklearn/metrics/_classification.py:1272: UndefinedMetricWarning: Precision is ill-defined and being set to 0.0 in labels with no predicted samples. Use `zero_division` parameter to control this behavior.\n",
      "  _warn_prf(average, modifier, msg_start, len(result))\n"
     ]
    }
   ],
   "source": [
    "predictionRFC = modelRFC.predict(X_test)\n",
    "print(\n",
    "'accuracy_score: ', accuracy_score(y_test, predictionRFC),\n",
    "'\\nprecision_score: ', precision_score(y_test, predictionRFC, average=None),\n",
    "'\\nrecall_score: ', recall_score(y_test, predictionRFC, average=None),\n",
    "'\\nf1_score: ', f1_score(y_test, predictionRFC, average=None))"
   ]
  },
  {
   "cell_type": "code",
   "execution_count": 123,
   "metadata": {},
   "outputs": [
    {
     "data": {
      "text/plain": [
       "GradientBoostingClassifier(ccp_alpha=0.0, criterion='friedman_mse', init=None,\n",
       "                           learning_rate=0.1, loss='deviance', max_depth=3,\n",
       "                           max_features=None, max_leaf_nodes=None,\n",
       "                           min_impurity_decrease=0.0, min_impurity_split=None,\n",
       "                           min_samples_leaf=1, min_samples_split=2,\n",
       "                           min_weight_fraction_leaf=0.0, n_estimators=100,\n",
       "                           n_iter_no_change=None, presort='deprecated',\n",
       "                           random_state=None, subsample=1.0, tol=0.0001,\n",
       "                           validation_fraction=0.1, verbose=0,\n",
       "                           warm_start=False)"
      ]
     },
     "execution_count": 123,
     "metadata": {},
     "output_type": "execute_result"
    }
   ],
   "source": [
    "from sklearn.ensemble import GradientBoostingClassifier\n",
    "\n",
    "modelGBC = GradientBoostingClassifier()\n",
    "modelGBC.fit(X_train, y_train)"
   ]
  },
  {
   "cell_type": "code",
   "execution_count": 124,
   "metadata": {},
   "outputs": [
    {
     "data": {
      "text/plain": [
       "0.7197501951600312"
      ]
     },
     "execution_count": 124,
     "metadata": {},
     "output_type": "execute_result"
    }
   ],
   "source": [
    "predictGBC = modelGBC.predict(X_test)\n",
    "accuracy_score(y_test, predictGBC)"
   ]
  },
  {
   "cell_type": "code",
   "execution_count": 195,
   "metadata": {},
   "outputs": [
    {
     "name": "stderr",
     "output_type": "stream",
     "text": [
      "/usr/local/lib/python3.7/site-packages/sklearn/model_selection/_split.py:1978: FutureWarning: The default value of cv will change from 3 to 5 in version 0.22. Specify it explicitly to silence this warning.\n",
      "  warnings.warn(CV_WARNING, FutureWarning)\n",
      "[Parallel(n_jobs=1)]: Using backend SequentialBackend with 1 concurrent workers.\n"
     ]
    },
    {
     "name": "stdout",
     "output_type": "stream",
     "text": [
      "Fitting 3 folds for each of 16 candidates, totalling 48 fits\n",
      "[CV] learning_rate=0.003, n_estimators=50 ............................\n",
      "[CV]  learning_rate=0.003, n_estimators=50, score=0.817, total=   0.6s\n",
      "[CV] learning_rate=0.003, n_estimators=50 ............................\n"
     ]
    },
    {
     "name": "stderr",
     "output_type": "stream",
     "text": [
      "[Parallel(n_jobs=1)]: Done   1 out of   1 | elapsed:    0.6s remaining:    0.0s\n"
     ]
    },
    {
     "name": "stdout",
     "output_type": "stream",
     "text": [
      "[CV]  learning_rate=0.003, n_estimators=50, score=0.817, total=   0.5s\n",
      "[CV] learning_rate=0.003, n_estimators=50 ............................\n"
     ]
    },
    {
     "name": "stderr",
     "output_type": "stream",
     "text": [
      "[Parallel(n_jobs=1)]: Done   2 out of   2 | elapsed:    1.1s remaining:    0.0s\n"
     ]
    },
    {
     "name": "stdout",
     "output_type": "stream",
     "text": [
      "[CV]  learning_rate=0.003, n_estimators=50, score=0.817, total=   0.6s\n",
      "[CV] learning_rate=0.003, n_estimators=100 ...........................\n"
     ]
    },
    {
     "name": "stderr",
     "output_type": "stream",
     "text": [
      "[Parallel(n_jobs=1)]: Done   3 out of   3 | elapsed:    1.7s remaining:    0.0s\n"
     ]
    },
    {
     "name": "stdout",
     "output_type": "stream",
     "text": [
      "[CV]  learning_rate=0.003, n_estimators=100, score=0.817, total=   1.1s\n",
      "[CV] learning_rate=0.003, n_estimators=100 ...........................\n"
     ]
    },
    {
     "name": "stderr",
     "output_type": "stream",
     "text": [
      "[Parallel(n_jobs=1)]: Done   4 out of   4 | elapsed:    2.7s remaining:    0.0s\n"
     ]
    },
    {
     "name": "stdout",
     "output_type": "stream",
     "text": [
      "[CV]  learning_rate=0.003, n_estimators=100, score=0.817, total=   1.1s\n",
      "[CV] learning_rate=0.003, n_estimators=100 ...........................\n"
     ]
    },
    {
     "name": "stderr",
     "output_type": "stream",
     "text": [
      "[Parallel(n_jobs=1)]: Done   5 out of   5 | elapsed:    3.8s remaining:    0.0s\n"
     ]
    },
    {
     "name": "stdout",
     "output_type": "stream",
     "text": [
      "[CV]  learning_rate=0.003, n_estimators=100, score=0.817, total=   1.0s\n",
      "[CV] learning_rate=0.003, n_estimators=150 ...........................\n"
     ]
    },
    {
     "name": "stderr",
     "output_type": "stream",
     "text": [
      "[Parallel(n_jobs=1)]: Done   6 out of   6 | elapsed:    4.8s remaining:    0.0s\n"
     ]
    },
    {
     "name": "stdout",
     "output_type": "stream",
     "text": [
      "[CV]  learning_rate=0.003, n_estimators=150, score=0.817, total=   1.7s\n",
      "[CV] learning_rate=0.003, n_estimators=150 ...........................\n"
     ]
    },
    {
     "name": "stderr",
     "output_type": "stream",
     "text": [
      "[Parallel(n_jobs=1)]: Done   7 out of   7 | elapsed:    6.5s remaining:    0.0s\n"
     ]
    },
    {
     "name": "stdout",
     "output_type": "stream",
     "text": [
      "[CV]  learning_rate=0.003, n_estimators=150, score=0.817, total=   1.6s\n",
      "[CV] learning_rate=0.003, n_estimators=150 ...........................\n"
     ]
    },
    {
     "name": "stderr",
     "output_type": "stream",
     "text": [
      "[Parallel(n_jobs=1)]: Done   8 out of   8 | elapsed:    8.1s remaining:    0.0s\n"
     ]
    },
    {
     "name": "stdout",
     "output_type": "stream",
     "text": [
      "[CV]  learning_rate=0.003, n_estimators=150, score=0.817, total=   1.6s\n",
      "[CV] learning_rate=0.003, n_estimators=200 ...........................\n"
     ]
    },
    {
     "name": "stderr",
     "output_type": "stream",
     "text": [
      "[Parallel(n_jobs=1)]: Done   9 out of   9 | elapsed:    9.8s remaining:    0.0s\n"
     ]
    },
    {
     "name": "stdout",
     "output_type": "stream",
     "text": [
      "[CV]  learning_rate=0.003, n_estimators=200, score=0.817, total=   2.1s\n",
      "[CV] learning_rate=0.003, n_estimators=200 ...........................\n",
      "[CV]  learning_rate=0.003, n_estimators=200, score=0.817, total=   2.2s\n",
      "[CV] learning_rate=0.003, n_estimators=200 ...........................\n",
      "[CV]  learning_rate=0.003, n_estimators=200, score=0.817, total=   2.2s\n",
      "[CV] learning_rate=0.03, n_estimators=50 .............................\n",
      "[CV] . learning_rate=0.03, n_estimators=50, score=0.817, total=   0.6s\n",
      "[CV] learning_rate=0.03, n_estimators=50 .............................\n",
      "[CV] . learning_rate=0.03, n_estimators=50, score=0.817, total=   0.6s\n",
      "[CV] learning_rate=0.03, n_estimators=50 .............................\n",
      "[CV] . learning_rate=0.03, n_estimators=50, score=0.817, total=   0.6s\n",
      "[CV] learning_rate=0.03, n_estimators=100 ............................\n",
      "[CV]  learning_rate=0.03, n_estimators=100, score=0.817, total=   1.0s\n",
      "[CV] learning_rate=0.03, n_estimators=100 ............................\n",
      "[CV]  learning_rate=0.03, n_estimators=100, score=0.817, total=   1.1s\n",
      "[CV] learning_rate=0.03, n_estimators=100 ............................\n",
      "[CV]  learning_rate=0.03, n_estimators=100, score=0.817, total=   1.1s\n",
      "[CV] learning_rate=0.03, n_estimators=150 ............................\n",
      "[CV]  learning_rate=0.03, n_estimators=150, score=0.824, total=   1.6s\n",
      "[CV] learning_rate=0.03, n_estimators=150 ............................\n",
      "[CV]  learning_rate=0.03, n_estimators=150, score=0.824, total=   1.4s\n",
      "[CV] learning_rate=0.03, n_estimators=150 ............................\n",
      "[CV]  learning_rate=0.03, n_estimators=150, score=0.828, total=   1.4s\n",
      "[CV] learning_rate=0.03, n_estimators=200 ............................\n",
      "[CV]  learning_rate=0.03, n_estimators=200, score=0.830, total=   2.2s\n",
      "[CV] learning_rate=0.03, n_estimators=200 ............................\n",
      "[CV]  learning_rate=0.03, n_estimators=200, score=0.829, total=   2.2s\n",
      "[CV] learning_rate=0.03, n_estimators=200 ............................\n",
      "[CV]  learning_rate=0.03, n_estimators=200, score=0.828, total=   2.2s\n",
      "[CV] learning_rate=0.3, n_estimators=50 ..............................\n",
      "[CV] .. learning_rate=0.3, n_estimators=50, score=0.830, total=   0.5s\n",
      "[CV] learning_rate=0.3, n_estimators=50 ..............................\n",
      "[CV] .. learning_rate=0.3, n_estimators=50, score=0.831, total=   0.5s\n",
      "[CV] learning_rate=0.3, n_estimators=50 ..............................\n",
      "[CV] .. learning_rate=0.3, n_estimators=50, score=0.828, total=   0.5s\n",
      "[CV] learning_rate=0.3, n_estimators=100 .............................\n",
      "[CV] . learning_rate=0.3, n_estimators=100, score=0.831, total=   1.1s\n",
      "[CV] learning_rate=0.3, n_estimators=100 .............................\n",
      "[CV] . learning_rate=0.3, n_estimators=100, score=0.831, total=   1.1s\n",
      "[CV] learning_rate=0.3, n_estimators=100 .............................\n",
      "[CV] . learning_rate=0.3, n_estimators=100, score=0.828, total=   1.0s\n",
      "[CV] learning_rate=0.3, n_estimators=150 .............................\n",
      "[CV] . learning_rate=0.3, n_estimators=150, score=0.833, total=   1.6s\n",
      "[CV] learning_rate=0.3, n_estimators=150 .............................\n",
      "[CV] . learning_rate=0.3, n_estimators=150, score=0.826, total=   1.6s\n",
      "[CV] learning_rate=0.3, n_estimators=150 .............................\n",
      "[CV] . learning_rate=0.3, n_estimators=150, score=0.831, total=   1.6s\n",
      "[CV] learning_rate=0.3, n_estimators=200 .............................\n",
      "[CV] . learning_rate=0.3, n_estimators=200, score=0.834, total=   2.2s\n",
      "[CV] learning_rate=0.3, n_estimators=200 .............................\n",
      "[CV] . learning_rate=0.3, n_estimators=200, score=0.813, total=   2.1s\n",
      "[CV] learning_rate=0.3, n_estimators=200 .............................\n",
      "[CV] . learning_rate=0.3, n_estimators=200, score=0.829, total=   2.0s\n",
      "[CV] learning_rate=1, n_estimators=50 ................................\n",
      "[CV] .... learning_rate=1, n_estimators=50, score=0.832, total=   0.5s\n",
      "[CV] learning_rate=1, n_estimators=50 ................................\n",
      "[CV] .... learning_rate=1, n_estimators=50, score=0.743, total=   0.5s\n",
      "[CV] learning_rate=1, n_estimators=50 ................................\n",
      "[CV] .... learning_rate=1, n_estimators=50, score=0.829, total=   0.5s\n",
      "[CV] learning_rate=1, n_estimators=100 ...............................\n",
      "[CV] ... learning_rate=1, n_estimators=100, score=0.791, total=   1.1s\n",
      "[CV] learning_rate=1, n_estimators=100 ...............................\n",
      "[CV] ... learning_rate=1, n_estimators=100, score=0.716, total=   1.1s\n",
      "[CV] learning_rate=1, n_estimators=100 ...............................\n",
      "[CV] ... learning_rate=1, n_estimators=100, score=0.830, total=   1.1s\n",
      "[CV] learning_rate=1, n_estimators=150 ...............................\n",
      "[CV] ... learning_rate=1, n_estimators=150, score=0.719, total=   1.5s\n",
      "[CV] learning_rate=1, n_estimators=150 ...............................\n",
      "[CV] ... learning_rate=1, n_estimators=150, score=0.701, total=   1.6s\n",
      "[CV] learning_rate=1, n_estimators=150 ...............................\n",
      "[CV] ... learning_rate=1, n_estimators=150, score=0.831, total=   1.6s\n",
      "[CV] learning_rate=1, n_estimators=200 ...............................\n",
      "[CV] ... learning_rate=1, n_estimators=200, score=0.707, total=   2.2s\n",
      "[CV] learning_rate=1, n_estimators=200 ...............................\n",
      "[CV] ... learning_rate=1, n_estimators=200, score=0.701, total=   2.4s\n",
      "[CV] learning_rate=1, n_estimators=200 ...............................\n",
      "[CV] ... learning_rate=1, n_estimators=200, score=0.830, total=   2.2s\n"
     ]
    },
    {
     "name": "stderr",
     "output_type": "stream",
     "text": [
      "[Parallel(n_jobs=1)]: Done  48 out of  48 | elapsed:  1.1min finished\n"
     ]
    },
    {
     "data": {
      "text/plain": [
       "AdaBoostClassifier(algorithm='SAMME.R', base_estimator=None, learning_rate=0.3,\n",
       "                   n_estimators=100, random_state=7)"
      ]
     },
     "execution_count": 195,
     "metadata": {},
     "output_type": "execute_result"
    }
   ],
   "source": [
    "from sklearn.model_selection import GridSearchCV\n",
    "from sklearn.metrics import make_scorer, accuracy_score\n",
    "from sklearn.ensemble import GradientBoostingClassifier\n",
    "from sklearn.ensemble import AdaBoostClassifier\n",
    "\n",
    "params = {\n",
    "              \"n_estimators\": [50, 100, 150, 200],\n",
    "              \"learning_rate\": [0.003, 0.03, 0.3, 1]\n",
    "             }\n",
    "\n",
    "scorer = make_scorer(accuracy_score)\n",
    "clf = AdaBoostClassifier(random_state=7)\n",
    "\n",
    "grid_obj = GridSearchCV(clf, params, scorer, verbose=10)\n",
    "grid_fit = grid_obj.fit(X_train, y_train)\n",
    "best_clf = grid_fit.best_estimator_\n",
    "best_clf"
   ]
  },
  {
   "cell_type": "code",
   "execution_count": 196,
   "metadata": {},
   "outputs": [
    {
     "data": {
      "text/plain": [
       "0.8253424657534246"
      ]
     },
     "execution_count": 196,
     "metadata": {},
     "output_type": "execute_result"
    }
   ],
   "source": [
    "accuracy_score(y_test, best_clf.predict(X_test))"
   ]
  },
  {
   "cell_type": "code",
   "execution_count": 86,
   "metadata": {},
   "outputs": [
    {
     "name": "stdout",
     "output_type": "stream",
     "text": [
      "Collecting xgboost\n",
      "\u001b[?25l  Downloading https://files.pythonhosted.org/packages/7d/9d/dcd1e61fd0eeea1c2ed4fa32761e437012776d08530666b5ce843b45fc32/xgboost-1.0.1.tar.gz (820kB)\n",
      "\u001b[K     |████████████████████████████████| 829kB 1.3MB/s eta 0:00:01\n",
      "\u001b[?25hRequirement already satisfied: numpy in /usr/local/lib/python3.7/site-packages (from xgboost) (1.17.2)\n",
      "Requirement already satisfied: scipy in /usr/local/lib/python3.7/site-packages (from xgboost) (1.3.1)\n",
      "Building wheels for collected packages: xgboost\n",
      "  Building wheel for xgboost (setup.py) ... \u001b[?25ldone\n",
      "\u001b[?25h  Stored in directory: /Users/tarasowski/Library/Caches/pip/wheels/51/10/c1/d7b4a0cd3e7a3391958df48d09724c3c37be36c22b24c5d9f9\n",
      "Successfully built xgboost\n",
      "Installing collected packages: xgboost\n",
      "Successfully installed xgboost-1.0.1\n"
     ]
    }
   ],
   "source": [
    "#!pip install xgboost"
   ]
  },
  {
   "cell_type": "code",
   "execution_count": 88,
   "metadata": {},
   "outputs": [
    {
     "name": "stdout",
     "output_type": "stream",
     "text": [
      "Accuracy: 71.58%\n"
     ]
    }
   ],
   "source": [
    "from xgboost import XGBClassifier\n",
    "\n",
    "\n",
    "model = XGBClassifier(max_depth=7, n_estimators=300, learning_rate=0.03, random_state=7)\n",
    "model.fit(X_train, y_train)\n",
    "\n",
    "# make predictions for test data\n",
    "y_pred = model.predict(X_test)\n",
    "\n",
    "accuracy = accuracy_score(y_test, y_pred)\n",
    "print(f\"Accuracy: {round(accuracy * 100, 2)}%\")"
   ]
  },
  {
   "cell_type": "code",
   "execution_count": 93,
   "metadata": {},
   "outputs": [
    {
     "name": "stdout",
     "output_type": "stream",
     "text": [
      "Customer attributes: \n",
      " age_categories_10-19       0\n",
      "age_categories_20-29       0\n",
      "age_categories_30-39       0\n",
      "age_categories_40-49       1\n",
      "age_categories_50-59       0\n",
      "age_categories_60-69       0\n",
      "age_categories_70-79       0\n",
      "age_categories_80-89       0\n",
      "age_categories_Missing     0\n",
      "income_binned_100k-109k    0\n",
      "income_binned_110k-120k    0\n",
      "income_binned_30k-39k      0\n",
      "income_binned_40k-49k      0\n",
      "income_binned_50k-59k      0\n",
      "income_binned_60k-69k      1\n",
      "income_binned_70k-79k      0\n",
      "income_binned_80k-89k      0\n",
      "income_binned_90k-99k      0\n",
      "became_member_year_2013    0\n",
      "became_member_year_2014    0\n",
      "became_member_year_2015    0\n",
      "became_member_year_2016    0\n",
      "became_member_year_2017    0\n",
      "became_member_year_2018    1\n",
      "gender_F                   0\n",
      "gender_M                   1\n",
      "gender_N                   0\n",
      "gender_O                   0\n",
      "Name: 124938, dtype: uint8 \n",
      " \n",
      "Prediction (Offer):  bogo \n",
      "Original (Offer):  bogo\n"
     ]
    }
   ],
   "source": [
    "nr = 7\n",
    "print('Customer attributes:', '\\n', X_test.iloc[nr, :], '\\n', \n",
    "      '\\nPrediction (Offer): ', le.inverse_transform([y_pred[nr]])[0],\n",
    "      '\\nOriginal (Offer): ', le.inverse_transform([y_test[nr]])[0])"
   ]
  },
  {
   "cell_type": "code",
   "execution_count": 248,
   "metadata": {},
   "outputs": [],
   "source": [
    "def recommend(attributes, model):\n",
    "    return le.inverse_transform(model.predict(attributes))"
   ]
  },
  {
   "cell_type": "code",
   "execution_count": 249,
   "metadata": {},
   "outputs": [
    {
     "data": {
      "text/plain": [
       "array(['bogo', 'bogo', 'discount', 'bogo', 'bogo', 'discount', 'bogo',\n",
       "       'discount', 'bogo', 'bogo', 'bogo', 'bogo', 'bogo', 'bogo', 'bogo',\n",
       "       'bogo', 'bogo', 'bogo', 'bogo', 'bogo', 'bogo', 'bogo', 'bogo',\n",
       "       'bogo', 'bogo', 'bogo', 'bogo', 'bogo', 'bogo', 'bogo', 'bogo',\n",
       "       'bogo', 'bogo', 'bogo', 'bogo', 'bogo', 'bogo', 'bogo', 'bogo',\n",
       "       'bogo', 'discount', 'bogo', 'bogo', 'discount', 'bogo', 'bogo',\n",
       "       'bogo', 'bogo', 'bogo', 'bogo'], dtype=object)"
      ]
     },
     "execution_count": 249,
     "metadata": {},
     "output_type": "execute_result"
    }
   ],
   "source": [
    "recommend(X_test.iloc[400:450, :], model)"
   ]
  },
  {
   "cell_type": "code",
   "execution_count": 255,
   "metadata": {},
   "outputs": [
    {
     "name": "stdout",
     "output_type": "stream",
     "text": [
      "82.66%\n"
     ]
    },
    {
     "name": "stderr",
     "output_type": "stream",
     "text": [
      "/usr/local/lib/python3.7/site-packages/sklearn/linear_model/logistic.py:432: FutureWarning: Default solver will be changed to 'lbfgs' in 0.22. Specify a solver to silence this warning.\n",
      "  FutureWarning)\n"
     ]
    }
   ],
   "source": [
    "from sklearn.linear_model import LogisticRegression\n",
    "\n",
    "model = LogisticRegression()\n",
    "model.fit(X_train, y_train)\n",
    "\n",
    "print(f'{round(accuracy_score(y_test, model.predict(X_test)) * 100, 2)}%')"
   ]
  },
  {
   "cell_type": "code",
   "execution_count": null,
   "metadata": {},
   "outputs": [],
   "source": []
  }
 ],
 "metadata": {
  "kernelspec": {
   "display_name": "Python 3",
   "language": "python",
   "name": "python3"
  },
  "language_info": {
   "codemirror_mode": {
    "name": "ipython",
    "version": 3
   },
   "file_extension": ".py",
   "mimetype": "text/x-python",
   "name": "python",
   "nbconvert_exporter": "python",
   "pygments_lexer": "ipython3",
   "version": "3.7.4"
  }
 },
 "nbformat": 4,
 "nbformat_minor": 2
}
