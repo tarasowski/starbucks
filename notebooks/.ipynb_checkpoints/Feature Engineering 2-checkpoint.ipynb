{
 "cells": [
  {
   "cell_type": "code",
   "execution_count": 1,
   "metadata": {},
   "outputs": [
    {
     "name": "stderr",
     "output_type": "stream",
     "text": [
      "UsageError: Line magic function `%` not found.\n"
     ]
    }
   ],
   "source": [
    "import pandas as pd\n",
    "import numpy as np\n",
    "import math\n",
    "import json\n",
    "import seaborn as sns\n",
    "import matplotlib.pyplot as plt\n",
    "% matplotlib inline\n",
    "pd.set_option('display.max_colwidth', -1)\n",
    "pd.set_option('display.max_columns', None)"
   ]
  },
  {
   "cell_type": "code",
   "execution_count": 2,
   "metadata": {},
   "outputs": [],
   "source": [
    "portfolio = pd.read_json('../input/portfolio.json', orient='records', lines=True)\n",
    "profile = pd.read_json('../input/profile.json', orient='records', lines=True)\n",
    "transcript = pd.read_json('../input/transcript.json', orient='records', lines=True)"
   ]
  },
  {
   "cell_type": "code",
   "execution_count": 3,
   "metadata": {},
   "outputs": [],
   "source": [
    "profile['became_member_on'] = pd.to_datetime(profile['became_member_on'], format='%Y%m%d')\n",
    "profile['became_member_year'] = pd.DatetimeIndex(profile['became_member_on']).year\n",
    "profile['gender'] = profile['gender'].fillna('N')\n",
    "profile['income'] = profile['income'].fillna(profile['income'].median())"
   ]
  },
  {
   "cell_type": "code",
   "execution_count": 4,
   "metadata": {},
   "outputs": [],
   "source": [
    "bins = [10, 20, 30, 40, 50, 60, 70, 80, 90, 120]\n",
    "group_names = ['10-19', '20-29', '30-39', '40-49', '50-59', '60-69', '70-79', '80-89', 'Missing']\n",
    "profile['age_categories'] = pd.cut(profile['age'], bins, labels=group_names)"
   ]
  },
  {
   "cell_type": "code",
   "execution_count": 26,
   "metadata": {},
   "outputs": [],
   "source": [
    "bins = [29999, 40000, 50000, 60000, 70000, 80000, 90000, 100000, 110000, 120000]\n",
    "labels = ['30k-39k', '40k-49k', '50k-59k', '60k-69k', '70k-79k', '80k-89k', '90k-99k', '100k-109k', '110k-120k']\n",
    "profile['income_binned'] = pd.cut(profile['income'], bins=bins, labels=labels)"
   ]
  },
  {
   "cell_type": "code",
   "execution_count": 5,
   "metadata": {},
   "outputs": [],
   "source": [
    "dummies = pd.get_dummies(portfolio['channels'].apply(pd.Series).stack(), prefix='channel').sum(level=0)"
   ]
  },
  {
   "cell_type": "code",
   "execution_count": 6,
   "metadata": {},
   "outputs": [],
   "source": [
    "portfolio = portfolio.merge(dummies, left_index=True, right_index=True)\n",
    "portfolio = portfolio.drop('channels', axis=1)"
   ]
  },
  {
   "cell_type": "code",
   "execution_count": 7,
   "metadata": {},
   "outputs": [],
   "source": [
    "values_df = pd.DataFrame(transcript['value'].tolist())\n",
    "values_df['offerid'] = values_df['offer id'].combine_first(values_df['offer_id'])\n",
    "values_df.drop(['offer id', 'offer_id'], axis=1, inplace=True)\n",
    "index_df = pd.DataFrame({'idx': transcript.index.values.tolist()})\n",
    "combined = index_df.merge(values_df, left_index=True, right_index=True)\n",
    "combined_index = combined.set_index('idx')"
   ]
  },
  {
   "cell_type": "code",
   "execution_count": 8,
   "metadata": {},
   "outputs": [],
   "source": [
    "transcript = transcript.merge(combined_index, left_index=True, right_index=True)"
   ]
  },
  {
   "cell_type": "code",
   "execution_count": 9,
   "metadata": {},
   "outputs": [],
   "source": [
    "transcript = transcript.merge(portfolio, left_on='offerid', right_on='id', how='left')\n",
    "transcript = transcript.rename(columns={'reward_x': 'reward_paid', 'reward_y': 'reward_planned', 'offerid': 'offer_id'})"
   ]
  },
  {
   "cell_type": "code",
   "execution_count": 10,
   "metadata": {},
   "outputs": [],
   "source": [
    "transcript['amount'] = transcript['amount'].fillna(0)\n",
    "transcript = pd.get_dummies(transcript, columns=['event', 'offer_type'], prefix=None)\n",
    "transcript = transcript.rename(columns={\n",
    "    'event_offer completed': 'event_offer_completed',\n",
    "    'event_offer received': 'event_offer_received',\n",
    "    'event_offer viewed': 'event_offer_viewed'\n",
    "})"
   ]
  },
  {
   "cell_type": "code",
   "execution_count": 11,
   "metadata": {},
   "outputs": [],
   "source": [
    "transcript = transcript.drop(['value', 'id'], axis=1)"
   ]
  },
  {
   "cell_type": "code",
   "execution_count": 12,
   "metadata": {},
   "outputs": [],
   "source": [
    "# adding general aggregated metrics\n",
    "transcript['total_amount'] = transcript.groupby(['person'], as_index=False)['amount'].transform(np.sum).round()\n",
    "transcript['total_transactions'] = transcript.groupby(['person'], as_index=False)['event_transaction'].transform(np.sum)\n",
    "transcript['total_offers_received'] = transcript.groupby(['person'], as_index=False)['event_offer_received'].transform(np.sum)\n",
    "transcript['total_offers_viewed'] = transcript.groupby(['person'], as_index=False)['event_offer_viewed'].transform(np.sum)\n",
    "transcript['total_offers_completed'] = transcript.groupby(['person'], as_index=False)['event_offer_completed'].transform(np.sum)\n",
    "transcript['total_offers_bogo'] = transcript.loc[transcript['event_offer_received'] == 1, :].groupby(['person'], as_index=False)['offer_type_bogo'].transform(np.sum)\n",
    "transcript['total_offers_discount'] = transcript.loc[transcript['event_offer_received'] == 1, :].groupby(['person'], as_index=False)['offer_type_discount'].transform(np.sum)\n",
    "transcript['total_offers_informational'] = transcript.loc[transcript['event_offer_received'] == 1, :].groupby(['person'], as_index=False)['offer_type_informational'].transform(np.sum)\n",
    "\n",
    "# filling nans for each person with the first found values in the series groupby('person')\n",
    "transcript['total_offers_bogo'] = transcript.groupby(['person'], as_index=False)['total_offers_bogo'].apply(lambda c: c.fillna(0) if c.fillna(0).sum() == 0 else c.fillna(method='ffill').fillna(method='bfill')).reset_index(level=0, drop=True)\n",
    "transcript['total_offers_discount'] = transcript.groupby(['person'], as_index=False)['total_offers_discount'].apply(lambda c: c.fillna(0) if c.fillna(0).sum() == 0 else c.fillna(method='ffill').fillna(method='bfill')).reset_index(level=0, drop=True)\n",
    "transcript['total_offers_informational'] = transcript.groupby(['person'], as_index=False)['total_offers_informational'].apply(lambda c: c.fillna(0) if c.fillna(0).sum() == 0 else c.fillna(method='ffill').fillna(method='bfill')).reset_index(level=0, drop=True)\n",
    "\n",
    "# adding offers that did convert the person\n",
    "transcript['converted_bogo'] = transcript.loc[transcript['event_offer_completed'] == 1, :].groupby(['person'], as_index=False)['offer_type_bogo'].transform(np.sum)\n",
    "transcript['converted_discount'] = transcript.loc[transcript['event_offer_completed'] == 1, :].groupby(['person'], as_index=False)['offer_type_discount'].transform(np.sum)\n",
    "transcript['converted_informational'] = transcript.loc[transcript['event_offer_completed'] == 1, :].groupby(['person'], as_index=False)['offer_type_informational'].transform(np.sum)\n",
    "\n",
    "# filling nans for each person with the first found values in the series groupby('person')\n",
    "transcript['converted_bogo'] = transcript.groupby(['person'], as_index=False)['converted_bogo'].apply(lambda c: c.fillna(0) if c.fillna(0).sum() == 0 else c.fillna(method='ffill').fillna(method='bfill')).reset_index(level=0, drop=True)\n",
    "transcript['converted_discount'] = transcript.groupby(['person'], as_index=False)['converted_discount'].apply(lambda c: c.fillna(0) if c.fillna(0).sum() == 0 else c.fillna(method='ffill').fillna(method='bfill')).reset_index(level=0, drop=True)\n",
    "transcript['converted_informational'] = transcript.groupby(['person'], as_index=False)['converted_informational'].apply(lambda c: c.fillna(0) if c.fillna(0).sum() == 0 else c.fillna(method='ffill').fillna(method='bfill')).reset_index(level=0, drop=True)"
   ]
  },
  {
   "cell_type": "code",
   "execution_count": 173,
   "metadata": {},
   "outputs": [],
   "source": [
    "joined_df = profile.merge(transcript, how='inner', left_on='id', right_on='person')"
   ]
  },
  {
   "cell_type": "code",
   "execution_count": 228,
   "metadata": {},
   "outputs": [],
   "source": [
    "df = joined_df.copy()"
   ]
  },
  {
   "cell_type": "code",
   "execution_count": 229,
   "metadata": {},
   "outputs": [],
   "source": [
    "df['conversion_rate_bogo'] = df['converted_bogo'].div(df['total_offers_bogo'].where(df['total_offers_bogo'] != 0, np.nan))\n",
    "df['conversion_rate_discount'] = df['converted_discount'].div(df['total_offers_discount'].where(df['total_offers_discount'] !=0, np.nan))"
   ]
  },
  {
   "cell_type": "code",
   "execution_count": 230,
   "metadata": {},
   "outputs": [
    {
     "data": {
      "text/html": [
       "<div>\n",
       "<style scoped>\n",
       "    .dataframe tbody tr th:only-of-type {\n",
       "        vertical-align: middle;\n",
       "    }\n",
       "\n",
       "    .dataframe tbody tr th {\n",
       "        vertical-align: top;\n",
       "    }\n",
       "\n",
       "    .dataframe thead th {\n",
       "        text-align: right;\n",
       "    }\n",
       "</style>\n",
       "<table border=\"1\" class=\"dataframe\">\n",
       "  <thead>\n",
       "    <tr style=\"text-align: right;\">\n",
       "      <th></th>\n",
       "      <th>gender</th>\n",
       "      <th>age</th>\n",
       "      <th>id</th>\n",
       "      <th>became_member_on</th>\n",
       "      <th>income</th>\n",
       "      <th>became_member_year</th>\n",
       "      <th>age_categories</th>\n",
       "      <th>income_binned</th>\n",
       "      <th>person</th>\n",
       "      <th>time</th>\n",
       "      <th>...</th>\n",
       "      <th>total_offers_viewed</th>\n",
       "      <th>total_offers_completed</th>\n",
       "      <th>total_offers_bogo</th>\n",
       "      <th>total_offers_discount</th>\n",
       "      <th>total_offers_informational</th>\n",
       "      <th>converted_bogo</th>\n",
       "      <th>converted_discount</th>\n",
       "      <th>converted_informational</th>\n",
       "      <th>conversion_rate_bogo</th>\n",
       "      <th>conversion_rate_discount</th>\n",
       "    </tr>\n",
       "  </thead>\n",
       "  <tbody>\n",
       "    <tr>\n",
       "      <td>0</td>\n",
       "      <td>N</td>\n",
       "      <td>118</td>\n",
       "      <td>68be06ca386d4c31939f3a4f0e3dd783</td>\n",
       "      <td>2017-02-12</td>\n",
       "      <td>64000.0</td>\n",
       "      <td>2017</td>\n",
       "      <td>Missing</td>\n",
       "      <td>60k-69k</td>\n",
       "      <td>68be06ca386d4c31939f3a4f0e3dd783</td>\n",
       "      <td>168</td>\n",
       "      <td>...</td>\n",
       "      <td>5</td>\n",
       "      <td>2</td>\n",
       "      <td>0.0</td>\n",
       "      <td>5.0</td>\n",
       "      <td>0.0</td>\n",
       "      <td>0.0</td>\n",
       "      <td>2.0</td>\n",
       "      <td>0.0</td>\n",
       "      <td>NaN</td>\n",
       "      <td>0.4</td>\n",
       "    </tr>\n",
       "    <tr>\n",
       "      <td>1</td>\n",
       "      <td>N</td>\n",
       "      <td>118</td>\n",
       "      <td>68be06ca386d4c31939f3a4f0e3dd783</td>\n",
       "      <td>2017-02-12</td>\n",
       "      <td>64000.0</td>\n",
       "      <td>2017</td>\n",
       "      <td>Missing</td>\n",
       "      <td>60k-69k</td>\n",
       "      <td>68be06ca386d4c31939f3a4f0e3dd783</td>\n",
       "      <td>216</td>\n",
       "      <td>...</td>\n",
       "      <td>5</td>\n",
       "      <td>2</td>\n",
       "      <td>0.0</td>\n",
       "      <td>5.0</td>\n",
       "      <td>0.0</td>\n",
       "      <td>0.0</td>\n",
       "      <td>2.0</td>\n",
       "      <td>0.0</td>\n",
       "      <td>NaN</td>\n",
       "      <td>0.4</td>\n",
       "    </tr>\n",
       "    <tr>\n",
       "      <td>2</td>\n",
       "      <td>N</td>\n",
       "      <td>118</td>\n",
       "      <td>68be06ca386d4c31939f3a4f0e3dd783</td>\n",
       "      <td>2017-02-12</td>\n",
       "      <td>64000.0</td>\n",
       "      <td>2017</td>\n",
       "      <td>Missing</td>\n",
       "      <td>60k-69k</td>\n",
       "      <td>68be06ca386d4c31939f3a4f0e3dd783</td>\n",
       "      <td>336</td>\n",
       "      <td>...</td>\n",
       "      <td>5</td>\n",
       "      <td>2</td>\n",
       "      <td>0.0</td>\n",
       "      <td>5.0</td>\n",
       "      <td>0.0</td>\n",
       "      <td>0.0</td>\n",
       "      <td>2.0</td>\n",
       "      <td>0.0</td>\n",
       "      <td>NaN</td>\n",
       "      <td>0.4</td>\n",
       "    </tr>\n",
       "    <tr>\n",
       "      <td>3</td>\n",
       "      <td>N</td>\n",
       "      <td>118</td>\n",
       "      <td>68be06ca386d4c31939f3a4f0e3dd783</td>\n",
       "      <td>2017-02-12</td>\n",
       "      <td>64000.0</td>\n",
       "      <td>2017</td>\n",
       "      <td>Missing</td>\n",
       "      <td>60k-69k</td>\n",
       "      <td>68be06ca386d4c31939f3a4f0e3dd783</td>\n",
       "      <td>348</td>\n",
       "      <td>...</td>\n",
       "      <td>5</td>\n",
       "      <td>2</td>\n",
       "      <td>0.0</td>\n",
       "      <td>5.0</td>\n",
       "      <td>0.0</td>\n",
       "      <td>0.0</td>\n",
       "      <td>2.0</td>\n",
       "      <td>0.0</td>\n",
       "      <td>NaN</td>\n",
       "      <td>0.4</td>\n",
       "    </tr>\n",
       "    <tr>\n",
       "      <td>4</td>\n",
       "      <td>N</td>\n",
       "      <td>118</td>\n",
       "      <td>68be06ca386d4c31939f3a4f0e3dd783</td>\n",
       "      <td>2017-02-12</td>\n",
       "      <td>64000.0</td>\n",
       "      <td>2017</td>\n",
       "      <td>Missing</td>\n",
       "      <td>60k-69k</td>\n",
       "      <td>68be06ca386d4c31939f3a4f0e3dd783</td>\n",
       "      <td>360</td>\n",
       "      <td>...</td>\n",
       "      <td>5</td>\n",
       "      <td>2</td>\n",
       "      <td>0.0</td>\n",
       "      <td>5.0</td>\n",
       "      <td>0.0</td>\n",
       "      <td>0.0</td>\n",
       "      <td>2.0</td>\n",
       "      <td>0.0</td>\n",
       "      <td>NaN</td>\n",
       "      <td>0.4</td>\n",
       "    </tr>\n",
       "    <tr>\n",
       "      <td>5</td>\n",
       "      <td>N</td>\n",
       "      <td>118</td>\n",
       "      <td>68be06ca386d4c31939f3a4f0e3dd783</td>\n",
       "      <td>2017-02-12</td>\n",
       "      <td>64000.0</td>\n",
       "      <td>2017</td>\n",
       "      <td>Missing</td>\n",
       "      <td>60k-69k</td>\n",
       "      <td>68be06ca386d4c31939f3a4f0e3dd783</td>\n",
       "      <td>408</td>\n",
       "      <td>...</td>\n",
       "      <td>5</td>\n",
       "      <td>2</td>\n",
       "      <td>0.0</td>\n",
       "      <td>5.0</td>\n",
       "      <td>0.0</td>\n",
       "      <td>0.0</td>\n",
       "      <td>2.0</td>\n",
       "      <td>0.0</td>\n",
       "      <td>NaN</td>\n",
       "      <td>0.4</td>\n",
       "    </tr>\n",
       "    <tr>\n",
       "      <td>6</td>\n",
       "      <td>N</td>\n",
       "      <td>118</td>\n",
       "      <td>68be06ca386d4c31939f3a4f0e3dd783</td>\n",
       "      <td>2017-02-12</td>\n",
       "      <td>64000.0</td>\n",
       "      <td>2017</td>\n",
       "      <td>Missing</td>\n",
       "      <td>60k-69k</td>\n",
       "      <td>68be06ca386d4c31939f3a4f0e3dd783</td>\n",
       "      <td>408</td>\n",
       "      <td>...</td>\n",
       "      <td>5</td>\n",
       "      <td>2</td>\n",
       "      <td>0.0</td>\n",
       "      <td>5.0</td>\n",
       "      <td>0.0</td>\n",
       "      <td>0.0</td>\n",
       "      <td>2.0</td>\n",
       "      <td>0.0</td>\n",
       "      <td>NaN</td>\n",
       "      <td>0.4</td>\n",
       "    </tr>\n",
       "    <tr>\n",
       "      <td>7</td>\n",
       "      <td>N</td>\n",
       "      <td>118</td>\n",
       "      <td>68be06ca386d4c31939f3a4f0e3dd783</td>\n",
       "      <td>2017-02-12</td>\n",
       "      <td>64000.0</td>\n",
       "      <td>2017</td>\n",
       "      <td>Missing</td>\n",
       "      <td>60k-69k</td>\n",
       "      <td>68be06ca386d4c31939f3a4f0e3dd783</td>\n",
       "      <td>414</td>\n",
       "      <td>...</td>\n",
       "      <td>5</td>\n",
       "      <td>2</td>\n",
       "      <td>0.0</td>\n",
       "      <td>5.0</td>\n",
       "      <td>0.0</td>\n",
       "      <td>0.0</td>\n",
       "      <td>2.0</td>\n",
       "      <td>0.0</td>\n",
       "      <td>NaN</td>\n",
       "      <td>0.4</td>\n",
       "    </tr>\n",
       "    <tr>\n",
       "      <td>8</td>\n",
       "      <td>N</td>\n",
       "      <td>118</td>\n",
       "      <td>68be06ca386d4c31939f3a4f0e3dd783</td>\n",
       "      <td>2017-02-12</td>\n",
       "      <td>64000.0</td>\n",
       "      <td>2017</td>\n",
       "      <td>Missing</td>\n",
       "      <td>60k-69k</td>\n",
       "      <td>68be06ca386d4c31939f3a4f0e3dd783</td>\n",
       "      <td>444</td>\n",
       "      <td>...</td>\n",
       "      <td>5</td>\n",
       "      <td>2</td>\n",
       "      <td>0.0</td>\n",
       "      <td>5.0</td>\n",
       "      <td>0.0</td>\n",
       "      <td>0.0</td>\n",
       "      <td>2.0</td>\n",
       "      <td>0.0</td>\n",
       "      <td>NaN</td>\n",
       "      <td>0.4</td>\n",
       "    </tr>\n",
       "    <tr>\n",
       "      <td>9</td>\n",
       "      <td>N</td>\n",
       "      <td>118</td>\n",
       "      <td>68be06ca386d4c31939f3a4f0e3dd783</td>\n",
       "      <td>2017-02-12</td>\n",
       "      <td>64000.0</td>\n",
       "      <td>2017</td>\n",
       "      <td>Missing</td>\n",
       "      <td>60k-69k</td>\n",
       "      <td>68be06ca386d4c31939f3a4f0e3dd783</td>\n",
       "      <td>504</td>\n",
       "      <td>...</td>\n",
       "      <td>5</td>\n",
       "      <td>2</td>\n",
       "      <td>0.0</td>\n",
       "      <td>5.0</td>\n",
       "      <td>0.0</td>\n",
       "      <td>0.0</td>\n",
       "      <td>2.0</td>\n",
       "      <td>0.0</td>\n",
       "      <td>NaN</td>\n",
       "      <td>0.4</td>\n",
       "    </tr>\n",
       "  </tbody>\n",
       "</table>\n",
       "<p>10 rows × 40 columns</p>\n",
       "</div>"
      ],
      "text/plain": [
       "  gender  age                                id became_member_on   income  \\\n",
       "0      N  118  68be06ca386d4c31939f3a4f0e3dd783       2017-02-12  64000.0   \n",
       "1      N  118  68be06ca386d4c31939f3a4f0e3dd783       2017-02-12  64000.0   \n",
       "2      N  118  68be06ca386d4c31939f3a4f0e3dd783       2017-02-12  64000.0   \n",
       "3      N  118  68be06ca386d4c31939f3a4f0e3dd783       2017-02-12  64000.0   \n",
       "4      N  118  68be06ca386d4c31939f3a4f0e3dd783       2017-02-12  64000.0   \n",
       "5      N  118  68be06ca386d4c31939f3a4f0e3dd783       2017-02-12  64000.0   \n",
       "6      N  118  68be06ca386d4c31939f3a4f0e3dd783       2017-02-12  64000.0   \n",
       "7      N  118  68be06ca386d4c31939f3a4f0e3dd783       2017-02-12  64000.0   \n",
       "8      N  118  68be06ca386d4c31939f3a4f0e3dd783       2017-02-12  64000.0   \n",
       "9      N  118  68be06ca386d4c31939f3a4f0e3dd783       2017-02-12  64000.0   \n",
       "\n",
       "   became_member_year age_categories income_binned  \\\n",
       "0                2017        Missing       60k-69k   \n",
       "1                2017        Missing       60k-69k   \n",
       "2                2017        Missing       60k-69k   \n",
       "3                2017        Missing       60k-69k   \n",
       "4                2017        Missing       60k-69k   \n",
       "5                2017        Missing       60k-69k   \n",
       "6                2017        Missing       60k-69k   \n",
       "7                2017        Missing       60k-69k   \n",
       "8                2017        Missing       60k-69k   \n",
       "9                2017        Missing       60k-69k   \n",
       "\n",
       "                             person  time  ...  total_offers_viewed  \\\n",
       "0  68be06ca386d4c31939f3a4f0e3dd783   168  ...                    5   \n",
       "1  68be06ca386d4c31939f3a4f0e3dd783   216  ...                    5   \n",
       "2  68be06ca386d4c31939f3a4f0e3dd783   336  ...                    5   \n",
       "3  68be06ca386d4c31939f3a4f0e3dd783   348  ...                    5   \n",
       "4  68be06ca386d4c31939f3a4f0e3dd783   360  ...                    5   \n",
       "5  68be06ca386d4c31939f3a4f0e3dd783   408  ...                    5   \n",
       "6  68be06ca386d4c31939f3a4f0e3dd783   408  ...                    5   \n",
       "7  68be06ca386d4c31939f3a4f0e3dd783   414  ...                    5   \n",
       "8  68be06ca386d4c31939f3a4f0e3dd783   444  ...                    5   \n",
       "9  68be06ca386d4c31939f3a4f0e3dd783   504  ...                    5   \n",
       "\n",
       "   total_offers_completed total_offers_bogo  total_offers_discount  \\\n",
       "0                       2               0.0                    5.0   \n",
       "1                       2               0.0                    5.0   \n",
       "2                       2               0.0                    5.0   \n",
       "3                       2               0.0                    5.0   \n",
       "4                       2               0.0                    5.0   \n",
       "5                       2               0.0                    5.0   \n",
       "6                       2               0.0                    5.0   \n",
       "7                       2               0.0                    5.0   \n",
       "8                       2               0.0                    5.0   \n",
       "9                       2               0.0                    5.0   \n",
       "\n",
       "   total_offers_informational  converted_bogo  converted_discount  \\\n",
       "0                         0.0             0.0                 2.0   \n",
       "1                         0.0             0.0                 2.0   \n",
       "2                         0.0             0.0                 2.0   \n",
       "3                         0.0             0.0                 2.0   \n",
       "4                         0.0             0.0                 2.0   \n",
       "5                         0.0             0.0                 2.0   \n",
       "6                         0.0             0.0                 2.0   \n",
       "7                         0.0             0.0                 2.0   \n",
       "8                         0.0             0.0                 2.0   \n",
       "9                         0.0             0.0                 2.0   \n",
       "\n",
       "   converted_informational  conversion_rate_bogo  conversion_rate_discount  \n",
       "0                      0.0                   NaN                       0.4  \n",
       "1                      0.0                   NaN                       0.4  \n",
       "2                      0.0                   NaN                       0.4  \n",
       "3                      0.0                   NaN                       0.4  \n",
       "4                      0.0                   NaN                       0.4  \n",
       "5                      0.0                   NaN                       0.4  \n",
       "6                      0.0                   NaN                       0.4  \n",
       "7                      0.0                   NaN                       0.4  \n",
       "8                      0.0                   NaN                       0.4  \n",
       "9                      0.0                   NaN                       0.4  \n",
       "\n",
       "[10 rows x 40 columns]"
      ]
     },
     "execution_count": 230,
     "metadata": {},
     "output_type": "execute_result"
    }
   ],
   "source": [
    "df.head(10)"
   ]
  },
  {
   "cell_type": "code",
   "execution_count": 231,
   "metadata": {},
   "outputs": [],
   "source": [
    "df = df[df['event_offer_completed'] == 1]"
   ]
  },
  {
   "cell_type": "code",
   "execution_count": 232,
   "metadata": {},
   "outputs": [],
   "source": [
    "def offer_type(df):\n",
    "    bogo = df['conversion_rate_bogo'] > 0.2\n",
    "    discount = df['conversion_rate_discount'] > 0.2\n",
    "    if bogo:\n",
    "        return 'bogo'\n",
    "    elif discount:\n",
    "        return 'discount'\n",
    "    else:\n",
    "        return 'none'\n",
    "\n",
    "df['offer_type'] = df.apply(offer_type, axis=1)"
   ]
  },
  {
   "cell_type": "code",
   "execution_count": 233,
   "metadata": {},
   "outputs": [],
   "source": [
    "df = df.loc[df['offer_type'] != 'none', :]"
   ]
  },
  {
   "cell_type": "code",
   "execution_count": 234,
   "metadata": {},
   "outputs": [
    {
     "data": {
      "text/plain": [
       "Index(['gender', 'age', 'id', 'became_member_on', 'income',\n",
       "       'became_member_year', 'age_categories', 'income_binned', 'person',\n",
       "       'time', 'amount', 'reward_paid', 'offer_id', 'reward_planned',\n",
       "       'difficulty', 'duration', 'channel_email', 'channel_mobile',\n",
       "       'channel_social', 'channel_web', 'event_offer_completed',\n",
       "       'event_offer_received', 'event_offer_viewed', 'event_transaction',\n",
       "       'offer_type_bogo', 'offer_type_discount', 'offer_type_informational',\n",
       "       'total_amount', 'total_transactions', 'total_offers_received',\n",
       "       'total_offers_viewed', 'total_offers_completed', 'total_offers_bogo',\n",
       "       'total_offers_discount', 'total_offers_informational', 'converted_bogo',\n",
       "       'converted_discount', 'converted_informational', 'conversion_rate_bogo',\n",
       "       'conversion_rate_discount', 'offer_type'],\n",
       "      dtype='object')"
      ]
     },
     "execution_count": 234,
     "metadata": {},
     "output_type": "execute_result"
    }
   ],
   "source": [
    "df.columns"
   ]
  },
  {
   "cell_type": "code",
   "execution_count": 235,
   "metadata": {},
   "outputs": [],
   "source": [
    "df = df[['gender', 'income_binned', 'became_member_year', 'age_categories', 'difficulty', 'duration', 'channel_email', 'channel_web', 'channel_mobile', 'channel_social', 'offer_type']]"
   ]
  },
  {
   "cell_type": "code",
   "execution_count": 216,
   "metadata": {},
   "outputs": [
    {
     "data": {
      "text/html": [
       "<div>\n",
       "<style scoped>\n",
       "    .dataframe tbody tr th:only-of-type {\n",
       "        vertical-align: middle;\n",
       "    }\n",
       "\n",
       "    .dataframe tbody tr th {\n",
       "        vertical-align: top;\n",
       "    }\n",
       "\n",
       "    .dataframe thead th {\n",
       "        text-align: right;\n",
       "    }\n",
       "</style>\n",
       "<table border=\"1\" class=\"dataframe\">\n",
       "  <thead>\n",
       "    <tr style=\"text-align: right;\">\n",
       "      <th></th>\n",
       "      <th>gender</th>\n",
       "      <th>income_binned</th>\n",
       "      <th>became_member_year</th>\n",
       "      <th>age_categories</th>\n",
       "      <th>difficulty</th>\n",
       "      <th>duration</th>\n",
       "      <th>channel_email</th>\n",
       "      <th>channel_web</th>\n",
       "      <th>channel_mobile</th>\n",
       "      <th>channel_social</th>\n",
       "      <th>offer_type</th>\n",
       "    </tr>\n",
       "  </thead>\n",
       "  <tbody>\n",
       "    <tr>\n",
       "      <td>0</td>\n",
       "      <td>N</td>\n",
       "      <td>60k-69k</td>\n",
       "      <td>2017</td>\n",
       "      <td>Missing</td>\n",
       "      <td>10.0</td>\n",
       "      <td>7.0</td>\n",
       "      <td>1.0</td>\n",
       "      <td>1.0</td>\n",
       "      <td>1.0</td>\n",
       "      <td>0.0</td>\n",
       "      <td>discount</td>\n",
       "    </tr>\n",
       "    <tr>\n",
       "      <td>2</td>\n",
       "      <td>N</td>\n",
       "      <td>60k-69k</td>\n",
       "      <td>2017</td>\n",
       "      <td>Missing</td>\n",
       "      <td>20.0</td>\n",
       "      <td>10.0</td>\n",
       "      <td>1.0</td>\n",
       "      <td>1.0</td>\n",
       "      <td>0.0</td>\n",
       "      <td>0.0</td>\n",
       "      <td>discount</td>\n",
       "    </tr>\n",
       "    <tr>\n",
       "      <td>5</td>\n",
       "      <td>N</td>\n",
       "      <td>60k-69k</td>\n",
       "      <td>2017</td>\n",
       "      <td>Missing</td>\n",
       "      <td>10.0</td>\n",
       "      <td>10.0</td>\n",
       "      <td>1.0</td>\n",
       "      <td>1.0</td>\n",
       "      <td>1.0</td>\n",
       "      <td>1.0</td>\n",
       "      <td>discount</td>\n",
       "    </tr>\n",
       "    <tr>\n",
       "      <td>9</td>\n",
       "      <td>N</td>\n",
       "      <td>60k-69k</td>\n",
       "      <td>2017</td>\n",
       "      <td>Missing</td>\n",
       "      <td>7.0</td>\n",
       "      <td>7.0</td>\n",
       "      <td>1.0</td>\n",
       "      <td>1.0</td>\n",
       "      <td>1.0</td>\n",
       "      <td>1.0</td>\n",
       "      <td>discount</td>\n",
       "    </tr>\n",
       "    <tr>\n",
       "      <td>16</td>\n",
       "      <td>N</td>\n",
       "      <td>60k-69k</td>\n",
       "      <td>2017</td>\n",
       "      <td>Missing</td>\n",
       "      <td>10.0</td>\n",
       "      <td>10.0</td>\n",
       "      <td>1.0</td>\n",
       "      <td>1.0</td>\n",
       "      <td>1.0</td>\n",
       "      <td>1.0</td>\n",
       "      <td>discount</td>\n",
       "    </tr>\n",
       "    <tr>\n",
       "      <td>23</td>\n",
       "      <td>F</td>\n",
       "      <td>110k-120k</td>\n",
       "      <td>2017</td>\n",
       "      <td>50-59</td>\n",
       "      <td>5.0</td>\n",
       "      <td>7.0</td>\n",
       "      <td>1.0</td>\n",
       "      <td>1.0</td>\n",
       "      <td>1.0</td>\n",
       "      <td>0.0</td>\n",
       "      <td>bogo</td>\n",
       "    </tr>\n",
       "    <tr>\n",
       "      <td>24</td>\n",
       "      <td>F</td>\n",
       "      <td>110k-120k</td>\n",
       "      <td>2017</td>\n",
       "      <td>50-59</td>\n",
       "      <td>0.0</td>\n",
       "      <td>4.0</td>\n",
       "      <td>1.0</td>\n",
       "      <td>1.0</td>\n",
       "      <td>1.0</td>\n",
       "      <td>0.0</td>\n",
       "      <td>bogo</td>\n",
       "    </tr>\n",
       "    <tr>\n",
       "      <td>28</td>\n",
       "      <td>N</td>\n",
       "      <td>60k-69k</td>\n",
       "      <td>2018</td>\n",
       "      <td>Missing</td>\n",
       "      <td>5.0</td>\n",
       "      <td>7.0</td>\n",
       "      <td>1.0</td>\n",
       "      <td>1.0</td>\n",
       "      <td>1.0</td>\n",
       "      <td>0.0</td>\n",
       "      <td>none</td>\n",
       "    </tr>\n",
       "    <tr>\n",
       "      <td>33</td>\n",
       "      <td>N</td>\n",
       "      <td>60k-69k</td>\n",
       "      <td>2018</td>\n",
       "      <td>Missing</td>\n",
       "      <td>0.0</td>\n",
       "      <td>3.0</td>\n",
       "      <td>1.0</td>\n",
       "      <td>0.0</td>\n",
       "      <td>1.0</td>\n",
       "      <td>1.0</td>\n",
       "      <td>none</td>\n",
       "    </tr>\n",
       "    <tr>\n",
       "      <td>37</td>\n",
       "      <td>F</td>\n",
       "      <td>90k-99k</td>\n",
       "      <td>2017</td>\n",
       "      <td>70-79</td>\n",
       "      <td>5.0</td>\n",
       "      <td>7.0</td>\n",
       "      <td>1.0</td>\n",
       "      <td>1.0</td>\n",
       "      <td>1.0</td>\n",
       "      <td>0.0</td>\n",
       "      <td>bogo</td>\n",
       "    </tr>\n",
       "    <tr>\n",
       "      <td>42</td>\n",
       "      <td>F</td>\n",
       "      <td>90k-99k</td>\n",
       "      <td>2017</td>\n",
       "      <td>70-79</td>\n",
       "      <td>0.0</td>\n",
       "      <td>3.0</td>\n",
       "      <td>1.0</td>\n",
       "      <td>0.0</td>\n",
       "      <td>1.0</td>\n",
       "      <td>1.0</td>\n",
       "      <td>bogo</td>\n",
       "    </tr>\n",
       "    <tr>\n",
       "      <td>47</td>\n",
       "      <td>F</td>\n",
       "      <td>90k-99k</td>\n",
       "      <td>2017</td>\n",
       "      <td>70-79</td>\n",
       "      <td>10.0</td>\n",
       "      <td>7.0</td>\n",
       "      <td>1.0</td>\n",
       "      <td>0.0</td>\n",
       "      <td>1.0</td>\n",
       "      <td>1.0</td>\n",
       "      <td>bogo</td>\n",
       "    </tr>\n",
       "    <tr>\n",
       "      <td>49</td>\n",
       "      <td>F</td>\n",
       "      <td>90k-99k</td>\n",
       "      <td>2017</td>\n",
       "      <td>70-79</td>\n",
       "      <td>5.0</td>\n",
       "      <td>5.0</td>\n",
       "      <td>1.0</td>\n",
       "      <td>1.0</td>\n",
       "      <td>1.0</td>\n",
       "      <td>1.0</td>\n",
       "      <td>bogo</td>\n",
       "    </tr>\n",
       "    <tr>\n",
       "      <td>55</td>\n",
       "      <td>N</td>\n",
       "      <td>60k-69k</td>\n",
       "      <td>2017</td>\n",
       "      <td>Missing</td>\n",
       "      <td>20.0</td>\n",
       "      <td>10.0</td>\n",
       "      <td>1.0</td>\n",
       "      <td>1.0</td>\n",
       "      <td>0.0</td>\n",
       "      <td>0.0</td>\n",
       "      <td>none</td>\n",
       "    </tr>\n",
       "    <tr>\n",
       "      <td>59</td>\n",
       "      <td>N</td>\n",
       "      <td>60k-69k</td>\n",
       "      <td>2017</td>\n",
       "      <td>Missing</td>\n",
       "      <td>0.0</td>\n",
       "      <td>4.0</td>\n",
       "      <td>1.0</td>\n",
       "      <td>1.0</td>\n",
       "      <td>1.0</td>\n",
       "      <td>0.0</td>\n",
       "      <td>none</td>\n",
       "    </tr>\n",
       "    <tr>\n",
       "      <td>61</td>\n",
       "      <td>N</td>\n",
       "      <td>60k-69k</td>\n",
       "      <td>2017</td>\n",
       "      <td>Missing</td>\n",
       "      <td>0.0</td>\n",
       "      <td>3.0</td>\n",
       "      <td>1.0</td>\n",
       "      <td>0.0</td>\n",
       "      <td>1.0</td>\n",
       "      <td>1.0</td>\n",
       "      <td>none</td>\n",
       "    </tr>\n",
       "    <tr>\n",
       "      <td>62</td>\n",
       "      <td>N</td>\n",
       "      <td>60k-69k</td>\n",
       "      <td>2017</td>\n",
       "      <td>Missing</td>\n",
       "      <td>20.0</td>\n",
       "      <td>10.0</td>\n",
       "      <td>1.0</td>\n",
       "      <td>1.0</td>\n",
       "      <td>0.0</td>\n",
       "      <td>0.0</td>\n",
       "      <td>none</td>\n",
       "    </tr>\n",
       "    <tr>\n",
       "      <td>63</td>\n",
       "      <td>N</td>\n",
       "      <td>60k-69k</td>\n",
       "      <td>2017</td>\n",
       "      <td>Missing</td>\n",
       "      <td>20.0</td>\n",
       "      <td>10.0</td>\n",
       "      <td>1.0</td>\n",
       "      <td>1.0</td>\n",
       "      <td>0.0</td>\n",
       "      <td>0.0</td>\n",
       "      <td>none</td>\n",
       "    </tr>\n",
       "    <tr>\n",
       "      <td>66</td>\n",
       "      <td>M</td>\n",
       "      <td>60k-69k</td>\n",
       "      <td>2018</td>\n",
       "      <td>60-69</td>\n",
       "      <td>10.0</td>\n",
       "      <td>7.0</td>\n",
       "      <td>1.0</td>\n",
       "      <td>1.0</td>\n",
       "      <td>1.0</td>\n",
       "      <td>0.0</td>\n",
       "      <td>bogo</td>\n",
       "    </tr>\n",
       "    <tr>\n",
       "      <td>70</td>\n",
       "      <td>M</td>\n",
       "      <td>60k-69k</td>\n",
       "      <td>2018</td>\n",
       "      <td>60-69</td>\n",
       "      <td>0.0</td>\n",
       "      <td>4.0</td>\n",
       "      <td>1.0</td>\n",
       "      <td>1.0</td>\n",
       "      <td>1.0</td>\n",
       "      <td>0.0</td>\n",
       "      <td>bogo</td>\n",
       "    </tr>\n",
       "    <tr>\n",
       "      <td>71</td>\n",
       "      <td>M</td>\n",
       "      <td>60k-69k</td>\n",
       "      <td>2018</td>\n",
       "      <td>60-69</td>\n",
       "      <td>5.0</td>\n",
       "      <td>7.0</td>\n",
       "      <td>1.0</td>\n",
       "      <td>1.0</td>\n",
       "      <td>1.0</td>\n",
       "      <td>0.0</td>\n",
       "      <td>bogo</td>\n",
       "    </tr>\n",
       "    <tr>\n",
       "      <td>73</td>\n",
       "      <td>M</td>\n",
       "      <td>60k-69k</td>\n",
       "      <td>2018</td>\n",
       "      <td>60-69</td>\n",
       "      <td>10.0</td>\n",
       "      <td>10.0</td>\n",
       "      <td>1.0</td>\n",
       "      <td>1.0</td>\n",
       "      <td>1.0</td>\n",
       "      <td>1.0</td>\n",
       "      <td>bogo</td>\n",
       "    </tr>\n",
       "    <tr>\n",
       "      <td>78</td>\n",
       "      <td>N</td>\n",
       "      <td>60k-69k</td>\n",
       "      <td>2017</td>\n",
       "      <td>Missing</td>\n",
       "      <td>10.0</td>\n",
       "      <td>10.0</td>\n",
       "      <td>1.0</td>\n",
       "      <td>1.0</td>\n",
       "      <td>1.0</td>\n",
       "      <td>1.0</td>\n",
       "      <td>none</td>\n",
       "    </tr>\n",
       "    <tr>\n",
       "      <td>80</td>\n",
       "      <td>N</td>\n",
       "      <td>60k-69k</td>\n",
       "      <td>2017</td>\n",
       "      <td>Missing</td>\n",
       "      <td>10.0</td>\n",
       "      <td>5.0</td>\n",
       "      <td>1.0</td>\n",
       "      <td>1.0</td>\n",
       "      <td>1.0</td>\n",
       "      <td>1.0</td>\n",
       "      <td>none</td>\n",
       "    </tr>\n",
       "    <tr>\n",
       "      <td>82</td>\n",
       "      <td>N</td>\n",
       "      <td>60k-69k</td>\n",
       "      <td>2017</td>\n",
       "      <td>Missing</td>\n",
       "      <td>0.0</td>\n",
       "      <td>4.0</td>\n",
       "      <td>1.0</td>\n",
       "      <td>1.0</td>\n",
       "      <td>1.0</td>\n",
       "      <td>0.0</td>\n",
       "      <td>none</td>\n",
       "    </tr>\n",
       "    <tr>\n",
       "      <td>84</td>\n",
       "      <td>N</td>\n",
       "      <td>60k-69k</td>\n",
       "      <td>2017</td>\n",
       "      <td>Missing</td>\n",
       "      <td>10.0</td>\n",
       "      <td>7.0</td>\n",
       "      <td>1.0</td>\n",
       "      <td>1.0</td>\n",
       "      <td>1.0</td>\n",
       "      <td>0.0</td>\n",
       "      <td>none</td>\n",
       "    </tr>\n",
       "    <tr>\n",
       "      <td>86</td>\n",
       "      <td>N</td>\n",
       "      <td>60k-69k</td>\n",
       "      <td>2017</td>\n",
       "      <td>Missing</td>\n",
       "      <td>10.0</td>\n",
       "      <td>10.0</td>\n",
       "      <td>1.0</td>\n",
       "      <td>1.0</td>\n",
       "      <td>1.0</td>\n",
       "      <td>1.0</td>\n",
       "      <td>none</td>\n",
       "    </tr>\n",
       "    <tr>\n",
       "      <td>88</td>\n",
       "      <td>N</td>\n",
       "      <td>60k-69k</td>\n",
       "      <td>2017</td>\n",
       "      <td>Missing</td>\n",
       "      <td>10.0</td>\n",
       "      <td>5.0</td>\n",
       "      <td>1.0</td>\n",
       "      <td>1.0</td>\n",
       "      <td>1.0</td>\n",
       "      <td>1.0</td>\n",
       "      <td>none</td>\n",
       "    </tr>\n",
       "    <tr>\n",
       "      <td>90</td>\n",
       "      <td>N</td>\n",
       "      <td>60k-69k</td>\n",
       "      <td>2017</td>\n",
       "      <td>Missing</td>\n",
       "      <td>10.0</td>\n",
       "      <td>7.0</td>\n",
       "      <td>1.0</td>\n",
       "      <td>0.0</td>\n",
       "      <td>1.0</td>\n",
       "      <td>1.0</td>\n",
       "      <td>none</td>\n",
       "    </tr>\n",
       "    <tr>\n",
       "      <td>91</td>\n",
       "      <td>N</td>\n",
       "      <td>60k-69k</td>\n",
       "      <td>2017</td>\n",
       "      <td>Missing</td>\n",
       "      <td>7.0</td>\n",
       "      <td>7.0</td>\n",
       "      <td>1.0</td>\n",
       "      <td>1.0</td>\n",
       "      <td>1.0</td>\n",
       "      <td>1.0</td>\n",
       "      <td>none</td>\n",
       "    </tr>\n",
       "  </tbody>\n",
       "</table>\n",
       "</div>"
      ],
      "text/plain": [
       "   gender income_binned  became_member_year age_categories  difficulty  \\\n",
       "0       N       60k-69k                2017        Missing        10.0   \n",
       "2       N       60k-69k                2017        Missing        20.0   \n",
       "5       N       60k-69k                2017        Missing        10.0   \n",
       "9       N       60k-69k                2017        Missing         7.0   \n",
       "16      N       60k-69k                2017        Missing        10.0   \n",
       "23      F     110k-120k                2017          50-59         5.0   \n",
       "24      F     110k-120k                2017          50-59         0.0   \n",
       "28      N       60k-69k                2018        Missing         5.0   \n",
       "33      N       60k-69k                2018        Missing         0.0   \n",
       "37      F       90k-99k                2017          70-79         5.0   \n",
       "42      F       90k-99k                2017          70-79         0.0   \n",
       "47      F       90k-99k                2017          70-79        10.0   \n",
       "49      F       90k-99k                2017          70-79         5.0   \n",
       "55      N       60k-69k                2017        Missing        20.0   \n",
       "59      N       60k-69k                2017        Missing         0.0   \n",
       "61      N       60k-69k                2017        Missing         0.0   \n",
       "62      N       60k-69k                2017        Missing        20.0   \n",
       "63      N       60k-69k                2017        Missing        20.0   \n",
       "66      M       60k-69k                2018          60-69        10.0   \n",
       "70      M       60k-69k                2018          60-69         0.0   \n",
       "71      M       60k-69k                2018          60-69         5.0   \n",
       "73      M       60k-69k                2018          60-69        10.0   \n",
       "78      N       60k-69k                2017        Missing        10.0   \n",
       "80      N       60k-69k                2017        Missing        10.0   \n",
       "82      N       60k-69k                2017        Missing         0.0   \n",
       "84      N       60k-69k                2017        Missing        10.0   \n",
       "86      N       60k-69k                2017        Missing        10.0   \n",
       "88      N       60k-69k                2017        Missing        10.0   \n",
       "90      N       60k-69k                2017        Missing        10.0   \n",
       "91      N       60k-69k                2017        Missing         7.0   \n",
       "\n",
       "    duration  channel_email  channel_web  channel_mobile  channel_social  \\\n",
       "0        7.0            1.0          1.0             1.0             0.0   \n",
       "2       10.0            1.0          1.0             0.0             0.0   \n",
       "5       10.0            1.0          1.0             1.0             1.0   \n",
       "9        7.0            1.0          1.0             1.0             1.0   \n",
       "16      10.0            1.0          1.0             1.0             1.0   \n",
       "23       7.0            1.0          1.0             1.0             0.0   \n",
       "24       4.0            1.0          1.0             1.0             0.0   \n",
       "28       7.0            1.0          1.0             1.0             0.0   \n",
       "33       3.0            1.0          0.0             1.0             1.0   \n",
       "37       7.0            1.0          1.0             1.0             0.0   \n",
       "42       3.0            1.0          0.0             1.0             1.0   \n",
       "47       7.0            1.0          0.0             1.0             1.0   \n",
       "49       5.0            1.0          1.0             1.0             1.0   \n",
       "55      10.0            1.0          1.0             0.0             0.0   \n",
       "59       4.0            1.0          1.0             1.0             0.0   \n",
       "61       3.0            1.0          0.0             1.0             1.0   \n",
       "62      10.0            1.0          1.0             0.0             0.0   \n",
       "63      10.0            1.0          1.0             0.0             0.0   \n",
       "66       7.0            1.0          1.0             1.0             0.0   \n",
       "70       4.0            1.0          1.0             1.0             0.0   \n",
       "71       7.0            1.0          1.0             1.0             0.0   \n",
       "73      10.0            1.0          1.0             1.0             1.0   \n",
       "78      10.0            1.0          1.0             1.0             1.0   \n",
       "80       5.0            1.0          1.0             1.0             1.0   \n",
       "82       4.0            1.0          1.0             1.0             0.0   \n",
       "84       7.0            1.0          1.0             1.0             0.0   \n",
       "86      10.0            1.0          1.0             1.0             1.0   \n",
       "88       5.0            1.0          1.0             1.0             1.0   \n",
       "90       7.0            1.0          0.0             1.0             1.0   \n",
       "91       7.0            1.0          1.0             1.0             1.0   \n",
       "\n",
       "   offer_type  \n",
       "0    discount  \n",
       "2    discount  \n",
       "5    discount  \n",
       "9    discount  \n",
       "16   discount  \n",
       "23       bogo  \n",
       "24       bogo  \n",
       "28       none  \n",
       "33       none  \n",
       "37       bogo  \n",
       "42       bogo  \n",
       "47       bogo  \n",
       "49       bogo  \n",
       "55       none  \n",
       "59       none  \n",
       "61       none  \n",
       "62       none  \n",
       "63       none  \n",
       "66       bogo  \n",
       "70       bogo  \n",
       "71       bogo  \n",
       "73       bogo  \n",
       "78       none  \n",
       "80       none  \n",
       "82       none  \n",
       "84       none  \n",
       "86       none  \n",
       "88       none  \n",
       "90       none  \n",
       "91       none  "
      ]
     },
     "execution_count": 216,
     "metadata": {},
     "output_type": "execute_result"
    }
   ],
   "source": [
    "df.head(30)"
   ]
  },
  {
   "cell_type": "code",
   "execution_count": 236,
   "metadata": {},
   "outputs": [
    {
     "data": {
      "text/plain": [
       "bogo        27429\n",
       "discount     6109\n",
       "Name: offer_type, dtype: int64"
      ]
     },
     "execution_count": 236,
     "metadata": {},
     "output_type": "execute_result"
    }
   ],
   "source": [
    "df['offer_type'].value_counts()"
   ]
  },
  {
   "cell_type": "code",
   "execution_count": 237,
   "metadata": {},
   "outputs": [],
   "source": [
    "df = pd.get_dummies(df, columns=['age_categories', 'income_binned', 'became_member_year', 'gender'])"
   ]
  },
  {
   "cell_type": "code",
   "execution_count": 85,
   "metadata": {},
   "outputs": [],
   "source": [
    "#df.to_csv('../input/processed.csv')"
   ]
  },
  {
   "cell_type": "code",
   "execution_count": 238,
   "metadata": {},
   "outputs": [],
   "source": [
    "from sklearn.preprocessing import LabelEncoder\n",
    "\n",
    "\n",
    "X = df.drop('offer_type', axis=1)\n",
    "y = df['offer_type']\n",
    "\n",
    "le = LabelEncoder()\n",
    "y = le.fit_transform(y)"
   ]
  },
  {
   "cell_type": "code",
   "execution_count": 239,
   "metadata": {},
   "outputs": [],
   "source": [
    "from sklearn.model_selection import train_test_split\n",
    "from sklearn.metrics import accuracy_score, f1_score\n",
    "\n",
    "X_train, X_test, y_train, y_test = train_test_split(X, y, random_state=7, test_size=0.2)"
   ]
  },
  {
   "cell_type": "code",
   "execution_count": 240,
   "metadata": {},
   "outputs": [
    {
     "name": "stderr",
     "output_type": "stream",
     "text": [
      "/usr/local/lib/python3.7/site-packages/sklearn/svm/base.py:193: FutureWarning: The default value of gamma will change from 'auto' to 'scale' in version 0.22 to account better for unscaled features. Set gamma explicitly to 'auto' or 'scale' to avoid this warning.\n",
      "  \"avoid this warning.\", FutureWarning)\n"
     ]
    },
    {
     "data": {
      "text/plain": [
       "SVC(C=1.0, cache_size=200, class_weight=None, coef0=0.0,\n",
       "    decision_function_shape='ovr', degree=3, gamma='auto_deprecated',\n",
       "    kernel='rbf', max_iter=-1, probability=False, random_state=None,\n",
       "    shrinking=True, tol=0.001, verbose=False)"
      ]
     },
     "execution_count": 240,
     "metadata": {},
     "output_type": "execute_result"
    }
   ],
   "source": [
    "from sklearn.svm import SVC\n",
    "\n",
    "modelSVC = SVC()\n",
    "modelSVC.fit(X_train, y_train)"
   ]
  },
  {
   "cell_type": "code",
   "execution_count": 241,
   "metadata": {},
   "outputs": [
    {
     "data": {
      "text/plain": [
       "0.8307990459153249"
      ]
     },
     "execution_count": 241,
     "metadata": {},
     "output_type": "execute_result"
    }
   ],
   "source": [
    "prediction = modelSVC.predict(X_test)\n",
    "accuracy_score(y_test, prediction)"
   ]
  },
  {
   "cell_type": "code",
   "execution_count": 223,
   "metadata": {},
   "outputs": [
    {
     "data": {
      "text/plain": [
       "RandomForestClassifier(bootstrap=True, class_weight=None, criterion='gini',\n",
       "                       max_depth=None, max_features='auto', max_leaf_nodes=None,\n",
       "                       min_impurity_decrease=0.0, min_impurity_split=None,\n",
       "                       min_samples_leaf=1, min_samples_split=2,\n",
       "                       min_weight_fraction_leaf=0.0, n_estimators=10,\n",
       "                       n_jobs=None, oob_score=False, random_state=None,\n",
       "                       verbose=0, warm_start=False)"
      ]
     },
     "execution_count": 223,
     "metadata": {},
     "output_type": "execute_result"
    }
   ],
   "source": [
    "from sklearn.ensemble import RandomForestClassifier\n",
    "modelRFC = RandomForestClassifier(n_estimators=10)\n",
    "modelRFC.fit(X_train, y_train)"
   ]
  },
  {
   "cell_type": "code",
   "execution_count": 224,
   "metadata": {},
   "outputs": [
    {
     "data": {
      "text/plain": [
       "0.6256554798112218"
      ]
     },
     "execution_count": 224,
     "metadata": {},
     "output_type": "execute_result"
    }
   ],
   "source": [
    "predictionRFC = modelRFC.predict(X_test)\n",
    "accuracy_score(y_test, predictionRFC)"
   ]
  },
  {
   "cell_type": "code",
   "execution_count": 225,
   "metadata": {},
   "outputs": [
    {
     "data": {
      "text/plain": [
       "GradientBoostingClassifier(criterion='friedman_mse', init=None,\n",
       "                           learning_rate=0.1, loss='deviance', max_depth=3,\n",
       "                           max_features=None, max_leaf_nodes=None,\n",
       "                           min_impurity_decrease=0.0, min_impurity_split=None,\n",
       "                           min_samples_leaf=1, min_samples_split=2,\n",
       "                           min_weight_fraction_leaf=0.0, n_estimators=100,\n",
       "                           n_iter_no_change=None, presort='auto',\n",
       "                           random_state=None, subsample=1.0, tol=0.0001,\n",
       "                           validation_fraction=0.1, verbose=0,\n",
       "                           warm_start=False)"
      ]
     },
     "execution_count": 225,
     "metadata": {},
     "output_type": "execute_result"
    }
   ],
   "source": [
    "from sklearn.ensemble import GradientBoostingClassifier\n",
    "\n",
    "modelGBC = GradientBoostingClassifier()\n",
    "modelGBC.fit(X_train, y_train)"
   ]
  },
  {
   "cell_type": "code",
   "execution_count": 226,
   "metadata": {},
   "outputs": [
    {
     "data": {
      "text/plain": [
       "0.6377163083377032"
      ]
     },
     "execution_count": 226,
     "metadata": {},
     "output_type": "execute_result"
    }
   ],
   "source": [
    "predictGBC = modelGBC.predict(X_test)\n",
    "accuracy_score(y_test, predictGBC)"
   ]
  },
  {
   "cell_type": "code",
   "execution_count": 195,
   "metadata": {},
   "outputs": [
    {
     "name": "stderr",
     "output_type": "stream",
     "text": [
      "/usr/local/lib/python3.7/site-packages/sklearn/model_selection/_split.py:1978: FutureWarning: The default value of cv will change from 3 to 5 in version 0.22. Specify it explicitly to silence this warning.\n",
      "  warnings.warn(CV_WARNING, FutureWarning)\n",
      "[Parallel(n_jobs=1)]: Using backend SequentialBackend with 1 concurrent workers.\n"
     ]
    },
    {
     "name": "stdout",
     "output_type": "stream",
     "text": [
      "Fitting 3 folds for each of 16 candidates, totalling 48 fits\n",
      "[CV] learning_rate=0.003, n_estimators=50 ............................\n",
      "[CV]  learning_rate=0.003, n_estimators=50, score=0.817, total=   0.6s\n",
      "[CV] learning_rate=0.003, n_estimators=50 ............................\n"
     ]
    },
    {
     "name": "stderr",
     "output_type": "stream",
     "text": [
      "[Parallel(n_jobs=1)]: Done   1 out of   1 | elapsed:    0.6s remaining:    0.0s\n"
     ]
    },
    {
     "name": "stdout",
     "output_type": "stream",
     "text": [
      "[CV]  learning_rate=0.003, n_estimators=50, score=0.817, total=   0.5s\n",
      "[CV] learning_rate=0.003, n_estimators=50 ............................\n"
     ]
    },
    {
     "name": "stderr",
     "output_type": "stream",
     "text": [
      "[Parallel(n_jobs=1)]: Done   2 out of   2 | elapsed:    1.1s remaining:    0.0s\n"
     ]
    },
    {
     "name": "stdout",
     "output_type": "stream",
     "text": [
      "[CV]  learning_rate=0.003, n_estimators=50, score=0.817, total=   0.6s\n",
      "[CV] learning_rate=0.003, n_estimators=100 ...........................\n"
     ]
    },
    {
     "name": "stderr",
     "output_type": "stream",
     "text": [
      "[Parallel(n_jobs=1)]: Done   3 out of   3 | elapsed:    1.7s remaining:    0.0s\n"
     ]
    },
    {
     "name": "stdout",
     "output_type": "stream",
     "text": [
      "[CV]  learning_rate=0.003, n_estimators=100, score=0.817, total=   1.1s\n",
      "[CV] learning_rate=0.003, n_estimators=100 ...........................\n"
     ]
    },
    {
     "name": "stderr",
     "output_type": "stream",
     "text": [
      "[Parallel(n_jobs=1)]: Done   4 out of   4 | elapsed:    2.7s remaining:    0.0s\n"
     ]
    },
    {
     "name": "stdout",
     "output_type": "stream",
     "text": [
      "[CV]  learning_rate=0.003, n_estimators=100, score=0.817, total=   1.1s\n",
      "[CV] learning_rate=0.003, n_estimators=100 ...........................\n"
     ]
    },
    {
     "name": "stderr",
     "output_type": "stream",
     "text": [
      "[Parallel(n_jobs=1)]: Done   5 out of   5 | elapsed:    3.8s remaining:    0.0s\n"
     ]
    },
    {
     "name": "stdout",
     "output_type": "stream",
     "text": [
      "[CV]  learning_rate=0.003, n_estimators=100, score=0.817, total=   1.0s\n",
      "[CV] learning_rate=0.003, n_estimators=150 ...........................\n"
     ]
    },
    {
     "name": "stderr",
     "output_type": "stream",
     "text": [
      "[Parallel(n_jobs=1)]: Done   6 out of   6 | elapsed:    4.8s remaining:    0.0s\n"
     ]
    },
    {
     "name": "stdout",
     "output_type": "stream",
     "text": [
      "[CV]  learning_rate=0.003, n_estimators=150, score=0.817, total=   1.7s\n",
      "[CV] learning_rate=0.003, n_estimators=150 ...........................\n"
     ]
    },
    {
     "name": "stderr",
     "output_type": "stream",
     "text": [
      "[Parallel(n_jobs=1)]: Done   7 out of   7 | elapsed:    6.5s remaining:    0.0s\n"
     ]
    },
    {
     "name": "stdout",
     "output_type": "stream",
     "text": [
      "[CV]  learning_rate=0.003, n_estimators=150, score=0.817, total=   1.6s\n",
      "[CV] learning_rate=0.003, n_estimators=150 ...........................\n"
     ]
    },
    {
     "name": "stderr",
     "output_type": "stream",
     "text": [
      "[Parallel(n_jobs=1)]: Done   8 out of   8 | elapsed:    8.1s remaining:    0.0s\n"
     ]
    },
    {
     "name": "stdout",
     "output_type": "stream",
     "text": [
      "[CV]  learning_rate=0.003, n_estimators=150, score=0.817, total=   1.6s\n",
      "[CV] learning_rate=0.003, n_estimators=200 ...........................\n"
     ]
    },
    {
     "name": "stderr",
     "output_type": "stream",
     "text": [
      "[Parallel(n_jobs=1)]: Done   9 out of   9 | elapsed:    9.8s remaining:    0.0s\n"
     ]
    },
    {
     "name": "stdout",
     "output_type": "stream",
     "text": [
      "[CV]  learning_rate=0.003, n_estimators=200, score=0.817, total=   2.1s\n",
      "[CV] learning_rate=0.003, n_estimators=200 ...........................\n",
      "[CV]  learning_rate=0.003, n_estimators=200, score=0.817, total=   2.2s\n",
      "[CV] learning_rate=0.003, n_estimators=200 ...........................\n",
      "[CV]  learning_rate=0.003, n_estimators=200, score=0.817, total=   2.2s\n",
      "[CV] learning_rate=0.03, n_estimators=50 .............................\n",
      "[CV] . learning_rate=0.03, n_estimators=50, score=0.817, total=   0.6s\n",
      "[CV] learning_rate=0.03, n_estimators=50 .............................\n",
      "[CV] . learning_rate=0.03, n_estimators=50, score=0.817, total=   0.6s\n",
      "[CV] learning_rate=0.03, n_estimators=50 .............................\n",
      "[CV] . learning_rate=0.03, n_estimators=50, score=0.817, total=   0.6s\n",
      "[CV] learning_rate=0.03, n_estimators=100 ............................\n",
      "[CV]  learning_rate=0.03, n_estimators=100, score=0.817, total=   1.0s\n",
      "[CV] learning_rate=0.03, n_estimators=100 ............................\n",
      "[CV]  learning_rate=0.03, n_estimators=100, score=0.817, total=   1.1s\n",
      "[CV] learning_rate=0.03, n_estimators=100 ............................\n",
      "[CV]  learning_rate=0.03, n_estimators=100, score=0.817, total=   1.1s\n",
      "[CV] learning_rate=0.03, n_estimators=150 ............................\n",
      "[CV]  learning_rate=0.03, n_estimators=150, score=0.824, total=   1.6s\n",
      "[CV] learning_rate=0.03, n_estimators=150 ............................\n",
      "[CV]  learning_rate=0.03, n_estimators=150, score=0.824, total=   1.4s\n",
      "[CV] learning_rate=0.03, n_estimators=150 ............................\n",
      "[CV]  learning_rate=0.03, n_estimators=150, score=0.828, total=   1.4s\n",
      "[CV] learning_rate=0.03, n_estimators=200 ............................\n",
      "[CV]  learning_rate=0.03, n_estimators=200, score=0.830, total=   2.2s\n",
      "[CV] learning_rate=0.03, n_estimators=200 ............................\n",
      "[CV]  learning_rate=0.03, n_estimators=200, score=0.829, total=   2.2s\n",
      "[CV] learning_rate=0.03, n_estimators=200 ............................\n",
      "[CV]  learning_rate=0.03, n_estimators=200, score=0.828, total=   2.2s\n",
      "[CV] learning_rate=0.3, n_estimators=50 ..............................\n",
      "[CV] .. learning_rate=0.3, n_estimators=50, score=0.830, total=   0.5s\n",
      "[CV] learning_rate=0.3, n_estimators=50 ..............................\n",
      "[CV] .. learning_rate=0.3, n_estimators=50, score=0.831, total=   0.5s\n",
      "[CV] learning_rate=0.3, n_estimators=50 ..............................\n",
      "[CV] .. learning_rate=0.3, n_estimators=50, score=0.828, total=   0.5s\n",
      "[CV] learning_rate=0.3, n_estimators=100 .............................\n",
      "[CV] . learning_rate=0.3, n_estimators=100, score=0.831, total=   1.1s\n",
      "[CV] learning_rate=0.3, n_estimators=100 .............................\n",
      "[CV] . learning_rate=0.3, n_estimators=100, score=0.831, total=   1.1s\n",
      "[CV] learning_rate=0.3, n_estimators=100 .............................\n",
      "[CV] . learning_rate=0.3, n_estimators=100, score=0.828, total=   1.0s\n",
      "[CV] learning_rate=0.3, n_estimators=150 .............................\n",
      "[CV] . learning_rate=0.3, n_estimators=150, score=0.833, total=   1.6s\n",
      "[CV] learning_rate=0.3, n_estimators=150 .............................\n",
      "[CV] . learning_rate=0.3, n_estimators=150, score=0.826, total=   1.6s\n",
      "[CV] learning_rate=0.3, n_estimators=150 .............................\n",
      "[CV] . learning_rate=0.3, n_estimators=150, score=0.831, total=   1.6s\n",
      "[CV] learning_rate=0.3, n_estimators=200 .............................\n",
      "[CV] . learning_rate=0.3, n_estimators=200, score=0.834, total=   2.2s\n",
      "[CV] learning_rate=0.3, n_estimators=200 .............................\n",
      "[CV] . learning_rate=0.3, n_estimators=200, score=0.813, total=   2.1s\n",
      "[CV] learning_rate=0.3, n_estimators=200 .............................\n",
      "[CV] . learning_rate=0.3, n_estimators=200, score=0.829, total=   2.0s\n",
      "[CV] learning_rate=1, n_estimators=50 ................................\n",
      "[CV] .... learning_rate=1, n_estimators=50, score=0.832, total=   0.5s\n",
      "[CV] learning_rate=1, n_estimators=50 ................................\n",
      "[CV] .... learning_rate=1, n_estimators=50, score=0.743, total=   0.5s\n",
      "[CV] learning_rate=1, n_estimators=50 ................................\n",
      "[CV] .... learning_rate=1, n_estimators=50, score=0.829, total=   0.5s\n",
      "[CV] learning_rate=1, n_estimators=100 ...............................\n",
      "[CV] ... learning_rate=1, n_estimators=100, score=0.791, total=   1.1s\n",
      "[CV] learning_rate=1, n_estimators=100 ...............................\n",
      "[CV] ... learning_rate=1, n_estimators=100, score=0.716, total=   1.1s\n",
      "[CV] learning_rate=1, n_estimators=100 ...............................\n",
      "[CV] ... learning_rate=1, n_estimators=100, score=0.830, total=   1.1s\n",
      "[CV] learning_rate=1, n_estimators=150 ...............................\n",
      "[CV] ... learning_rate=1, n_estimators=150, score=0.719, total=   1.5s\n",
      "[CV] learning_rate=1, n_estimators=150 ...............................\n",
      "[CV] ... learning_rate=1, n_estimators=150, score=0.701, total=   1.6s\n",
      "[CV] learning_rate=1, n_estimators=150 ...............................\n",
      "[CV] ... learning_rate=1, n_estimators=150, score=0.831, total=   1.6s\n",
      "[CV] learning_rate=1, n_estimators=200 ...............................\n",
      "[CV] ... learning_rate=1, n_estimators=200, score=0.707, total=   2.2s\n",
      "[CV] learning_rate=1, n_estimators=200 ...............................\n",
      "[CV] ... learning_rate=1, n_estimators=200, score=0.701, total=   2.4s\n",
      "[CV] learning_rate=1, n_estimators=200 ...............................\n",
      "[CV] ... learning_rate=1, n_estimators=200, score=0.830, total=   2.2s\n"
     ]
    },
    {
     "name": "stderr",
     "output_type": "stream",
     "text": [
      "[Parallel(n_jobs=1)]: Done  48 out of  48 | elapsed:  1.1min finished\n"
     ]
    },
    {
     "data": {
      "text/plain": [
       "AdaBoostClassifier(algorithm='SAMME.R', base_estimator=None, learning_rate=0.3,\n",
       "                   n_estimators=100, random_state=7)"
      ]
     },
     "execution_count": 195,
     "metadata": {},
     "output_type": "execute_result"
    }
   ],
   "source": [
    "from sklearn.model_selection import GridSearchCV\n",
    "from sklearn.metrics import make_scorer, accuracy_score\n",
    "from sklearn.ensemble import GradientBoostingClassifier\n",
    "from sklearn.ensemble import AdaBoostClassifier\n",
    "\n",
    "params = {\n",
    "              \"n_estimators\": [50, 100, 150, 200],\n",
    "              \"learning_rate\": [0.003, 0.03, 0.3, 1]\n",
    "             }\n",
    "\n",
    "scorer = make_scorer(accuracy_score)\n",
    "clf = AdaBoostClassifier(random_state=7)\n",
    "\n",
    "grid_obj = GridSearchCV(clf, params, scorer, verbose=10)\n",
    "grid_fit = grid_obj.fit(X_train, y_train)\n",
    "best_clf = grid_fit.best_estimator_\n",
    "best_clf"
   ]
  },
  {
   "cell_type": "code",
   "execution_count": 196,
   "metadata": {},
   "outputs": [
    {
     "data": {
      "text/plain": [
       "0.8253424657534246"
      ]
     },
     "execution_count": 196,
     "metadata": {},
     "output_type": "execute_result"
    }
   ],
   "source": [
    "accuracy_score(y_test, best_clf.predict(X_test))"
   ]
  },
  {
   "cell_type": "code",
   "execution_count": 86,
   "metadata": {},
   "outputs": [
    {
     "name": "stdout",
     "output_type": "stream",
     "text": [
      "Collecting xgboost\n",
      "\u001b[?25l  Downloading https://files.pythonhosted.org/packages/7d/9d/dcd1e61fd0eeea1c2ed4fa32761e437012776d08530666b5ce843b45fc32/xgboost-1.0.1.tar.gz (820kB)\n",
      "\u001b[K     |████████████████████████████████| 829kB 1.3MB/s eta 0:00:01\n",
      "\u001b[?25hRequirement already satisfied: numpy in /usr/local/lib/python3.7/site-packages (from xgboost) (1.17.2)\n",
      "Requirement already satisfied: scipy in /usr/local/lib/python3.7/site-packages (from xgboost) (1.3.1)\n",
      "Building wheels for collected packages: xgboost\n",
      "  Building wheel for xgboost (setup.py) ... \u001b[?25ldone\n",
      "\u001b[?25h  Stored in directory: /Users/tarasowski/Library/Caches/pip/wheels/51/10/c1/d7b4a0cd3e7a3391958df48d09724c3c37be36c22b24c5d9f9\n",
      "Successfully built xgboost\n",
      "Installing collected packages: xgboost\n",
      "Successfully installed xgboost-1.0.1\n"
     ]
    }
   ],
   "source": [
    "#!pip install xgboost"
   ]
  },
  {
   "cell_type": "code",
   "execution_count": 227,
   "metadata": {},
   "outputs": [
    {
     "name": "stdout",
     "output_type": "stream",
     "text": [
      "Accuracy: 64.09%\n"
     ]
    }
   ],
   "source": [
    "from xgboost import XGBClassifier\n",
    "\n",
    "model = XGBClassifier(max_depth=7, n_estimators=300, learning_rate=0.03, random_state=7)\n",
    "model.fit(X_train, y_train)\n",
    "\n",
    "# make predictions for test data\n",
    "y_pred = model.predict(X_test)\n",
    "\n",
    "accuracy = accuracy_score(y_test, y_pred)\n",
    "print(f\"Accuracy: {round(accuracy * 100, 2)}%\")"
   ]
  },
  {
   "cell_type": "code",
   "execution_count": 198,
   "metadata": {},
   "outputs": [
    {
     "name": "stdout",
     "output_type": "stream",
     "text": [
      "Customer attributes: \n",
      " difficulty                 5.0\n",
      "duration                   5.0\n",
      "channel_email              1.0\n",
      "channel_web                1.0\n",
      "channel_mobile             1.0\n",
      "channel_social             1.0\n",
      "age_categories_10-19       0.0\n",
      "age_categories_20-29       0.0\n",
      "age_categories_30-39       0.0\n",
      "age_categories_40-49       0.0\n",
      "age_categories_50-59       0.0\n",
      "age_categories_60-69       1.0\n",
      "age_categories_70-79       0.0\n",
      "age_categories_80-89       0.0\n",
      "age_categories_Missing     0.0\n",
      "income_binned_30k-39k      0.0\n",
      "income_binned_40k-49k      0.0\n",
      "income_binned_50k-59k      0.0\n",
      "income_binned_60k-69k      0.0\n",
      "income_binned_70k-79k      0.0\n",
      "income_binned_80k-89k      0.0\n",
      "income_binned_90k-99k      0.0\n",
      "income_binned_100k-109k    0.0\n",
      "income_binned_110k-120k    1.0\n",
      "became_member_year_2013    0.0\n",
      "became_member_year_2014    0.0\n",
      "became_member_year_2015    0.0\n",
      "became_member_year_2016    0.0\n",
      "became_member_year_2017    1.0\n",
      "became_member_year_2018    0.0\n",
      "gender_F                   0.0\n",
      "gender_M                   1.0\n",
      "gender_N                   0.0\n",
      "gender_O                   0.0\n",
      "Name: 116866, dtype: float64 \n",
      " \n",
      "Prediction (Offer):  bogo \n",
      "Original (Offer):  bogo\n"
     ]
    }
   ],
   "source": [
    "print('Customer attributes:', '\\n', X_test.iloc[0, :], '\\n', \n",
    "      '\\nPrediction (Offer): ', le.inverse_transform([y_pred[0]])[0],\n",
    "      '\\nOriginal (Offer): ', le.inverse_transform([y_test[0]])[0])"
   ]
  },
  {
   "cell_type": "code",
   "execution_count": 199,
   "metadata": {},
   "outputs": [],
   "source": [
    "def recommend(attributes, model):\n",
    "    return le.inverse_transform(model.predict(attributes))"
   ]
  },
  {
   "cell_type": "code",
   "execution_count": 204,
   "metadata": {},
   "outputs": [
    {
     "data": {
      "text/plain": [
       "array(['bogo', 'bogo', 'bogo', 'bogo', 'bogo', 'bogo', 'bogo', 'bogo',\n",
       "       'bogo', 'bogo', 'bogo', 'bogo', 'bogo', 'bogo', 'bogo', 'bogo',\n",
       "       'bogo', 'bogo', 'bogo', 'bogo', 'bogo', 'bogo', 'bogo', 'bogo',\n",
       "       'bogo', 'bogo', 'bogo', 'bogo', 'bogo', 'bogo', 'bogo', 'bogo',\n",
       "       'bogo', 'discount', 'bogo', 'bogo', 'bogo', 'bogo', 'bogo', 'bogo',\n",
       "       'bogo', 'bogo', 'bogo', 'bogo', 'bogo', 'bogo', 'bogo', 'bogo',\n",
       "       'bogo', 'bogo', 'bogo', 'bogo', 'bogo', 'bogo', 'bogo', 'bogo',\n",
       "       'bogo', 'bogo', 'bogo', 'bogo', 'discount', 'bogo', 'bogo', 'bogo',\n",
       "       'bogo', 'bogo', 'bogo', 'bogo', 'bogo', 'bogo', 'bogo', 'bogo',\n",
       "       'bogo', 'bogo', 'bogo', 'bogo', 'bogo', 'bogo', 'bogo', 'bogo',\n",
       "       'bogo', 'bogo', 'bogo', 'bogo', 'bogo', 'bogo', 'bogo', 'discount',\n",
       "       'bogo', 'bogo', 'bogo', 'bogo', 'discount', 'bogo', 'bogo', 'bogo',\n",
       "       'bogo', 'bogo', 'bogo', 'bogo', 'bogo', 'bogo', 'bogo', 'bogo',\n",
       "       'bogo', 'bogo', 'bogo', 'bogo', 'bogo', 'bogo', 'bogo', 'bogo',\n",
       "       'bogo', 'bogo', 'bogo', 'bogo', 'bogo', 'bogo', 'bogo', 'bogo',\n",
       "       'bogo', 'bogo', 'bogo', 'bogo', 'bogo', 'bogo', 'bogo', 'bogo',\n",
       "       'bogo', 'bogo', 'bogo', 'bogo', 'bogo', 'bogo', 'bogo', 'bogo',\n",
       "       'discount', 'bogo', 'bogo', 'bogo', 'bogo', 'bogo', 'bogo', 'bogo',\n",
       "       'bogo', 'bogo', 'bogo', 'bogo', 'bogo', 'bogo', 'bogo', 'bogo',\n",
       "       'bogo', 'bogo', 'discount', 'bogo', 'bogo', 'bogo', 'bogo', 'bogo',\n",
       "       'bogo', 'bogo', 'bogo', 'bogo', 'bogo', 'bogo', 'bogo', 'bogo',\n",
       "       'bogo', 'bogo', 'bogo', 'bogo', 'bogo', 'bogo', 'bogo', 'bogo',\n",
       "       'bogo', 'bogo', 'bogo', 'bogo', 'bogo', 'bogo', 'bogo', 'bogo',\n",
       "       'bogo', 'bogo', 'bogo', 'bogo', 'bogo', 'bogo', 'bogo', 'bogo',\n",
       "       'bogo', 'bogo', 'bogo', 'bogo', 'bogo', 'bogo', 'bogo', 'bogo',\n",
       "       'bogo', 'bogo', 'discount', 'bogo', 'bogo', 'bogo', 'bogo',\n",
       "       'discount', 'bogo', 'bogo', 'bogo', 'bogo', 'bogo', 'discount',\n",
       "       'discount', 'bogo', 'bogo', 'bogo', 'bogo', 'bogo', 'bogo', 'bogo',\n",
       "       'bogo', 'bogo', 'bogo', 'bogo', 'bogo', 'bogo', 'bogo', 'bogo',\n",
       "       'bogo', 'bogo', 'discount', 'bogo', 'bogo', 'bogo', 'bogo', 'bogo',\n",
       "       'bogo', 'bogo', 'bogo', 'bogo', 'bogo', 'bogo', 'bogo', 'bogo',\n",
       "       'bogo', 'bogo', 'bogo', 'bogo', 'bogo', 'discount', 'bogo', 'bogo',\n",
       "       'bogo', 'bogo', 'bogo', 'bogo', 'bogo', 'bogo', 'bogo', 'bogo',\n",
       "       'discount', 'bogo', 'bogo', 'bogo', 'bogo', 'bogo', 'bogo', 'bogo',\n",
       "       'bogo', 'bogo', 'bogo', 'bogo', 'bogo', 'bogo', 'bogo', 'bogo',\n",
       "       'discount', 'bogo', 'bogo', 'bogo', 'bogo', 'bogo', 'bogo', 'bogo',\n",
       "       'bogo', 'discount', 'bogo', 'bogo', 'bogo', 'bogo', 'bogo',\n",
       "       'discount', 'bogo', 'bogo', 'bogo', 'bogo', 'bogo', 'bogo', 'bogo',\n",
       "       'bogo', 'bogo', 'bogo', 'bogo', 'bogo', 'bogo', 'bogo', 'bogo',\n",
       "       'bogo', 'bogo', 'bogo', 'discount', 'bogo', 'bogo', 'bogo', 'bogo',\n",
       "       'bogo', 'bogo', 'bogo', 'bogo', 'bogo', 'bogo', 'bogo', 'bogo',\n",
       "       'bogo', 'bogo', 'bogo', 'bogo', 'bogo', 'bogo', 'bogo', 'bogo',\n",
       "       'bogo', 'bogo', 'bogo', 'bogo', 'bogo', 'bogo', 'bogo', 'bogo',\n",
       "       'bogo', 'bogo', 'bogo', 'discount', 'bogo', 'bogo', 'bogo', 'bogo',\n",
       "       'bogo', 'bogo', 'discount', 'bogo', 'bogo', 'bogo', 'bogo', 'bogo',\n",
       "       'bogo', 'bogo', 'bogo', 'bogo', 'bogo', 'bogo', 'bogo', 'bogo',\n",
       "       'discount', 'bogo', 'bogo', 'bogo', 'bogo', 'bogo', 'discount',\n",
       "       'bogo', 'discount', 'bogo', 'bogo', 'bogo', 'bogo', 'bogo', 'bogo',\n",
       "       'bogo', 'discount', 'bogo', 'bogo', 'bogo', 'bogo', 'bogo',\n",
       "       'discount', 'bogo', 'bogo', 'bogo', 'bogo', 'bogo', 'bogo', 'bogo',\n",
       "       'bogo', 'bogo', 'bogo', 'bogo', 'discount', 'bogo', 'discount',\n",
       "       'bogo', 'bogo', 'discount', 'bogo', 'bogo', 'bogo', 'bogo', 'bogo',\n",
       "       'bogo', 'bogo', 'bogo', 'bogo', 'bogo', 'bogo', 'bogo', 'bogo',\n",
       "       'bogo', 'bogo', 'discount', 'bogo', 'discount', 'bogo', 'bogo',\n",
       "       'bogo', 'bogo', 'discount', 'bogo', 'bogo', 'bogo', 'bogo', 'bogo',\n",
       "       'bogo', 'discount', 'bogo', 'bogo', 'bogo', 'bogo', 'bogo', 'bogo',\n",
       "       'bogo', 'bogo', 'bogo', 'bogo', 'bogo', 'bogo', 'bogo', 'bogo',\n",
       "       'bogo'], dtype=object)"
      ]
     },
     "execution_count": 204,
     "metadata": {},
     "output_type": "execute_result"
    }
   ],
   "source": [
    "recommend(X_test.iloc[100:550, :], model)"
   ]
  },
  {
   "cell_type": "code",
   "execution_count": null,
   "metadata": {},
   "outputs": [],
   "source": []
  }
 ],
 "metadata": {
  "kernelspec": {
   "display_name": "Python 3",
   "language": "python",
   "name": "python3"
  },
  "language_info": {
   "codemirror_mode": {
    "name": "ipython",
    "version": 3
   },
   "file_extension": ".py",
   "mimetype": "text/x-python",
   "name": "python",
   "nbconvert_exporter": "python",
   "pygments_lexer": "ipython3",
   "version": "3.7.4"
  }
 },
 "nbformat": 4,
 "nbformat_minor": 2
}
