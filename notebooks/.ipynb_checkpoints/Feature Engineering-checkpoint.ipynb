{
 "cells": [
  {
   "cell_type": "code",
   "execution_count": 7,
   "metadata": {},
   "outputs": [],
   "source": [
    "import pandas as pd\n",
    "import numpy as np\n",
    "import matplotlib.pyplot as plt"
   ]
  },
  {
   "cell_type": "code",
   "execution_count": 8,
   "metadata": {},
   "outputs": [],
   "source": [
    "df = pd.read_csv('../input/aggregated-income.csv')"
   ]
  },
  {
   "cell_type": "code",
   "execution_count": 9,
   "metadata": {},
   "outputs": [
    {
     "data": {
      "text/html": [
       "<div>\n",
       "<style scoped>\n",
       "    .dataframe tbody tr th:only-of-type {\n",
       "        vertical-align: middle;\n",
       "    }\n",
       "\n",
       "    .dataframe tbody tr th {\n",
       "        vertical-align: top;\n",
       "    }\n",
       "\n",
       "    .dataframe thead th {\n",
       "        text-align: right;\n",
       "    }\n",
       "</style>\n",
       "<table border=\"1\" class=\"dataframe\">\n",
       "  <thead>\n",
       "    <tr style=\"text-align: right;\">\n",
       "      <th></th>\n",
       "      <th>age</th>\n",
       "      <th>became_member_on</th>\n",
       "      <th>gender</th>\n",
       "      <th>id</th>\n",
       "      <th>income</th>\n",
       "      <th>became_member_year</th>\n",
       "      <th>age_categories</th>\n",
       "      <th>person</th>\n",
       "      <th>total_amount</th>\n",
       "      <th>total_transactions</th>\n",
       "      <th>...</th>\n",
       "      <th>total_planned_reward_payout</th>\n",
       "      <th>converted_email_touchpoints</th>\n",
       "      <th>converted_mobile_touchpoints</th>\n",
       "      <th>converted_social_touchpoints</th>\n",
       "      <th>converted_web_touchpoints</th>\n",
       "      <th>total_average_duration</th>\n",
       "      <th>completed_average_duration</th>\n",
       "      <th>total_average_difficulty</th>\n",
       "      <th>completed_average_difficulty</th>\n",
       "      <th>income_binned</th>\n",
       "    </tr>\n",
       "  </thead>\n",
       "  <tbody>\n",
       "    <tr>\n",
       "      <td>0</td>\n",
       "      <td>118</td>\n",
       "      <td>2017-02-12</td>\n",
       "      <td>N</td>\n",
       "      <td>68be06ca386d4c31939f3a4f0e3dd783</td>\n",
       "      <td>64000.0</td>\n",
       "      <td>2017</td>\n",
       "      <td>Missing</td>\n",
       "      <td>68be06ca386d4c31939f3a4f0e3dd783</td>\n",
       "      <td>20.0</td>\n",
       "      <td>9</td>\n",
       "      <td>...</td>\n",
       "      <td>14.0</td>\n",
       "      <td>2.0</td>\n",
       "      <td>2.0</td>\n",
       "      <td>2.0</td>\n",
       "      <td>2.0</td>\n",
       "      <td>9.0</td>\n",
       "      <td>8.0</td>\n",
       "      <td>11.0</td>\n",
       "      <td>8.0</td>\n",
       "      <td>60k-69k</td>\n",
       "    </tr>\n",
       "    <tr>\n",
       "      <td>1</td>\n",
       "      <td>55</td>\n",
       "      <td>2017-07-15</td>\n",
       "      <td>F</td>\n",
       "      <td>0610b486422d4921ae7d2bf64640c50b</td>\n",
       "      <td>112000.0</td>\n",
       "      <td>2017</td>\n",
       "      <td>50-59</td>\n",
       "      <td>0610b486422d4921ae7d2bf64640c50b</td>\n",
       "      <td>77.0</td>\n",
       "      <td>3</td>\n",
       "      <td>...</td>\n",
       "      <td>5.0</td>\n",
       "      <td>1.0</td>\n",
       "      <td>1.0</td>\n",
       "      <td>0.0</td>\n",
       "      <td>1.0</td>\n",
       "      <td>6.0</td>\n",
       "      <td>7.0</td>\n",
       "      <td>2.0</td>\n",
       "      <td>5.0</td>\n",
       "      <td>110k-120k</td>\n",
       "    </tr>\n",
       "    <tr>\n",
       "      <td>2</td>\n",
       "      <td>118</td>\n",
       "      <td>2018-07-12</td>\n",
       "      <td>N</td>\n",
       "      <td>38fe809add3b4fcf9315a9694bb96ff5</td>\n",
       "      <td>64000.0</td>\n",
       "      <td>2018</td>\n",
       "      <td>Missing</td>\n",
       "      <td>38fe809add3b4fcf9315a9694bb96ff5</td>\n",
       "      <td>14.0</td>\n",
       "      <td>6</td>\n",
       "      <td>...</td>\n",
       "      <td>5.0</td>\n",
       "      <td>0.0</td>\n",
       "      <td>0.0</td>\n",
       "      <td>0.0</td>\n",
       "      <td>0.0</td>\n",
       "      <td>5.0</td>\n",
       "      <td>0.0</td>\n",
       "      <td>2.0</td>\n",
       "      <td>0.0</td>\n",
       "      <td>60k-69k</td>\n",
       "    </tr>\n",
       "    <tr>\n",
       "      <td>3</td>\n",
       "      <td>75</td>\n",
       "      <td>2017-05-09</td>\n",
       "      <td>F</td>\n",
       "      <td>78afa995795e4d85b5d9ceeca43f5fef</td>\n",
       "      <td>100000.0</td>\n",
       "      <td>2017</td>\n",
       "      <td>70-79</td>\n",
       "      <td>78afa995795e4d85b5d9ceeca43f5fef</td>\n",
       "      <td>159.0</td>\n",
       "      <td>7</td>\n",
       "      <td>...</td>\n",
       "      <td>20.0</td>\n",
       "      <td>3.0</td>\n",
       "      <td>3.0</td>\n",
       "      <td>2.0</td>\n",
       "      <td>2.0</td>\n",
       "      <td>6.0</td>\n",
       "      <td>6.0</td>\n",
       "      <td>5.0</td>\n",
       "      <td>7.0</td>\n",
       "      <td>90k-99k</td>\n",
       "    </tr>\n",
       "    <tr>\n",
       "      <td>4</td>\n",
       "      <td>118</td>\n",
       "      <td>2017-08-04</td>\n",
       "      <td>N</td>\n",
       "      <td>a03223e636434f42ac4c3df47e8bac43</td>\n",
       "      <td>64000.0</td>\n",
       "      <td>2017</td>\n",
       "      <td>Missing</td>\n",
       "      <td>a03223e636434f42ac4c3df47e8bac43</td>\n",
       "      <td>5.0</td>\n",
       "      <td>3</td>\n",
       "      <td>...</td>\n",
       "      <td>15.0</td>\n",
       "      <td>0.0</td>\n",
       "      <td>0.0</td>\n",
       "      <td>0.0</td>\n",
       "      <td>0.0</td>\n",
       "      <td>7.0</td>\n",
       "      <td>0.0</td>\n",
       "      <td>12.0</td>\n",
       "      <td>0.0</td>\n",
       "      <td>60k-69k</td>\n",
       "    </tr>\n",
       "  </tbody>\n",
       "</table>\n",
       "<p>5 rows × 32 columns</p>\n",
       "</div>"
      ],
      "text/plain": [
       "   age became_member_on gender                                id    income  \\\n",
       "0  118       2017-02-12      N  68be06ca386d4c31939f3a4f0e3dd783   64000.0   \n",
       "1   55       2017-07-15      F  0610b486422d4921ae7d2bf64640c50b  112000.0   \n",
       "2  118       2018-07-12      N  38fe809add3b4fcf9315a9694bb96ff5   64000.0   \n",
       "3   75       2017-05-09      F  78afa995795e4d85b5d9ceeca43f5fef  100000.0   \n",
       "4  118       2017-08-04      N  a03223e636434f42ac4c3df47e8bac43   64000.0   \n",
       "\n",
       "   became_member_year age_categories                            person  \\\n",
       "0                2017        Missing  68be06ca386d4c31939f3a4f0e3dd783   \n",
       "1                2017          50-59  0610b486422d4921ae7d2bf64640c50b   \n",
       "2                2018        Missing  38fe809add3b4fcf9315a9694bb96ff5   \n",
       "3                2017          70-79  78afa995795e4d85b5d9ceeca43f5fef   \n",
       "4                2017        Missing  a03223e636434f42ac4c3df47e8bac43   \n",
       "\n",
       "   total_amount  total_transactions  ...  total_planned_reward_payout  \\\n",
       "0          20.0                   9  ...                         14.0   \n",
       "1          77.0                   3  ...                          5.0   \n",
       "2          14.0                   6  ...                          5.0   \n",
       "3         159.0                   7  ...                         20.0   \n",
       "4           5.0                   3  ...                         15.0   \n",
       "\n",
       "   converted_email_touchpoints  converted_mobile_touchpoints  \\\n",
       "0                          2.0                           2.0   \n",
       "1                          1.0                           1.0   \n",
       "2                          0.0                           0.0   \n",
       "3                          3.0                           3.0   \n",
       "4                          0.0                           0.0   \n",
       "\n",
       "   converted_social_touchpoints  converted_web_touchpoints  \\\n",
       "0                           2.0                        2.0   \n",
       "1                           0.0                        1.0   \n",
       "2                           0.0                        0.0   \n",
       "3                           2.0                        2.0   \n",
       "4                           0.0                        0.0   \n",
       "\n",
       "   total_average_duration  completed_average_duration  \\\n",
       "0                     9.0                         8.0   \n",
       "1                     6.0                         7.0   \n",
       "2                     5.0                         0.0   \n",
       "3                     6.0                         6.0   \n",
       "4                     7.0                         0.0   \n",
       "\n",
       "   total_average_difficulty  completed_average_difficulty  income_binned  \n",
       "0                      11.0                           8.0        60k-69k  \n",
       "1                       2.0                           5.0      110k-120k  \n",
       "2                       2.0                           0.0        60k-69k  \n",
       "3                       5.0                           7.0        90k-99k  \n",
       "4                      12.0                           0.0        60k-69k  \n",
       "\n",
       "[5 rows x 32 columns]"
      ]
     },
     "execution_count": 9,
     "metadata": {},
     "output_type": "execute_result"
    }
   ],
   "source": [
    "df.head(5)"
   ]
  },
  {
   "cell_type": "code",
   "execution_count": 10,
   "metadata": {},
   "outputs": [
    {
     "data": {
      "text/plain": [
       "Index(['age', 'became_member_on', 'gender', 'id', 'income',\n",
       "       'became_member_year', 'age_categories', 'person', 'total_amount',\n",
       "       'total_transactions', 'total_offers_received', 'total_offers_viewed',\n",
       "       'total_offers_completed', 'total_offers_bogo', 'total_offers_discount',\n",
       "       'total_offers_informational', 'converted_bogo', 'converted_discount',\n",
       "       'converted_informational', 'all_events_count', 'events_avg_time_diff',\n",
       "       'total_reward_payout', 'total_planned_reward_payout',\n",
       "       'converted_email_touchpoints', 'converted_mobile_touchpoints',\n",
       "       'converted_social_touchpoints', 'converted_web_touchpoints',\n",
       "       'total_average_duration', 'completed_average_duration',\n",
       "       'total_average_difficulty', 'completed_average_difficulty',\n",
       "       'income_binned'],\n",
       "      dtype='object')"
      ]
     },
     "execution_count": 10,
     "metadata": {},
     "output_type": "execute_result"
    }
   ],
   "source": [
    "df.columns"
   ]
  },
  {
   "cell_type": "code",
   "execution_count": 11,
   "metadata": {},
   "outputs": [],
   "source": [
    "df = df.loc[:, ['gender', \n",
    "           'became_member_year', \n",
    "           'age_categories',\n",
    "           'income_binned',\n",
    "           'total_offers_bogo', \n",
    "           'total_offers_discount',\n",
    "           'converted_bogo',\n",
    "           'converted_discount'\n",
    "          ]]\n",
    "\n",
    "df['conversion_rate_bogo'] = df['converted_bogo'].div(df['total_offers_bogo'].where(df['total_offers_bogo'] != 0, np.nan))\n",
    "df['conversion_rate_discount'] = df['converted_discount'].div(df['total_offers_discount'].where(df['total_offers_discount'] !=0, np.nan))"
   ]
  },
  {
   "cell_type": "code",
   "execution_count": 12,
   "metadata": {},
   "outputs": [],
   "source": [
    "df = df.fillna(0)"
   ]
  },
  {
   "cell_type": "code",
   "execution_count": 13,
   "metadata": {},
   "outputs": [
    {
     "data": {
      "text/html": [
       "<div>\n",
       "<style scoped>\n",
       "    .dataframe tbody tr th:only-of-type {\n",
       "        vertical-align: middle;\n",
       "    }\n",
       "\n",
       "    .dataframe tbody tr th {\n",
       "        vertical-align: top;\n",
       "    }\n",
       "\n",
       "    .dataframe thead th {\n",
       "        text-align: right;\n",
       "    }\n",
       "</style>\n",
       "<table border=\"1\" class=\"dataframe\">\n",
       "  <thead>\n",
       "    <tr style=\"text-align: right;\">\n",
       "      <th></th>\n",
       "      <th>gender</th>\n",
       "      <th>became_member_year</th>\n",
       "      <th>age_categories</th>\n",
       "      <th>income_binned</th>\n",
       "      <th>total_offers_bogo</th>\n",
       "      <th>total_offers_discount</th>\n",
       "      <th>converted_bogo</th>\n",
       "      <th>converted_discount</th>\n",
       "      <th>conversion_rate_bogo</th>\n",
       "      <th>conversion_rate_discount</th>\n",
       "    </tr>\n",
       "  </thead>\n",
       "  <tbody>\n",
       "    <tr>\n",
       "      <td>0</td>\n",
       "      <td>N</td>\n",
       "      <td>2017</td>\n",
       "      <td>Missing</td>\n",
       "      <td>60k-69k</td>\n",
       "      <td>0.0</td>\n",
       "      <td>5.0</td>\n",
       "      <td>0.0</td>\n",
       "      <td>2.0</td>\n",
       "      <td>0.0</td>\n",
       "      <td>0.4</td>\n",
       "    </tr>\n",
       "    <tr>\n",
       "      <td>1</td>\n",
       "      <td>F</td>\n",
       "      <td>2017</td>\n",
       "      <td>50-59</td>\n",
       "      <td>110k-120k</td>\n",
       "      <td>1.0</td>\n",
       "      <td>0.0</td>\n",
       "      <td>1.0</td>\n",
       "      <td>0.0</td>\n",
       "      <td>1.0</td>\n",
       "      <td>0.0</td>\n",
       "    </tr>\n",
       "    <tr>\n",
       "      <td>2</td>\n",
       "      <td>N</td>\n",
       "      <td>2018</td>\n",
       "      <td>Missing</td>\n",
       "      <td>60k-69k</td>\n",
       "      <td>1.0</td>\n",
       "      <td>0.0</td>\n",
       "      <td>0.0</td>\n",
       "      <td>0.0</td>\n",
       "      <td>0.0</td>\n",
       "      <td>0.0</td>\n",
       "    </tr>\n",
       "    <tr>\n",
       "      <td>3</td>\n",
       "      <td>F</td>\n",
       "      <td>2017</td>\n",
       "      <td>70-79</td>\n",
       "      <td>90k-99k</td>\n",
       "      <td>3.0</td>\n",
       "      <td>0.0</td>\n",
       "      <td>3.0</td>\n",
       "      <td>0.0</td>\n",
       "      <td>1.0</td>\n",
       "      <td>0.0</td>\n",
       "    </tr>\n",
       "    <tr>\n",
       "      <td>4</td>\n",
       "      <td>N</td>\n",
       "      <td>2017</td>\n",
       "      <td>Missing</td>\n",
       "      <td>60k-69k</td>\n",
       "      <td>0.0</td>\n",
       "      <td>3.0</td>\n",
       "      <td>0.0</td>\n",
       "      <td>0.0</td>\n",
       "      <td>0.0</td>\n",
       "      <td>0.0</td>\n",
       "    </tr>\n",
       "  </tbody>\n",
       "</table>\n",
       "</div>"
      ],
      "text/plain": [
       "  gender  became_member_year age_categories income_binned  total_offers_bogo  \\\n",
       "0      N                2017        Missing       60k-69k                0.0   \n",
       "1      F                2017          50-59     110k-120k                1.0   \n",
       "2      N                2018        Missing       60k-69k                1.0   \n",
       "3      F                2017          70-79       90k-99k                3.0   \n",
       "4      N                2017        Missing       60k-69k                0.0   \n",
       "\n",
       "   total_offers_discount  converted_bogo  converted_discount  \\\n",
       "0                    5.0             0.0                 2.0   \n",
       "1                    0.0             1.0                 0.0   \n",
       "2                    0.0             0.0                 0.0   \n",
       "3                    0.0             3.0                 0.0   \n",
       "4                    3.0             0.0                 0.0   \n",
       "\n",
       "   conversion_rate_bogo  conversion_rate_discount  \n",
       "0                   0.0                       0.4  \n",
       "1                   1.0                       0.0  \n",
       "2                   0.0                       0.0  \n",
       "3                   1.0                       0.0  \n",
       "4                   0.0                       0.0  "
      ]
     },
     "execution_count": 13,
     "metadata": {},
     "output_type": "execute_result"
    }
   ],
   "source": [
    "df.head(5)"
   ]
  },
  {
   "cell_type": "code",
   "execution_count": 14,
   "metadata": {},
   "outputs": [],
   "source": [
    "def offer_type(df):\n",
    "    #bogo = (df['conversion_rate_bogo'] > 0.6) | np.bitwise_and(df['conversion_rate_discount'] == 0, df['conversion_rate_bogo'] > 0.19)\n",
    "    #discount = (df['conversion_rate_discount'] > 0.6) | np.bitwise_and(df['conversion_rate_bogo'] == 0, df['conversion_rate_discount'] > 0.19)\n",
    "    #indifferent = np.bitwise_and(df['conversion_rate_bogo'] > 0.3, df['conversion_rate_discount'] > 0.3)\n",
    "    bogo = df['conversion_rate_bogo'] > 0.2\n",
    "    discount = df['conversion_rate_discount'] > 0.2\n",
    "    if bogo:\n",
    "        return 'bogo'\n",
    "    elif discount:\n",
    "        return 'discount'\n",
    "    else:\n",
    "        return 'none'\n",
    "\n",
    "df['offer_type'] = df.apply(offer_type, axis=1)"
   ]
  },
  {
   "cell_type": "code",
   "execution_count": 15,
   "metadata": {},
   "outputs": [
    {
     "data": {
      "text/html": [
       "<div>\n",
       "<style scoped>\n",
       "    .dataframe tbody tr th:only-of-type {\n",
       "        vertical-align: middle;\n",
       "    }\n",
       "\n",
       "    .dataframe tbody tr th {\n",
       "        vertical-align: top;\n",
       "    }\n",
       "\n",
       "    .dataframe thead th {\n",
       "        text-align: right;\n",
       "    }\n",
       "</style>\n",
       "<table border=\"1\" class=\"dataframe\">\n",
       "  <thead>\n",
       "    <tr style=\"text-align: right;\">\n",
       "      <th></th>\n",
       "      <th>gender</th>\n",
       "      <th>became_member_year</th>\n",
       "      <th>age_categories</th>\n",
       "      <th>income_binned</th>\n",
       "      <th>total_offers_bogo</th>\n",
       "      <th>total_offers_discount</th>\n",
       "      <th>converted_bogo</th>\n",
       "      <th>converted_discount</th>\n",
       "      <th>conversion_rate_bogo</th>\n",
       "      <th>conversion_rate_discount</th>\n",
       "      <th>offer_type</th>\n",
       "    </tr>\n",
       "  </thead>\n",
       "  <tbody>\n",
       "    <tr>\n",
       "      <td>0</td>\n",
       "      <td>N</td>\n",
       "      <td>2017</td>\n",
       "      <td>Missing</td>\n",
       "      <td>60k-69k</td>\n",
       "      <td>0.0</td>\n",
       "      <td>5.0</td>\n",
       "      <td>0.0</td>\n",
       "      <td>2.0</td>\n",
       "      <td>0.0</td>\n",
       "      <td>0.4</td>\n",
       "      <td>discount</td>\n",
       "    </tr>\n",
       "    <tr>\n",
       "      <td>1</td>\n",
       "      <td>F</td>\n",
       "      <td>2017</td>\n",
       "      <td>50-59</td>\n",
       "      <td>110k-120k</td>\n",
       "      <td>1.0</td>\n",
       "      <td>0.0</td>\n",
       "      <td>1.0</td>\n",
       "      <td>0.0</td>\n",
       "      <td>1.0</td>\n",
       "      <td>0.0</td>\n",
       "      <td>bogo</td>\n",
       "    </tr>\n",
       "    <tr>\n",
       "      <td>2</td>\n",
       "      <td>N</td>\n",
       "      <td>2018</td>\n",
       "      <td>Missing</td>\n",
       "      <td>60k-69k</td>\n",
       "      <td>1.0</td>\n",
       "      <td>0.0</td>\n",
       "      <td>0.0</td>\n",
       "      <td>0.0</td>\n",
       "      <td>0.0</td>\n",
       "      <td>0.0</td>\n",
       "      <td>none</td>\n",
       "    </tr>\n",
       "    <tr>\n",
       "      <td>3</td>\n",
       "      <td>F</td>\n",
       "      <td>2017</td>\n",
       "      <td>70-79</td>\n",
       "      <td>90k-99k</td>\n",
       "      <td>3.0</td>\n",
       "      <td>0.0</td>\n",
       "      <td>3.0</td>\n",
       "      <td>0.0</td>\n",
       "      <td>1.0</td>\n",
       "      <td>0.0</td>\n",
       "      <td>bogo</td>\n",
       "    </tr>\n",
       "    <tr>\n",
       "      <td>4</td>\n",
       "      <td>N</td>\n",
       "      <td>2017</td>\n",
       "      <td>Missing</td>\n",
       "      <td>60k-69k</td>\n",
       "      <td>0.0</td>\n",
       "      <td>3.0</td>\n",
       "      <td>0.0</td>\n",
       "      <td>0.0</td>\n",
       "      <td>0.0</td>\n",
       "      <td>0.0</td>\n",
       "      <td>none</td>\n",
       "    </tr>\n",
       "  </tbody>\n",
       "</table>\n",
       "</div>"
      ],
      "text/plain": [
       "  gender  became_member_year age_categories income_binned  total_offers_bogo  \\\n",
       "0      N                2017        Missing       60k-69k                0.0   \n",
       "1      F                2017          50-59     110k-120k                1.0   \n",
       "2      N                2018        Missing       60k-69k                1.0   \n",
       "3      F                2017          70-79       90k-99k                3.0   \n",
       "4      N                2017        Missing       60k-69k                0.0   \n",
       "\n",
       "   total_offers_discount  converted_bogo  converted_discount  \\\n",
       "0                    5.0             0.0                 2.0   \n",
       "1                    0.0             1.0                 0.0   \n",
       "2                    0.0             0.0                 0.0   \n",
       "3                    0.0             3.0                 0.0   \n",
       "4                    3.0             0.0                 0.0   \n",
       "\n",
       "   conversion_rate_bogo  conversion_rate_discount offer_type  \n",
       "0                   0.0                       0.4   discount  \n",
       "1                   1.0                       0.0       bogo  \n",
       "2                   0.0                       0.0       none  \n",
       "3                   1.0                       0.0       bogo  \n",
       "4                   0.0                       0.0       none  "
      ]
     },
     "execution_count": 15,
     "metadata": {},
     "output_type": "execute_result"
    }
   ],
   "source": [
    "df.head(5)"
   ]
  },
  {
   "cell_type": "code",
   "execution_count": 16,
   "metadata": {},
   "outputs": [
    {
     "name": "stdout",
     "output_type": "stream",
     "text": [
      "(17000, 11)\n",
      "bogo        9243\n",
      "none        4267\n",
      "discount    3490\n",
      "Name: offer_type, dtype: int64\n"
     ]
    }
   ],
   "source": [
    "print(df.shape)\n",
    "print(df['offer_type'].value_counts())"
   ]
  },
  {
   "cell_type": "code",
   "execution_count": 17,
   "metadata": {},
   "outputs": [],
   "source": [
    "df = df.drop(columns=['total_offers_bogo', 'total_offers_discount', 'converted_bogo', 'converted_discount', 'conversion_rate_bogo', 'conversion_rate_discount'], axis=1)"
   ]
  },
  {
   "cell_type": "code",
   "execution_count": 18,
   "metadata": {},
   "outputs": [
    {
     "data": {
      "text/html": [
       "<div>\n",
       "<style scoped>\n",
       "    .dataframe tbody tr th:only-of-type {\n",
       "        vertical-align: middle;\n",
       "    }\n",
       "\n",
       "    .dataframe tbody tr th {\n",
       "        vertical-align: top;\n",
       "    }\n",
       "\n",
       "    .dataframe thead th {\n",
       "        text-align: right;\n",
       "    }\n",
       "</style>\n",
       "<table border=\"1\" class=\"dataframe\">\n",
       "  <thead>\n",
       "    <tr style=\"text-align: right;\">\n",
       "      <th></th>\n",
       "      <th>gender</th>\n",
       "      <th>became_member_year</th>\n",
       "      <th>age_categories</th>\n",
       "      <th>income_binned</th>\n",
       "      <th>offer_type</th>\n",
       "    </tr>\n",
       "  </thead>\n",
       "  <tbody>\n",
       "    <tr>\n",
       "      <td>0</td>\n",
       "      <td>N</td>\n",
       "      <td>2017</td>\n",
       "      <td>Missing</td>\n",
       "      <td>60k-69k</td>\n",
       "      <td>discount</td>\n",
       "    </tr>\n",
       "    <tr>\n",
       "      <td>1</td>\n",
       "      <td>F</td>\n",
       "      <td>2017</td>\n",
       "      <td>50-59</td>\n",
       "      <td>110k-120k</td>\n",
       "      <td>bogo</td>\n",
       "    </tr>\n",
       "    <tr>\n",
       "      <td>2</td>\n",
       "      <td>N</td>\n",
       "      <td>2018</td>\n",
       "      <td>Missing</td>\n",
       "      <td>60k-69k</td>\n",
       "      <td>none</td>\n",
       "    </tr>\n",
       "    <tr>\n",
       "      <td>3</td>\n",
       "      <td>F</td>\n",
       "      <td>2017</td>\n",
       "      <td>70-79</td>\n",
       "      <td>90k-99k</td>\n",
       "      <td>bogo</td>\n",
       "    </tr>\n",
       "    <tr>\n",
       "      <td>4</td>\n",
       "      <td>N</td>\n",
       "      <td>2017</td>\n",
       "      <td>Missing</td>\n",
       "      <td>60k-69k</td>\n",
       "      <td>none</td>\n",
       "    </tr>\n",
       "  </tbody>\n",
       "</table>\n",
       "</div>"
      ],
      "text/plain": [
       "  gender  became_member_year age_categories income_binned offer_type\n",
       "0      N                2017        Missing       60k-69k   discount\n",
       "1      F                2017          50-59     110k-120k       bogo\n",
       "2      N                2018        Missing       60k-69k       none\n",
       "3      F                2017          70-79       90k-99k       bogo\n",
       "4      N                2017        Missing       60k-69k       none"
      ]
     },
     "execution_count": 18,
     "metadata": {},
     "output_type": "execute_result"
    }
   ],
   "source": [
    "df.head(5)"
   ]
  },
  {
   "cell_type": "code",
   "execution_count": 19,
   "metadata": {},
   "outputs": [],
   "source": [
    "df = pd.get_dummies(df, columns=['age_categories', 'income_binned', 'became_member_year', 'gender'])"
   ]
  },
  {
   "cell_type": "code",
   "execution_count": 20,
   "metadata": {},
   "outputs": [
    {
     "data": {
      "text/html": [
       "<div>\n",
       "<style scoped>\n",
       "    .dataframe tbody tr th:only-of-type {\n",
       "        vertical-align: middle;\n",
       "    }\n",
       "\n",
       "    .dataframe tbody tr th {\n",
       "        vertical-align: top;\n",
       "    }\n",
       "\n",
       "    .dataframe thead th {\n",
       "        text-align: right;\n",
       "    }\n",
       "</style>\n",
       "<table border=\"1\" class=\"dataframe\">\n",
       "  <thead>\n",
       "    <tr style=\"text-align: right;\">\n",
       "      <th></th>\n",
       "      <th>offer_type</th>\n",
       "      <th>age_categories_10-19</th>\n",
       "      <th>age_categories_20-29</th>\n",
       "      <th>age_categories_30-39</th>\n",
       "      <th>age_categories_40-49</th>\n",
       "      <th>age_categories_50-59</th>\n",
       "      <th>age_categories_60-69</th>\n",
       "      <th>age_categories_70-79</th>\n",
       "      <th>age_categories_80-89</th>\n",
       "      <th>age_categories_Missing</th>\n",
       "      <th>...</th>\n",
       "      <th>became_member_year_2013</th>\n",
       "      <th>became_member_year_2014</th>\n",
       "      <th>became_member_year_2015</th>\n",
       "      <th>became_member_year_2016</th>\n",
       "      <th>became_member_year_2017</th>\n",
       "      <th>became_member_year_2018</th>\n",
       "      <th>gender_F</th>\n",
       "      <th>gender_M</th>\n",
       "      <th>gender_N</th>\n",
       "      <th>gender_O</th>\n",
       "    </tr>\n",
       "  </thead>\n",
       "  <tbody>\n",
       "    <tr>\n",
       "      <td>0</td>\n",
       "      <td>discount</td>\n",
       "      <td>0</td>\n",
       "      <td>0</td>\n",
       "      <td>0</td>\n",
       "      <td>0</td>\n",
       "      <td>0</td>\n",
       "      <td>0</td>\n",
       "      <td>0</td>\n",
       "      <td>0</td>\n",
       "      <td>1</td>\n",
       "      <td>...</td>\n",
       "      <td>0</td>\n",
       "      <td>0</td>\n",
       "      <td>0</td>\n",
       "      <td>0</td>\n",
       "      <td>1</td>\n",
       "      <td>0</td>\n",
       "      <td>0</td>\n",
       "      <td>0</td>\n",
       "      <td>1</td>\n",
       "      <td>0</td>\n",
       "    </tr>\n",
       "    <tr>\n",
       "      <td>1</td>\n",
       "      <td>bogo</td>\n",
       "      <td>0</td>\n",
       "      <td>0</td>\n",
       "      <td>0</td>\n",
       "      <td>0</td>\n",
       "      <td>1</td>\n",
       "      <td>0</td>\n",
       "      <td>0</td>\n",
       "      <td>0</td>\n",
       "      <td>0</td>\n",
       "      <td>...</td>\n",
       "      <td>0</td>\n",
       "      <td>0</td>\n",
       "      <td>0</td>\n",
       "      <td>0</td>\n",
       "      <td>1</td>\n",
       "      <td>0</td>\n",
       "      <td>1</td>\n",
       "      <td>0</td>\n",
       "      <td>0</td>\n",
       "      <td>0</td>\n",
       "    </tr>\n",
       "    <tr>\n",
       "      <td>2</td>\n",
       "      <td>none</td>\n",
       "      <td>0</td>\n",
       "      <td>0</td>\n",
       "      <td>0</td>\n",
       "      <td>0</td>\n",
       "      <td>0</td>\n",
       "      <td>0</td>\n",
       "      <td>0</td>\n",
       "      <td>0</td>\n",
       "      <td>1</td>\n",
       "      <td>...</td>\n",
       "      <td>0</td>\n",
       "      <td>0</td>\n",
       "      <td>0</td>\n",
       "      <td>0</td>\n",
       "      <td>0</td>\n",
       "      <td>1</td>\n",
       "      <td>0</td>\n",
       "      <td>0</td>\n",
       "      <td>1</td>\n",
       "      <td>0</td>\n",
       "    </tr>\n",
       "    <tr>\n",
       "      <td>3</td>\n",
       "      <td>bogo</td>\n",
       "      <td>0</td>\n",
       "      <td>0</td>\n",
       "      <td>0</td>\n",
       "      <td>0</td>\n",
       "      <td>0</td>\n",
       "      <td>0</td>\n",
       "      <td>1</td>\n",
       "      <td>0</td>\n",
       "      <td>0</td>\n",
       "      <td>...</td>\n",
       "      <td>0</td>\n",
       "      <td>0</td>\n",
       "      <td>0</td>\n",
       "      <td>0</td>\n",
       "      <td>1</td>\n",
       "      <td>0</td>\n",
       "      <td>1</td>\n",
       "      <td>0</td>\n",
       "      <td>0</td>\n",
       "      <td>0</td>\n",
       "    </tr>\n",
       "    <tr>\n",
       "      <td>4</td>\n",
       "      <td>none</td>\n",
       "      <td>0</td>\n",
       "      <td>0</td>\n",
       "      <td>0</td>\n",
       "      <td>0</td>\n",
       "      <td>0</td>\n",
       "      <td>0</td>\n",
       "      <td>0</td>\n",
       "      <td>0</td>\n",
       "      <td>1</td>\n",
       "      <td>...</td>\n",
       "      <td>0</td>\n",
       "      <td>0</td>\n",
       "      <td>0</td>\n",
       "      <td>0</td>\n",
       "      <td>1</td>\n",
       "      <td>0</td>\n",
       "      <td>0</td>\n",
       "      <td>0</td>\n",
       "      <td>1</td>\n",
       "      <td>0</td>\n",
       "    </tr>\n",
       "  </tbody>\n",
       "</table>\n",
       "<p>5 rows × 29 columns</p>\n",
       "</div>"
      ],
      "text/plain": [
       "  offer_type  age_categories_10-19  age_categories_20-29  \\\n",
       "0   discount                     0                     0   \n",
       "1       bogo                     0                     0   \n",
       "2       none                     0                     0   \n",
       "3       bogo                     0                     0   \n",
       "4       none                     0                     0   \n",
       "\n",
       "   age_categories_30-39  age_categories_40-49  age_categories_50-59  \\\n",
       "0                     0                     0                     0   \n",
       "1                     0                     0                     1   \n",
       "2                     0                     0                     0   \n",
       "3                     0                     0                     0   \n",
       "4                     0                     0                     0   \n",
       "\n",
       "   age_categories_60-69  age_categories_70-79  age_categories_80-89  \\\n",
       "0                     0                     0                     0   \n",
       "1                     0                     0                     0   \n",
       "2                     0                     0                     0   \n",
       "3                     0                     1                     0   \n",
       "4                     0                     0                     0   \n",
       "\n",
       "   age_categories_Missing  ...  became_member_year_2013  \\\n",
       "0                       1  ...                        0   \n",
       "1                       0  ...                        0   \n",
       "2                       1  ...                        0   \n",
       "3                       0  ...                        0   \n",
       "4                       1  ...                        0   \n",
       "\n",
       "   became_member_year_2014  became_member_year_2015  became_member_year_2016  \\\n",
       "0                        0                        0                        0   \n",
       "1                        0                        0                        0   \n",
       "2                        0                        0                        0   \n",
       "3                        0                        0                        0   \n",
       "4                        0                        0                        0   \n",
       "\n",
       "   became_member_year_2017  became_member_year_2018  gender_F  gender_M  \\\n",
       "0                        1                        0         0         0   \n",
       "1                        1                        0         1         0   \n",
       "2                        0                        1         0         0   \n",
       "3                        1                        0         1         0   \n",
       "4                        1                        0         0         0   \n",
       "\n",
       "   gender_N  gender_O  \n",
       "0         1         0  \n",
       "1         0         0  \n",
       "2         1         0  \n",
       "3         0         0  \n",
       "4         1         0  \n",
       "\n",
       "[5 rows x 29 columns]"
      ]
     },
     "execution_count": 20,
     "metadata": {},
     "output_type": "execute_result"
    }
   ],
   "source": [
    "df.head(5)"
   ]
  },
  {
   "cell_type": "code",
   "execution_count": 21,
   "metadata": {},
   "outputs": [],
   "source": [
    "df = df.loc[df['offer_type'] != 'none', :]"
   ]
  },
  {
   "cell_type": "code",
   "execution_count": 49,
   "metadata": {},
   "outputs": [],
   "source": [
    "from sklearn.preprocessing import LabelEncoder\n",
    "\n",
    "\n",
    "X = df.drop('offer_type', axis=1)\n",
    "y = df['offer_type']\n",
    "\n",
    "le = LabelEncoder()\n",
    "y = le.fit_transform(y)"
   ]
  },
  {
   "cell_type": "code",
   "execution_count": 48,
   "metadata": {},
   "outputs": [],
   "source": [
    "from sklearn.model_selection import train_test_split\n",
    "from sklearn.metrics import accuracy_score, f1_score\n",
    "\n",
    "X_train, X_test, y_train, y_test = train_test_split(X, y, random_state=7, test_size=0.2)"
   ]
  },
  {
   "cell_type": "code",
   "execution_count": 24,
   "metadata": {},
   "outputs": [
    {
     "name": "stdout",
     "output_type": "stream",
     "text": [
      "(10186, 28)\n",
      "(2547, 28)\n",
      "(10186,)\n",
      "(2547,)\n"
     ]
    }
   ],
   "source": [
    "print(X_train.shape)\n",
    "print(X_test.shape)\n",
    "print(y_train.shape)\n",
    "print(y_test.shape)\n"
   ]
  },
  {
   "cell_type": "code",
   "execution_count": 25,
   "metadata": {},
   "outputs": [
    {
     "data": {
      "text/plain": [
       "SVC(C=1.0, cache_size=200, class_weight=None, coef0=0.0,\n",
       "    decision_function_shape='ovr', degree=3, gamma='auto_deprecated',\n",
       "    kernel='rbf', max_iter=-1, probability=False, random_state=None,\n",
       "    shrinking=True, tol=0.001, verbose=False)"
      ]
     },
     "execution_count": 25,
     "metadata": {},
     "output_type": "execute_result"
    }
   ],
   "source": [
    "from sklearn.svm import SVC\n",
    "\n",
    "modelSVC = SVC()\n",
    "modelSVC.fit(X_train, y_train)"
   ]
  },
  {
   "cell_type": "code",
   "execution_count": 26,
   "metadata": {},
   "outputs": [],
   "source": [
    "prediction = modelSVC.predict(X_test)"
   ]
  },
  {
   "cell_type": "code",
   "execution_count": 27,
   "metadata": {},
   "outputs": [
    {
     "data": {
      "text/plain": [
       "0.7412642324303101"
      ]
     },
     "execution_count": 27,
     "metadata": {},
     "output_type": "execute_result"
    }
   ],
   "source": [
    "accuracy_score(y_test, prediction)"
   ]
  },
  {
   "cell_type": "code",
   "execution_count": 28,
   "metadata": {},
   "outputs": [
    {
     "data": {
      "text/plain": [
       "RandomForestClassifier(bootstrap=True, class_weight=None, criterion='gini',\n",
       "                       max_depth=None, max_features='auto', max_leaf_nodes=None,\n",
       "                       min_impurity_decrease=0.0, min_impurity_split=None,\n",
       "                       min_samples_leaf=1, min_samples_split=2,\n",
       "                       min_weight_fraction_leaf=0.0, n_estimators=10,\n",
       "                       n_jobs=None, oob_score=False, random_state=None,\n",
       "                       verbose=0, warm_start=False)"
      ]
     },
     "execution_count": 28,
     "metadata": {},
     "output_type": "execute_result"
    }
   ],
   "source": [
    "from sklearn.ensemble import RandomForestClassifier\n",
    "modelRFC = RandomForestClassifier(n_estimators=10)\n",
    "modelRFC.fit(X_train, y_train)"
   ]
  },
  {
   "cell_type": "code",
   "execution_count": 29,
   "metadata": {},
   "outputs": [
    {
     "data": {
      "text/plain": [
       "0.7357675696898311"
      ]
     },
     "execution_count": 29,
     "metadata": {},
     "output_type": "execute_result"
    }
   ],
   "source": [
    "predictionRFC = modelRFC.predict(X_test)\n",
    "accuracy_score(y_test, predictionRFC)"
   ]
  },
  {
   "cell_type": "code",
   "execution_count": 30,
   "metadata": {},
   "outputs": [
    {
     "data": {
      "text/plain": [
       "GradientBoostingClassifier(criterion='friedman_mse', init=None,\n",
       "                           learning_rate=0.1, loss='deviance', max_depth=3,\n",
       "                           max_features=None, max_leaf_nodes=None,\n",
       "                           min_impurity_decrease=0.0, min_impurity_split=None,\n",
       "                           min_samples_leaf=1, min_samples_split=2,\n",
       "                           min_weight_fraction_leaf=0.0, n_estimators=100,\n",
       "                           n_iter_no_change=None, presort='auto',\n",
       "                           random_state=None, subsample=1.0, tol=0.0001,\n",
       "                           validation_fraction=0.1, verbose=0,\n",
       "                           warm_start=False)"
      ]
     },
     "execution_count": 30,
     "metadata": {},
     "output_type": "execute_result"
    }
   ],
   "source": [
    "from sklearn.ensemble import GradientBoostingClassifier\n",
    "\n",
    "modelGBC = GradientBoostingClassifier()\n",
    "modelGBC.fit(X_train, y_train)"
   ]
  },
  {
   "cell_type": "code",
   "execution_count": 31,
   "metadata": {},
   "outputs": [
    {
     "data": {
      "text/plain": [
       "0.7412642324303101"
      ]
     },
     "execution_count": 31,
     "metadata": {},
     "output_type": "execute_result"
    }
   ],
   "source": [
    "predictGBC = modelGBC.predict(X_test)\n",
    "accuracy_score(y_test, predictGBC)"
   ]
  },
  {
   "cell_type": "code",
   "execution_count": 32,
   "metadata": {},
   "outputs": [
    {
     "name": "stdout",
     "output_type": "stream",
     "text": [
      "Fitting 3 folds for each of 9 candidates, totalling 27 fits\n",
      "[CV] learning_rate=0.1, n_estimators=100 .............................\n"
     ]
    },
    {
     "name": "stderr",
     "output_type": "stream",
     "text": [
      "[Parallel(n_jobs=1)]: Using backend SequentialBackend with 1 concurrent workers.\n"
     ]
    },
    {
     "name": "stdout",
     "output_type": "stream",
     "text": [
      "[CV] . learning_rate=0.1, n_estimators=100, score=0.734, total=   0.5s\n",
      "[CV] learning_rate=0.1, n_estimators=100 .............................\n"
     ]
    },
    {
     "name": "stderr",
     "output_type": "stream",
     "text": [
      "[Parallel(n_jobs=1)]: Done   1 out of   1 | elapsed:    0.5s remaining:    0.0s\n"
     ]
    },
    {
     "name": "stdout",
     "output_type": "stream",
     "text": [
      "[CV] . learning_rate=0.1, n_estimators=100, score=0.732, total=   0.5s\n",
      "[CV] learning_rate=0.1, n_estimators=100 .............................\n"
     ]
    },
    {
     "name": "stderr",
     "output_type": "stream",
     "text": [
      "[Parallel(n_jobs=1)]: Done   2 out of   2 | elapsed:    1.0s remaining:    0.0s\n"
     ]
    },
    {
     "name": "stdout",
     "output_type": "stream",
     "text": [
      "[CV] . learning_rate=0.1, n_estimators=100, score=0.730, total=   0.5s\n",
      "[CV] learning_rate=0.1, n_estimators=150 .............................\n"
     ]
    },
    {
     "name": "stderr",
     "output_type": "stream",
     "text": [
      "[Parallel(n_jobs=1)]: Done   3 out of   3 | elapsed:    1.4s remaining:    0.0s\n"
     ]
    },
    {
     "name": "stdout",
     "output_type": "stream",
     "text": [
      "[CV] . learning_rate=0.1, n_estimators=150, score=0.734, total=   0.7s\n",
      "[CV] learning_rate=0.1, n_estimators=150 .............................\n"
     ]
    },
    {
     "name": "stderr",
     "output_type": "stream",
     "text": [
      "[Parallel(n_jobs=1)]: Done   4 out of   4 | elapsed:    2.1s remaining:    0.0s\n"
     ]
    },
    {
     "name": "stdout",
     "output_type": "stream",
     "text": [
      "[CV] . learning_rate=0.1, n_estimators=150, score=0.732, total=   0.7s\n",
      "[CV] learning_rate=0.1, n_estimators=150 .............................\n"
     ]
    },
    {
     "name": "stderr",
     "output_type": "stream",
     "text": [
      "[Parallel(n_jobs=1)]: Done   5 out of   5 | elapsed:    2.8s remaining:    0.0s\n"
     ]
    },
    {
     "name": "stdout",
     "output_type": "stream",
     "text": [
      "[CV] . learning_rate=0.1, n_estimators=150, score=0.729, total=   0.7s\n",
      "[CV] learning_rate=0.1, n_estimators=200 .............................\n"
     ]
    },
    {
     "name": "stderr",
     "output_type": "stream",
     "text": [
      "[Parallel(n_jobs=1)]: Done   6 out of   6 | elapsed:    3.5s remaining:    0.0s\n"
     ]
    },
    {
     "name": "stdout",
     "output_type": "stream",
     "text": [
      "[CV] . learning_rate=0.1, n_estimators=200, score=0.732, total=   0.9s\n",
      "[CV] learning_rate=0.1, n_estimators=200 .............................\n"
     ]
    },
    {
     "name": "stderr",
     "output_type": "stream",
     "text": [
      "[Parallel(n_jobs=1)]: Done   7 out of   7 | elapsed:    4.4s remaining:    0.0s\n"
     ]
    },
    {
     "name": "stdout",
     "output_type": "stream",
     "text": [
      "[CV] . learning_rate=0.1, n_estimators=200, score=0.728, total=   1.0s\n",
      "[CV] learning_rate=0.1, n_estimators=200 .............................\n"
     ]
    },
    {
     "name": "stderr",
     "output_type": "stream",
     "text": [
      "[Parallel(n_jobs=1)]: Done   8 out of   8 | elapsed:    5.4s remaining:    0.0s\n"
     ]
    },
    {
     "name": "stdout",
     "output_type": "stream",
     "text": [
      "[CV] . learning_rate=0.1, n_estimators=200, score=0.727, total=   0.9s\n",
      "[CV] learning_rate=0.3, n_estimators=100 .............................\n"
     ]
    },
    {
     "name": "stderr",
     "output_type": "stream",
     "text": [
      "[Parallel(n_jobs=1)]: Done   9 out of   9 | elapsed:    6.3s remaining:    0.0s\n"
     ]
    },
    {
     "name": "stdout",
     "output_type": "stream",
     "text": [
      "[CV] . learning_rate=0.3, n_estimators=100, score=0.727, total=   0.5s\n",
      "[CV] learning_rate=0.3, n_estimators=100 .............................\n",
      "[CV] . learning_rate=0.3, n_estimators=100, score=0.724, total=   0.5s\n",
      "[CV] learning_rate=0.3, n_estimators=100 .............................\n",
      "[CV] . learning_rate=0.3, n_estimators=100, score=0.723, total=   0.5s\n",
      "[CV] learning_rate=0.3, n_estimators=150 .............................\n",
      "[CV] . learning_rate=0.3, n_estimators=150, score=0.727, total=   0.7s\n",
      "[CV] learning_rate=0.3, n_estimators=150 .............................\n",
      "[CV] . learning_rate=0.3, n_estimators=150, score=0.722, total=   0.7s\n",
      "[CV] learning_rate=0.3, n_estimators=150 .............................\n",
      "[CV] . learning_rate=0.3, n_estimators=150, score=0.724, total=   0.7s\n",
      "[CV] learning_rate=0.3, n_estimators=200 .............................\n",
      "[CV] . learning_rate=0.3, n_estimators=200, score=0.728, total=   0.8s\n",
      "[CV] learning_rate=0.3, n_estimators=200 .............................\n",
      "[CV] . learning_rate=0.3, n_estimators=200, score=0.720, total=   0.8s\n",
      "[CV] learning_rate=0.3, n_estimators=200 .............................\n",
      "[CV] . learning_rate=0.3, n_estimators=200, score=0.725, total=   0.8s\n",
      "[CV] learning_rate=1, n_estimators=100 ...............................\n",
      "[CV] ... learning_rate=1, n_estimators=100, score=0.723, total=   0.4s\n",
      "[CV] learning_rate=1, n_estimators=100 ...............................\n",
      "[CV] ... learning_rate=1, n_estimators=100, score=0.716, total=   0.4s\n",
      "[CV] learning_rate=1, n_estimators=100 ...............................\n",
      "[CV] ... learning_rate=1, n_estimators=100, score=0.722, total=   0.5s\n",
      "[CV] learning_rate=1, n_estimators=150 ...............................\n",
      "[CV] ... learning_rate=1, n_estimators=150, score=0.718, total=   0.6s\n",
      "[CV] learning_rate=1, n_estimators=150 ...............................\n",
      "[CV] ... learning_rate=1, n_estimators=150, score=0.713, total=   0.7s\n",
      "[CV] learning_rate=1, n_estimators=150 ...............................\n",
      "[CV] ... learning_rate=1, n_estimators=150, score=0.724, total=   0.6s\n",
      "[CV] learning_rate=1, n_estimators=200 ...............................\n",
      "[CV] ... learning_rate=1, n_estimators=200, score=0.718, total=   0.8s\n",
      "[CV] learning_rate=1, n_estimators=200 ...............................\n",
      "[CV] ... learning_rate=1, n_estimators=200, score=0.713, total=   0.9s\n",
      "[CV] learning_rate=1, n_estimators=200 ...............................\n",
      "[CV] ... learning_rate=1, n_estimators=200, score=0.717, total=   0.9s\n"
     ]
    },
    {
     "name": "stderr",
     "output_type": "stream",
     "text": [
      "[Parallel(n_jobs=1)]: Done  27 out of  27 | elapsed:   18.2s finished\n"
     ]
    }
   ],
   "source": [
    "from sklearn.model_selection import GridSearchCV\n",
    "from sklearn.metrics import make_scorer, accuracy_score\n",
    "from sklearn.ensemble import GradientBoostingClassifier\n",
    "\n",
    "parameters = {'n_estimators': [100, 150, 200], \n",
    "              'learning_rate': [0.1, 0.3, 1]}\n",
    "\n",
    "scorer = make_scorer(accuracy_score)\n",
    "clf = GradientBoostingClassifier()\n",
    "grid_obj = GridSearchCV(clf, parameters, scorer, verbose=10)\n",
    "grid_fit = grid_obj.fit(X_train, y_train)\n",
    "best_clf = grid_fit.best_estimator_"
   ]
  },
  {
   "cell_type": "code",
   "execution_count": 33,
   "metadata": {},
   "outputs": [
    {
     "data": {
      "text/plain": [
       "0.7424420887318414"
      ]
     },
     "execution_count": 33,
     "metadata": {},
     "output_type": "execute_result"
    }
   ],
   "source": [
    "from sklearn.ensemble import AdaBoostClassifier\n",
    "\n",
    "modelAda = AdaBoostClassifier()\n",
    "modelAda.fit(X_train, y_train)\n",
    "preds = modelAda.predict(X_test)\n",
    "accuracy_score(y_test, preds)"
   ]
  },
  {
   "cell_type": "code",
   "execution_count": 34,
   "metadata": {
    "scrolled": true
   },
   "outputs": [
    {
     "name": "stdout",
     "output_type": "stream",
     "text": [
      "Fitting 3 folds for each of 9 candidates, totalling 27 fits\n",
      "[CV] learning_rate=0.1, n_estimators=100 .............................\n"
     ]
    },
    {
     "name": "stderr",
     "output_type": "stream",
     "text": [
      "[Parallel(n_jobs=1)]: Using backend SequentialBackend with 1 concurrent workers.\n"
     ]
    },
    {
     "name": "stdout",
     "output_type": "stream",
     "text": [
      "[CV] . learning_rate=0.1, n_estimators=100, score=0.728, total=   0.4s\n",
      "[CV] learning_rate=0.1, n_estimators=100 .............................\n"
     ]
    },
    {
     "name": "stderr",
     "output_type": "stream",
     "text": [
      "[Parallel(n_jobs=1)]: Done   1 out of   1 | elapsed:    0.4s remaining:    0.0s\n"
     ]
    },
    {
     "name": "stdout",
     "output_type": "stream",
     "text": [
      "[CV] . learning_rate=0.1, n_estimators=100, score=0.730, total=   0.4s\n",
      "[CV] learning_rate=0.1, n_estimators=100 .............................\n"
     ]
    },
    {
     "name": "stderr",
     "output_type": "stream",
     "text": [
      "[Parallel(n_jobs=1)]: Done   2 out of   2 | elapsed:    0.8s remaining:    0.0s\n"
     ]
    },
    {
     "name": "stdout",
     "output_type": "stream",
     "text": [
      "[CV] . learning_rate=0.1, n_estimators=100, score=0.729, total=   0.4s\n",
      "[CV] learning_rate=0.1, n_estimators=150 .............................\n"
     ]
    },
    {
     "name": "stderr",
     "output_type": "stream",
     "text": [
      "[Parallel(n_jobs=1)]: Done   3 out of   3 | elapsed:    1.2s remaining:    0.0s\n"
     ]
    },
    {
     "name": "stdout",
     "output_type": "stream",
     "text": [
      "[CV] . learning_rate=0.1, n_estimators=150, score=0.728, total=   0.6s\n",
      "[CV] learning_rate=0.1, n_estimators=150 .............................\n"
     ]
    },
    {
     "name": "stderr",
     "output_type": "stream",
     "text": [
      "[Parallel(n_jobs=1)]: Done   4 out of   4 | elapsed:    1.8s remaining:    0.0s\n"
     ]
    },
    {
     "name": "stdout",
     "output_type": "stream",
     "text": [
      "[CV] . learning_rate=0.1, n_estimators=150, score=0.730, total=   0.6s\n",
      "[CV] learning_rate=0.1, n_estimators=150 .............................\n"
     ]
    },
    {
     "name": "stderr",
     "output_type": "stream",
     "text": [
      "[Parallel(n_jobs=1)]: Done   5 out of   5 | elapsed:    2.4s remaining:    0.0s\n"
     ]
    },
    {
     "name": "stdout",
     "output_type": "stream",
     "text": [
      "[CV] . learning_rate=0.1, n_estimators=150, score=0.729, total=   0.6s\n",
      "[CV] learning_rate=0.1, n_estimators=200 .............................\n"
     ]
    },
    {
     "name": "stderr",
     "output_type": "stream",
     "text": [
      "[Parallel(n_jobs=1)]: Done   6 out of   6 | elapsed:    3.0s remaining:    0.0s\n"
     ]
    },
    {
     "name": "stdout",
     "output_type": "stream",
     "text": [
      "[CV] . learning_rate=0.1, n_estimators=200, score=0.728, total=   0.8s\n",
      "[CV] learning_rate=0.1, n_estimators=200 .............................\n"
     ]
    },
    {
     "name": "stderr",
     "output_type": "stream",
     "text": [
      "[Parallel(n_jobs=1)]: Done   7 out of   7 | elapsed:    3.8s remaining:    0.0s\n"
     ]
    },
    {
     "name": "stdout",
     "output_type": "stream",
     "text": [
      "[CV] . learning_rate=0.1, n_estimators=200, score=0.730, total=   0.8s\n",
      "[CV] learning_rate=0.1, n_estimators=200 .............................\n"
     ]
    },
    {
     "name": "stderr",
     "output_type": "stream",
     "text": [
      "[Parallel(n_jobs=1)]: Done   8 out of   8 | elapsed:    4.6s remaining:    0.0s\n"
     ]
    },
    {
     "name": "stdout",
     "output_type": "stream",
     "text": [
      "[CV] . learning_rate=0.1, n_estimators=200, score=0.729, total=   0.7s\n",
      "[CV] learning_rate=0.3, n_estimators=100 .............................\n"
     ]
    },
    {
     "name": "stderr",
     "output_type": "stream",
     "text": [
      "[Parallel(n_jobs=1)]: Done   9 out of   9 | elapsed:    5.3s remaining:    0.0s\n"
     ]
    },
    {
     "name": "stdout",
     "output_type": "stream",
     "text": [
      "[CV] . learning_rate=0.3, n_estimators=100, score=0.728, total=   0.4s\n",
      "[CV] learning_rate=0.3, n_estimators=100 .............................\n",
      "[CV] . learning_rate=0.3, n_estimators=100, score=0.730, total=   0.4s\n",
      "[CV] learning_rate=0.3, n_estimators=100 .............................\n",
      "[CV] . learning_rate=0.3, n_estimators=100, score=0.729, total=   0.4s\n",
      "[CV] learning_rate=0.3, n_estimators=150 .............................\n",
      "[CV] . learning_rate=0.3, n_estimators=150, score=0.728, total=   0.6s\n",
      "[CV] learning_rate=0.3, n_estimators=150 .............................\n",
      "[CV] . learning_rate=0.3, n_estimators=150, score=0.730, total=   0.6s\n",
      "[CV] learning_rate=0.3, n_estimators=150 .............................\n",
      "[CV] . learning_rate=0.3, n_estimators=150, score=0.728, total=   0.6s\n",
      "[CV] learning_rate=0.3, n_estimators=200 .............................\n",
      "[CV] . learning_rate=0.3, n_estimators=200, score=0.728, total=   0.8s\n",
      "[CV] learning_rate=0.3, n_estimators=200 .............................\n",
      "[CV] . learning_rate=0.3, n_estimators=200, score=0.730, total=   0.8s\n",
      "[CV] learning_rate=0.3, n_estimators=200 .............................\n",
      "[CV] . learning_rate=0.3, n_estimators=200, score=0.728, total=   0.8s\n",
      "[CV] learning_rate=1, n_estimators=100 ...............................\n",
      "[CV] ... learning_rate=1, n_estimators=100, score=0.728, total=   0.4s\n",
      "[CV] learning_rate=1, n_estimators=100 ...............................\n",
      "[CV] ... learning_rate=1, n_estimators=100, score=0.730, total=   0.4s\n",
      "[CV] learning_rate=1, n_estimators=100 ...............................\n",
      "[CV] ... learning_rate=1, n_estimators=100, score=0.728, total=   0.4s\n",
      "[CV] learning_rate=1, n_estimators=150 ...............................\n",
      "[CV] ... learning_rate=1, n_estimators=150, score=0.728, total=   0.6s\n",
      "[CV] learning_rate=1, n_estimators=150 ...............................\n",
      "[CV] ... learning_rate=1, n_estimators=150, score=0.730, total=   0.6s\n",
      "[CV] learning_rate=1, n_estimators=150 ...............................\n",
      "[CV] ... learning_rate=1, n_estimators=150, score=0.728, total=   0.6s\n",
      "[CV] learning_rate=1, n_estimators=200 ...............................\n",
      "[CV] ... learning_rate=1, n_estimators=200, score=0.728, total=   0.7s\n",
      "[CV] learning_rate=1, n_estimators=200 ...............................\n",
      "[CV] ... learning_rate=1, n_estimators=200, score=0.730, total=   0.8s\n",
      "[CV] learning_rate=1, n_estimators=200 ...............................\n",
      "[CV] ... learning_rate=1, n_estimators=200, score=0.728, total=   0.8s\n"
     ]
    },
    {
     "name": "stderr",
     "output_type": "stream",
     "text": [
      "[Parallel(n_jobs=1)]: Done  27 out of  27 | elapsed:   16.3s finished\n"
     ]
    }
   ],
   "source": [
    "param_grid = {\"base_estimator__criterion\" : [\"gini\", \"entropy\"],\n",
    "              \"base_estimator__splitter\" :   [\"best\", \"random\"],\n",
    "              \"n_estimators\": [50, 100, 150, 200, 250, 300],\n",
    "              \"learning_rate\": [0.003, 0.03, 0.3, 1]\n",
    "             }\n",
    "\n",
    "scorer = make_scorer(accuracy_score)\n",
    "clf = AdaBoostClassifier()\n",
    "grid_obj = GridSearchCV(clf, parameters, scorer, verbose=10)\n",
    "grid_fit = grid_obj.fit(X_train, y_train)\n",
    "best_clf = grid_fit.best_estimator_"
   ]
  },
  {
   "cell_type": "code",
   "execution_count": 35,
   "metadata": {},
   "outputs": [
    {
     "data": {
      "text/plain": [
       "0.7424420887318414"
      ]
     },
     "execution_count": 35,
     "metadata": {},
     "output_type": "execute_result"
    }
   ],
   "source": [
    "accuracy_score(y_test, best_clf.predict(X_test))"
   ]
  }
 ],
 "metadata": {
  "kernelspec": {
   "display_name": "Python 3",
   "language": "python",
   "name": "python3"
  },
  "language_info": {
   "codemirror_mode": {
    "name": "ipython",
    "version": 3
   },
   "file_extension": ".py",
   "mimetype": "text/x-python",
   "name": "python",
   "nbconvert_exporter": "python",
   "pygments_lexer": "ipython3",
   "version": "3.7.4"
  }
 },
 "nbformat": 4,
 "nbformat_minor": 2
}
